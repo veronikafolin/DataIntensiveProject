{
  "nbformat": 4,
  "nbformat_minor": 0,
  "metadata": {
    "accelerator": "TPU",
    "colab": {
      "name": "Vehicle Insurance Sell Prediction.ipynb",
      "provenance": [],
      "collapsed_sections": [
        "kq6_E7T-HGTh",
        "H3oiWkOeFfM5",
        "CuZNzaROBQm3",
        "AiH2CwV6BbwF",
        "03NNgBPzTwfO",
        "ikiQaa3zUcsL",
        "kZiSiLD8d0_P",
        "0yAq3r_NcPmi",
        "BmAdaIIYiqfN",
        "d2eJfa0gnmx5",
        "gSOZPUQvdEDd",
        "IMGoXMlahQsN",
        "oyPbwA4Mh6e9",
        "RkigmClOrwDw",
        "mp2d8EjPPQty",
        "WJf6QvZTWjyd",
        "zT2VvvlNpUqu",
        "Jt1k_gKSqfiq",
        "9zhiLCe_UvyA",
        "IAt7GR6ZsyDC"
      ],
      "authorship_tag": "ABX9TyN5RZSHFehE2Y1tMNWymnYA",
      "include_colab_link": true
    },
    "kernelspec": {
      "display_name": "Python 3",
      "name": "python3"
    },
    "language_info": {
      "name": "python"
    }
  },
  "cells": [
    {
      "cell_type": "markdown",
      "metadata": {
        "id": "view-in-github",
        "colab_type": "text"
      },
      "source": [
        "<a href=\"https://colab.research.google.com/github/veronikafolin/progettoDataIntensive/blob/main/Vehicle_Insurance_Sell_Prediction.ipynb\" target=\"_parent\"><img src=\"https://colab.research.google.com/assets/colab-badge.svg\" alt=\"Open In Colab\"/></a>"
      ]
    },
    {
      "cell_type": "markdown",
      "metadata": {
        "id": "WSqA875fbulB"
      },
      "source": [
        "# Vehicle Insurance Sell Prediction\n",
        "\n",
        "Veronika Folin- \n",
        "veronika.folin@studio.unibo.it\n",
        "\n",
        "Progetto di Programmazione di Applicazioni Data Intensive <br>\n",
        "Corso di Laurea in Ingegneria e Scienze Informatiche <br>\n",
        "Proff. Gianluca Moro, Roberto Pasolini\n",
        "\n",
        "Dataset: https://www.kaggle.com/anmolkumar/health-insurance-cross-sell-prediction"
      ]
    },
    {
      "cell_type": "markdown",
      "metadata": {
        "id": "rRqnJfBjbmmH"
      },
      "source": [
        "## Descrizione del problema e comprensione delle feature"
      ]
    },
    {
      "cell_type": "markdown",
      "metadata": {
        "id": "XQnDvIVActtP"
      },
      "source": [
        "In questo progetto si vuole predire la possibilità che un cliente di una compagnia assicurativa sanitaria possa essere interessato a stipulare un contratto di assicurazione sul veicolo. <br> \n",
        "Ciò è estremamente utile per una strategia di comunicazione efficace, volta ad assicurarsi nuova clientela possibilmente fedele."
      ]
    },
    {
      "cell_type": "markdown",
      "metadata": {
        "id": "0hN1Uea8f26q"
      },
      "source": [
        "**Import necessarie**"
      ]
    },
    {
      "cell_type": "code",
      "metadata": {
        "id": "lXcXzZbSf6KF",
        "colab": {
          "base_uri": "https://localhost:8080/"
        },
        "outputId": "95dc5080-8b7b-4012-9c42-5b9bafe7683a"
      },
      "source": [
        "import os.path\n",
        "from urllib.request import urlretrieve\n",
        "import numpy as np\n",
        "import pandas as pd \n",
        "import matplotlib.pyplot as plt\n",
        "import seaborn as sns\n",
        "import sklearn\n",
        "from imblearn.over_sampling import SMOTE\n",
        "from imblearn.under_sampling import RandomUnderSampler\n",
        "from sklearn.model_selection import train_test_split\n",
        "from sklearn.preprocessing import StandardScaler\n",
        "from sklearn.linear_model import Perceptron\n",
        "from sklearn.pipeline import Pipeline\n",
        "from sklearn.preprocessing import PolynomialFeatures\n",
        "from sklearn.metrics import confusion_matrix\n",
        "from sklearn.metrics import precision_score, recall_score, f1_score\n",
        "from sklearn.model_selection import KFold, StratifiedKFold\n",
        "from sklearn.model_selection import GridSearchCV\n",
        "from sklearn.metrics import mean_squared_error\n",
        "from sklearn.linear_model import LogisticRegression\n",
        "from sklearn.svm import SVC\n",
        "from sklearn.tree import DecisionTreeClassifier\n",
        "import graphviz\n",
        "from sklearn import tree\n",
        "from xgboost import XGBClassifier\n",
        "from sklearn.dummy import DummyClassifier"
      ],
      "execution_count": 1,
      "outputs": [
        {
          "output_type": "stream",
          "text": [
            "/usr/local/lib/python3.7/dist-packages/sklearn/externals/six.py:31: FutureWarning: The module is deprecated in version 0.21 and will be removed in version 0.23 since we've dropped support for Python 2.7. Please rely on the official version of six (https://pypi.org/project/six/).\n",
            "  \"(https://pypi.org/project/six/).\", FutureWarning)\n",
            "/usr/local/lib/python3.7/dist-packages/sklearn/utils/deprecation.py:144: FutureWarning: The sklearn.neighbors.base module is  deprecated in version 0.22 and will be removed in version 0.24. The corresponding classes / functions should instead be imported from sklearn.neighbors. Anything that cannot be imported from sklearn.neighbors is now part of the private API.\n",
            "  warnings.warn(message, FutureWarning)\n"
          ],
          "name": "stderr"
        }
      ]
    },
    {
      "cell_type": "markdown",
      "metadata": {
        "id": "QJl9EzdgfQd2"
      },
      "source": [
        "**Caricamento del dataset**"
      ]
    },
    {
      "cell_type": "markdown",
      "metadata": {
        "id": "mblunlNQgwG0"
      },
      "source": [
        "L'autore del dataset mette a disposizione i dati già suddivisi in train-set e test-set. Utilizzerò solamente il primo dataset per effettuare la K-Fold Cross Validation, in quanto fornisce i dati etichettati."
      ]
    },
    {
      "cell_type": "code",
      "metadata": {
        "id": "63ETxKtxfWO-"
      },
      "source": [
        "dataset_url = \"https://raw.githubusercontent.com/veronikafolin/progettoDataIntensive/main/datasetProgetto/train.csv\"\n",
        "if not os.path.exists(\"vehicle-insurance-sell-prediction-train.csv\"):\n",
        "    urlretrieve(dataset_url, \"vehicle-insurance-sell-prediction-train.csv\")"
      ],
      "execution_count": 2,
      "outputs": []
    },
    {
      "cell_type": "code",
      "metadata": {
        "id": "aWStqyfbiGqc"
      },
      "source": [
        "dataset = pd.read_csv(\"vehicle-insurance-sell-prediction-train.csv\")"
      ],
      "execution_count": 3,
      "outputs": []
    },
    {
      "cell_type": "code",
      "metadata": {
        "colab": {
          "base_uri": "https://localhost:8080/"
        },
        "id": "6Z6oPIyqtz1s",
        "outputId": "6d16545a-a6aa-4163-adb7-2b3bc144fb33"
      },
      "source": [
        "dataset.head()"
      ],
      "execution_count": null,
      "outputs": [
        {
          "output_type": "execute_result",
          "data": {
            "text/html": [
              "<div>\n",
              "<style scoped>\n",
              "    .dataframe tbody tr th:only-of-type {\n",
              "        vertical-align: middle;\n",
              "    }\n",
              "\n",
              "    .dataframe tbody tr th {\n",
              "        vertical-align: top;\n",
              "    }\n",
              "\n",
              "    .dataframe thead th {\n",
              "        text-align: right;\n",
              "    }\n",
              "</style>\n",
              "<table border=\"1\" class=\"dataframe\">\n",
              "  <thead>\n",
              "    <tr style=\"text-align: right;\">\n",
              "      <th></th>\n",
              "      <th>id</th>\n",
              "      <th>Gender</th>\n",
              "      <th>Age</th>\n",
              "      <th>Driving_License</th>\n",
              "      <th>Region_Code</th>\n",
              "      <th>Previously_Insured</th>\n",
              "      <th>Vehicle_Age</th>\n",
              "      <th>Vehicle_Damage</th>\n",
              "      <th>Annual_Premium</th>\n",
              "      <th>Policy_Sales_Channel</th>\n",
              "      <th>Vintage</th>\n",
              "      <th>Response</th>\n",
              "    </tr>\n",
              "  </thead>\n",
              "  <tbody>\n",
              "    <tr>\n",
              "      <th>0</th>\n",
              "      <td>1</td>\n",
              "      <td>Male</td>\n",
              "      <td>44</td>\n",
              "      <td>1</td>\n",
              "      <td>28.0</td>\n",
              "      <td>0</td>\n",
              "      <td>&gt; 2 Years</td>\n",
              "      <td>Yes</td>\n",
              "      <td>40454.0</td>\n",
              "      <td>26.0</td>\n",
              "      <td>217</td>\n",
              "      <td>1</td>\n",
              "    </tr>\n",
              "    <tr>\n",
              "      <th>1</th>\n",
              "      <td>2</td>\n",
              "      <td>Male</td>\n",
              "      <td>76</td>\n",
              "      <td>1</td>\n",
              "      <td>3.0</td>\n",
              "      <td>0</td>\n",
              "      <td>1-2 Year</td>\n",
              "      <td>No</td>\n",
              "      <td>33536.0</td>\n",
              "      <td>26.0</td>\n",
              "      <td>183</td>\n",
              "      <td>0</td>\n",
              "    </tr>\n",
              "    <tr>\n",
              "      <th>2</th>\n",
              "      <td>3</td>\n",
              "      <td>Male</td>\n",
              "      <td>47</td>\n",
              "      <td>1</td>\n",
              "      <td>28.0</td>\n",
              "      <td>0</td>\n",
              "      <td>&gt; 2 Years</td>\n",
              "      <td>Yes</td>\n",
              "      <td>38294.0</td>\n",
              "      <td>26.0</td>\n",
              "      <td>27</td>\n",
              "      <td>1</td>\n",
              "    </tr>\n",
              "    <tr>\n",
              "      <th>3</th>\n",
              "      <td>4</td>\n",
              "      <td>Male</td>\n",
              "      <td>21</td>\n",
              "      <td>1</td>\n",
              "      <td>11.0</td>\n",
              "      <td>1</td>\n",
              "      <td>&lt; 1 Year</td>\n",
              "      <td>No</td>\n",
              "      <td>28619.0</td>\n",
              "      <td>152.0</td>\n",
              "      <td>203</td>\n",
              "      <td>0</td>\n",
              "    </tr>\n",
              "    <tr>\n",
              "      <th>4</th>\n",
              "      <td>5</td>\n",
              "      <td>Female</td>\n",
              "      <td>29</td>\n",
              "      <td>1</td>\n",
              "      <td>41.0</td>\n",
              "      <td>1</td>\n",
              "      <td>&lt; 1 Year</td>\n",
              "      <td>No</td>\n",
              "      <td>27496.0</td>\n",
              "      <td>152.0</td>\n",
              "      <td>39</td>\n",
              "      <td>0</td>\n",
              "    </tr>\n",
              "  </tbody>\n",
              "</table>\n",
              "</div>"
            ],
            "text/plain": [
              "   id  Gender  Age  ...  Policy_Sales_Channel  Vintage  Response\n",
              "0   1    Male   44  ...                  26.0      217         1\n",
              "1   2    Male   76  ...                  26.0      183         0\n",
              "2   3    Male   47  ...                  26.0       27         1\n",
              "3   4    Male   21  ...                 152.0      203         0\n",
              "4   5  Female   29  ...                 152.0       39         0\n",
              "\n",
              "[5 rows x 12 columns]"
            ]
          },
          "metadata": {
            "tags": []
          },
          "execution_count": 5
        }
      ]
    },
    {
      "cell_type": "markdown",
      "metadata": {
        "id": "Kiys_htv3RNR"
      },
      "source": [
        "Impostiamo l'id del cliente come index del DataFrame"
      ]
    },
    {
      "cell_type": "code",
      "metadata": {
        "colab": {
          "base_uri": "https://localhost:8080/"
        },
        "id": "JTS4XRx33XAI",
        "outputId": "cd834384-2670-460c-8fe5-8cdfbfb904fd"
      },
      "source": [
        "dataset.set_index(\"id\", inplace=True)\n",
        "dataset.head()"
      ],
      "execution_count": null,
      "outputs": [
        {
          "output_type": "execute_result",
          "data": {
            "text/html": [
              "<div>\n",
              "<style scoped>\n",
              "    .dataframe tbody tr th:only-of-type {\n",
              "        vertical-align: middle;\n",
              "    }\n",
              "\n",
              "    .dataframe tbody tr th {\n",
              "        vertical-align: top;\n",
              "    }\n",
              "\n",
              "    .dataframe thead th {\n",
              "        text-align: right;\n",
              "    }\n",
              "</style>\n",
              "<table border=\"1\" class=\"dataframe\">\n",
              "  <thead>\n",
              "    <tr style=\"text-align: right;\">\n",
              "      <th></th>\n",
              "      <th>Gender</th>\n",
              "      <th>Age</th>\n",
              "      <th>Driving_License</th>\n",
              "      <th>Region_Code</th>\n",
              "      <th>Previously_Insured</th>\n",
              "      <th>Vehicle_Age</th>\n",
              "      <th>Vehicle_Damage</th>\n",
              "      <th>Annual_Premium</th>\n",
              "      <th>Policy_Sales_Channel</th>\n",
              "      <th>Vintage</th>\n",
              "      <th>Response</th>\n",
              "    </tr>\n",
              "    <tr>\n",
              "      <th>id</th>\n",
              "      <th></th>\n",
              "      <th></th>\n",
              "      <th></th>\n",
              "      <th></th>\n",
              "      <th></th>\n",
              "      <th></th>\n",
              "      <th></th>\n",
              "      <th></th>\n",
              "      <th></th>\n",
              "      <th></th>\n",
              "      <th></th>\n",
              "    </tr>\n",
              "  </thead>\n",
              "  <tbody>\n",
              "    <tr>\n",
              "      <th>1</th>\n",
              "      <td>Male</td>\n",
              "      <td>44</td>\n",
              "      <td>1</td>\n",
              "      <td>28.0</td>\n",
              "      <td>0</td>\n",
              "      <td>&gt; 2 Years</td>\n",
              "      <td>Yes</td>\n",
              "      <td>40454.0</td>\n",
              "      <td>26.0</td>\n",
              "      <td>217</td>\n",
              "      <td>1</td>\n",
              "    </tr>\n",
              "    <tr>\n",
              "      <th>2</th>\n",
              "      <td>Male</td>\n",
              "      <td>76</td>\n",
              "      <td>1</td>\n",
              "      <td>3.0</td>\n",
              "      <td>0</td>\n",
              "      <td>1-2 Year</td>\n",
              "      <td>No</td>\n",
              "      <td>33536.0</td>\n",
              "      <td>26.0</td>\n",
              "      <td>183</td>\n",
              "      <td>0</td>\n",
              "    </tr>\n",
              "    <tr>\n",
              "      <th>3</th>\n",
              "      <td>Male</td>\n",
              "      <td>47</td>\n",
              "      <td>1</td>\n",
              "      <td>28.0</td>\n",
              "      <td>0</td>\n",
              "      <td>&gt; 2 Years</td>\n",
              "      <td>Yes</td>\n",
              "      <td>38294.0</td>\n",
              "      <td>26.0</td>\n",
              "      <td>27</td>\n",
              "      <td>1</td>\n",
              "    </tr>\n",
              "    <tr>\n",
              "      <th>4</th>\n",
              "      <td>Male</td>\n",
              "      <td>21</td>\n",
              "      <td>1</td>\n",
              "      <td>11.0</td>\n",
              "      <td>1</td>\n",
              "      <td>&lt; 1 Year</td>\n",
              "      <td>No</td>\n",
              "      <td>28619.0</td>\n",
              "      <td>152.0</td>\n",
              "      <td>203</td>\n",
              "      <td>0</td>\n",
              "    </tr>\n",
              "    <tr>\n",
              "      <th>5</th>\n",
              "      <td>Female</td>\n",
              "      <td>29</td>\n",
              "      <td>1</td>\n",
              "      <td>41.0</td>\n",
              "      <td>1</td>\n",
              "      <td>&lt; 1 Year</td>\n",
              "      <td>No</td>\n",
              "      <td>27496.0</td>\n",
              "      <td>152.0</td>\n",
              "      <td>39</td>\n",
              "      <td>0</td>\n",
              "    </tr>\n",
              "  </tbody>\n",
              "</table>\n",
              "</div>"
            ],
            "text/plain": [
              "    Gender  Age  Driving_License  ...  Policy_Sales_Channel  Vintage Response\n",
              "id                                ...                                        \n",
              "1     Male   44                1  ...                  26.0      217        1\n",
              "2     Male   76                1  ...                  26.0      183        0\n",
              "3     Male   47                1  ...                  26.0       27        1\n",
              "4     Male   21                1  ...                 152.0      203        0\n",
              "5   Female   29                1  ...                 152.0       39        0\n",
              "\n",
              "[5 rows x 11 columns]"
            ]
          },
          "metadata": {
            "tags": []
          },
          "execution_count": 6
        }
      ]
    },
    {
      "cell_type": "markdown",
      "metadata": {
        "id": "NqVvFbMFvGoF"
      },
      "source": [
        "Il numero di istanze è uguale a:"
      ]
    },
    {
      "cell_type": "code",
      "metadata": {
        "colab": {
          "base_uri": "https://localhost:8080/"
        },
        "id": "-u0pw87avFSg",
        "outputId": "e1aa9f31-edda-4b20-c360-e0729f088e0a"
      },
      "source": [
        "len(dataset)"
      ],
      "execution_count": null,
      "outputs": [
        {
          "output_type": "execute_result",
          "data": {
            "text/plain": [
              "381109"
            ]
          },
          "metadata": {
            "tags": []
          },
          "execution_count": 7
        }
      ]
    },
    {
      "cell_type": "markdown",
      "metadata": {
        "id": "wlhT_lkFEsxH"
      },
      "source": [
        "**Comprensione delle feature**"
      ]
    },
    {
      "cell_type": "markdown",
      "metadata": {
        "id": "3rU3EGPjvgD3"
      },
      "source": [
        "* ***id*** : codice che identifica univocamente il cliente\n",
        "* ***Gender*** : genere del cliente\n",
        "* ***Age*** : età del cliente\n",
        "* ***Driving_License*** : 1 se il cliente possiede la patente, 0 altrimenti\n",
        "* ***Regione_Code*** : codice che identifica univocamente la regione del cliente\n",
        "* ***Previosly_Insured*** : 1 se il cliente è già coperto da un'assicurazione sul veicolo, 0 se non l'ha ancora stipulata\n",
        "* ***Vehicle_Age*** : età del veicolo\n",
        "* ***Vehicle_Damage*** : 1 se il cliente ha danneggiato il veicolo in passato, 0 altrimenti\n",
        "* ***Annual_Premium*** : ammontare del premio assicurativo annuo che il cliente deve pagare\n",
        "* ***PolicySalesChannel*** : codice anonimizzato che identifica il canale di sensibilizzazione del cliente (es: mail, telefono, di persona... )\n",
        "* ***Vintage*** : numero di giorni da cui il cliente è associato alla compagnia assicurativa\n",
        "* ***Response*** : 1 se il cliente è interessato, 0 altrimenti\n",
        "\n",
        "La variabile da predire *Response* è **binaria**, dobbiamo quindi affrontare un problema di **classificazione**.\n"
      ]
    },
    {
      "cell_type": "markdown",
      "metadata": {
        "id": "kq6_E7T-HGTh"
      },
      "source": [
        "## Analisi esplorativa dei dati"
      ]
    },
    {
      "cell_type": "markdown",
      "metadata": {
        "id": "CuZNzaROBQm3"
      },
      "source": [
        "### Esplorazione delle singole feature"
      ]
    },
    {
      "cell_type": "markdown",
      "metadata": {
        "id": "H3oiWkOeFfM5"
      },
      "source": [
        "Il dataset non contiene valori nulli."
      ]
    },
    {
      "cell_type": "code",
      "metadata": {
        "colab": {
          "base_uri": "https://localhost:8080/"
        },
        "id": "9uNq9EiOFeYK",
        "outputId": "9ad9cbfa-4def-41f2-aa60-d84da595c971"
      },
      "source": [
        "dataset.isna().sum()"
      ],
      "execution_count": null,
      "outputs": [
        {
          "output_type": "execute_result",
          "data": {
            "text/plain": [
              "Gender                  0\n",
              "Age                     0\n",
              "Driving_License         0\n",
              "Region_Code             0\n",
              "Previously_Insured      0\n",
              "Vehicle_Age             0\n",
              "Vehicle_Damage          0\n",
              "Annual_Premium          0\n",
              "Policy_Sales_Channel    0\n",
              "Vintage                 0\n",
              "Response                0\n",
              "dtype: int64"
            ]
          },
          "metadata": {
            "tags": []
          },
          "execution_count": 8
        }
      ]
    },
    {
      "cell_type": "code",
      "metadata": {
        "colab": {
          "base_uri": "https://localhost:8080/"
        },
        "id": "Iwuq1sheGvS3",
        "outputId": "4f3e5452-8b1a-47c0-b8f7-f476da2bface"
      },
      "source": [
        "plt.figure(figsize=(20, 15))\n",
        "\n",
        "plt.subplot(3, 3, 1)\n",
        "plt.title('Gender')\n",
        "plt.pie(dataset['Gender'].value_counts(), autopct=\"%.1f%%\", labels=[\"Male\", \"Female\"], colors=[\"blue\", \"pink\"], )\n",
        "\n",
        "plt.subplot(3, 3, 2)\n",
        "plt.title('Driving_License')\n",
        "plt.pie(dataset['Driving_License'].value_counts(), autopct=\"%.1f%%\", labels=[\"Yes\", \"No\"], colors=[\"green\", \"red\"])\n",
        "\n",
        "plt.subplot(3, 3, 3)\n",
        "plt.title('Previously_Insured')\n",
        "plt.pie(dataset['Previously_Insured'].value_counts(), autopct=\"%.1f%%\", labels=[\"No\", \"Yes\"], colors=[\"red\", \"green\"])\n",
        "\n",
        "plt.subplot(3, 3, 4)\n",
        "plt.title('Vehicle_Age')\n",
        "plt.pie(dataset['Vehicle_Age'].value_counts(), autopct=\"%.1f%%\", labels=[\"1-2 Years\", \"< 1 Year\", \"> 2 Years\"])\n",
        "\n",
        "plt.subplot(3, 3, 5)\n",
        "plt.title('Vehicle_Damage')\n",
        "plt.pie(dataset['Vehicle_Damage'].value_counts(), autopct=\"%.1f%%\", labels=[\"Yes\", \"No\"], colors=[\"red\", \"green\"])\n",
        "\n",
        "plt.subplot(3, 3, 6)\n",
        "sns.boxplot(x=\"Age\", data=dataset)\n",
        "\n",
        "plt.subplot(3, 3, 7)\n",
        "sns.histplot(x=\"Region_Code\", data=dataset)\n",
        "\n",
        "plt.subplot(3, 3, 8)\n",
        "plt.title('Policy_Sales_Channel')\n",
        "plt.pie(dataset['Policy_Sales_Channel'].value_counts(), autopct=\"%.1f%%\", )\n",
        "\n",
        "plt.subplot(3, 3, 9)\n",
        "sns.boxplot(x=\"Vintage\", data=dataset)\n",
        "\n",
        "plt.show()"
      ],
      "execution_count": null,
      "outputs": [
        {
          "output_type": "display_data",
          "data": {
            "image/png": "[encoded data removed]",
            "text/plain": [
              "<Figure size 1440x1080 with 9 Axes>"
            ]
          },
          "metadata": {
            "tags": [],
            "needs_background": "light"
          }
        }
      ]
    },
    {
      "cell_type": "code",
      "metadata": {
        "colab": {
          "base_uri": "https://localhost:8080/"
        },
        "id": "T66A-xTWIBQb",
        "outputId": "79eff804-d939-48c9-d8e6-017e78ab87e0"
      },
      "source": [
        "dataset[\"Age\"].describe()"
      ],
      "execution_count": null,
      "outputs": [
        {
          "output_type": "execute_result",
          "data": {
            "text/plain": [
              "count    381109.000000\n",
              "mean         38.822584\n",
              "std          15.511611\n",
              "min          20.000000\n",
              "25%          25.000000\n",
              "50%          36.000000\n",
              "75%          49.000000\n",
              "max          85.000000\n",
              "Name: Age, dtype: float64"
            ]
          },
          "metadata": {
            "tags": []
          },
          "execution_count": 10
        }
      ]
    },
    {
      "cell_type": "code",
      "metadata": {
        "colab": {
          "base_uri": "https://localhost:8080/"
        },
        "id": "YGtiEnXIAoUT",
        "outputId": "b30f9c0c-8852-462b-c95e-a2d8e17898a0"
      },
      "source": [
        "dataset[\"Annual_Premium\"].describe()"
      ],
      "execution_count": null,
      "outputs": [
        {
          "output_type": "execute_result",
          "data": {
            "text/plain": [
              "count    381109.000000\n",
              "mean      30564.389581\n",
              "std       17213.155057\n",
              "min        2630.000000\n",
              "25%       24405.000000\n",
              "50%       31669.000000\n",
              "75%       39400.000000\n",
              "max      540165.000000\n",
              "Name: Annual_Premium, dtype: float64"
            ]
          },
          "metadata": {
            "tags": []
          },
          "execution_count": 11
        }
      ]
    },
    {
      "cell_type": "code",
      "metadata": {
        "colab": {
          "base_uri": "https://localhost:8080/"
        },
        "id": "bIXR4Xh0T5Rk",
        "outputId": "be328d8a-d044-4c24-d5af-8aec2c33f61f"
      },
      "source": [
        "dataset[\"Vintage\"].describe()"
      ],
      "execution_count": null,
      "outputs": [
        {
          "output_type": "execute_result",
          "data": {
            "text/plain": [
              "count    381109.000000\n",
              "mean        154.347397\n",
              "std          83.671304\n",
              "min          10.000000\n",
              "25%          82.000000\n",
              "50%         154.000000\n",
              "75%         227.000000\n",
              "max         299.000000\n",
              "Name: Vintage, dtype: float64"
            ]
          },
          "metadata": {
            "tags": []
          },
          "execution_count": 12
        }
      ]
    },
    {
      "cell_type": "markdown",
      "metadata": {
        "id": "rOiDPtMhIZd2"
      },
      "source": [
        "Osserviamo che:\n",
        "* I clienti sono suddivisi pressochè in maniera equa in base al genere.\n",
        "* La quasi totalità dei clienti possiede la patente.\n",
        "* Poco più della metà della clientela non ha ancora stipulato un'assicurazione sul veicolo.\n",
        "* La maggior parte dei veicoli non ha più di 2 anni di \"anzianità\".\n",
        "* La metà dei veicoli ha subito almeno un danno nel passato.\n",
        "* L'età media dei clienti è circa 39 anni; il più giovane ha 20 anni; il più vecchio ha 85 anni. Il 75% dei clienti ha meno di 49 anni.\n",
        "* La maggior parte dei clienti si trova in una certa regione.\n",
        "* Mediamente un premio assicurativo annuo ammonta a 30,564 dollari. Il 75% dei clienti paga fino a 40,000 dollari. \n",
        "* I canali di vendita principali sono 3.\n",
        "* In media i clienti sono assicurati dalla compagnia da poco più di 5 mesi, al massimo da 10 mesi."
      ]
    },
    {
      "cell_type": "markdown",
      "metadata": {
        "id": "qYv_O6d7Dopn"
      },
      "source": [
        "**Variabile target**"
      ]
    },
    {
      "cell_type": "code",
      "metadata": {
        "colab": {
          "base_uri": "https://localhost:8080/"
        },
        "id": "NFK8W11qUHiE",
        "outputId": "8be68650-f608-43e9-c29f-1cb61d402840"
      },
      "source": [
        "dataset['Response'].value_counts().plot.pie(autopct=\"%.1f%%\", labels=[\"No\", \"Yes\"])"
      ],
      "execution_count": null,
      "outputs": [
        {
          "output_type": "execute_result",
          "data": {
            "text/plain": [
              "<matplotlib.axes._subplots.AxesSubplot at 0x7ff3b93b3490>"
            ]
          },
          "metadata": {
            "tags": []
          },
          "execution_count": 13
        },
        {
          "output_type": "display_data",
          "data": {
            "image/png": "[encoded data removed]",
            "text/plain": [
              "<Figure size 432x288 with 1 Axes>"
            ]
          },
          "metadata": {
            "tags": []
          }
        }
      ]
    },
    {
      "cell_type": "markdown",
      "metadata": {
        "id": "WokvEtdtUZPb"
      },
      "source": [
        "* La percentuale di clienti interessati a stipulare un'assicurazione con la compagnia non è particolarmente alta, le classi da predire risultano **sbilanciate**, applicheremo quindi un'operazione di undersampling sulla classe più \"popolata\" in quanto il dataset è già molto corposo di per sè."
      ]
    },
    {
      "cell_type": "markdown",
      "metadata": {
        "id": "AiH2CwV6BbwF"
      },
      "source": [
        "### Esplorazione dei legami fra le feature"
      ]
    },
    {
      "cell_type": "markdown",
      "metadata": {
        "id": "PBaIv3aJGhJP"
      },
      "source": [
        "Per iniziare produciamo una matrice di correlazione delle feature:"
      ]
    },
    {
      "cell_type": "code",
      "metadata": {
        "id": "AoUm2BHF6hUB"
      },
      "source": [
        "def plot_correlation(dataset):\n",
        "    cmap = sns.diverging_palette(220, 10, as_cmap=True)\n",
        "    # Generate a mask for the upper triangle\n",
        "    mask = np.zeros_like(dataset, dtype=np.bool)\n",
        "    mask[np.triu_indices_from(mask)] = True\n",
        "\n",
        "    # Set up the matplotlib figure\n",
        "    f, ax = plt.subplots(figsize=(11, 9))\n",
        "    # Draw the heatmap with the mask and correct aspect ratio\n",
        "    sns.heatmap(dataset, mask=mask, cmap=cmap, vmax=.3, center=0,annot = True, square=True, linewidths=.5, cbar_kws={\"shrink\": .5});\n",
        "\n",
        "    # credits: https://colab.research.google.com/github/nicolasfara/di-project/blob/master/cardiovascular-disease.ipynb#scrollTo=LZMJGA-ziDQj"
      ],
      "execution_count": null,
      "outputs": []
    },
    {
      "cell_type": "code",
      "metadata": {
        "colab": {
          "base_uri": "https://localhost:8080/"
        },
        "id": "EWb2vqyyCsIs",
        "outputId": "7fafb29a-1057-4f32-c676-440791596eb6"
      },
      "source": [
        "plot_correlation(dataset.corr())"
      ],
      "execution_count": null,
      "outputs": [
        {
          "output_type": "display_data",
          "data": {
            "image/png": "[encoded data removed]",
            "text/plain": [
              "<Figure size 792x648 with 2 Axes>"
            ]
          },
          "metadata": {
            "tags": [],
            "needs_background": "light"
          }
        }
      ]
    },
    {
      "cell_type": "markdown",
      "metadata": {
        "id": "E5UBfbBjre9Q"
      },
      "source": [
        "Nelle prossime celle visualizziamo in dettaglio le correlazioni (e non correlazioni) più rilevanti.\n",
        "\n",
        "Per visualizzare graficamente come è distribuita la variabile target rispetto al premio assicurativo annuo, ho deciso di considerare i soli clienti che pagano fino a 40.000 dollari ovvero coloro che rientrano nei primi 3 quartili. Questa operazione mi semplifica la visualizzazione perchè non considero gli \"outliers\"."
      ]
    },
    {
      "cell_type": "code",
      "metadata": {
        "id": "cjRlRgy8pqgW"
      },
      "source": [
        "dataset_m = dataset[dataset.Annual_Premium <= 40000]"
      ],
      "execution_count": null,
      "outputs": []
    },
    {
      "cell_type": "code",
      "metadata": {
        "colab": {
          "base_uri": "https://localhost:8080/"
        },
        "id": "jWm8_nuBpPtD",
        "outputId": "133e5421-bfbf-4bff-f4bd-2e959c95d45c"
      },
      "source": [
        "sns.histplot(x='Annual_Premium', hue='Response', data=dataset_m, palette=\"muted\", multiple=\"stack\", binwidth=5000);"
      ],
      "execution_count": null,
      "outputs": [
        {
          "output_type": "display_data",
          "data": {
            "image/png": "[encoded data removed]",
            "text/plain": [
              "<Figure size 432x288 with 1 Axes>"
            ]
          },
          "metadata": {
            "tags": [],
            "needs_background": "light"
          }
        }
      ]
    },
    {
      "cell_type": "markdown",
      "metadata": {
        "id": "Zhpgshj8r5bz"
      },
      "source": [
        "Sembra che l'ammontare del premio assicurativo non influenzi in maniera eclatante l'adesione o meno dei clienti.\n",
        "\n",
        "Inoltre, come possiamo notare dal prossimo grafico, l'ammontare del premio non è legato all'età."
      ]
    },
    {
      "cell_type": "code",
      "metadata": {
        "colab": {
          "base_uri": "https://localhost:8080/"
        },
        "id": "r2oITIWltxt5",
        "outputId": "abc92e6c-624d-486b-baa5-45fed446e887"
      },
      "source": [
        "sns.scatterplot(x=\"Age\", y=\"Annual_Premium\", data=dataset)"
      ],
      "execution_count": null,
      "outputs": [
        {
          "output_type": "execute_result",
          "data": {
            "text/plain": [
              "<matplotlib.axes._subplots.AxesSubplot at 0x7ff3af16f050>"
            ]
          },
          "metadata": {
            "tags": []
          },
          "execution_count": 18
        },
        {
          "output_type": "display_data",
          "data": {
            "image/png": "[encoded data removed]",
            "text/plain": [
              "<Figure size 432x288 with 1 Axes>"
            ]
          },
          "metadata": {
            "tags": [],
            "needs_background": "light"
          }
        }
      ]
    },
    {
      "cell_type": "code",
      "metadata": {
        "colab": {
          "base_uri": "https://localhost:8080/"
        },
        "id": "PKWv4Xgpi2ra",
        "outputId": "fd88b254-a64e-4034-fa17-d81ffcff39b7"
      },
      "source": [
        "sns.histplot(x='Age', hue='Response', data=dataset, palette=\"muted\", multiple=\"stack\");"
      ],
      "execution_count": null,
      "outputs": [
        {
          "output_type": "display_data",
          "data": {
            "image/png": "[encoded data removed]",
            "text/plain": [
              "<Figure size 432x288 with 1 Axes>"
            ]
          },
          "metadata": {
            "tags": [],
            "needs_background": "light"
          }
        }
      ]
    },
    {
      "cell_type": "markdown",
      "metadata": {
        "id": "qLdWYXTbLBEG"
      },
      "source": [
        "Però sembra che i clienti tra i 40 e i 50 anni siano, in percentuale, i più interessati a stipulare un nuovo contratto di assicurazione sul veicolo.\n",
        "\n",
        "Come vediamo dal prossimo grafico, in quella fascia d'età abbiamo una percentuale minore di clienti che sono già assicurati."
      ]
    },
    {
      "cell_type": "code",
      "metadata": {
        "colab": {
          "base_uri": "https://localhost:8080/"
        },
        "id": "UVaKIZdkxLsy",
        "outputId": "261c7f75-34c4-4a33-96a2-0482021b295c"
      },
      "source": [
        "sns.histplot(x='Age', hue='Previously_Insured', data=dataset, palette=\"muted\", multiple=\"stack\");"
      ],
      "execution_count": null,
      "outputs": [
        {
          "output_type": "display_data",
          "data": {
            "image/png": "[encoded data removed]",
            "text/plain": [
              "<Figure size 432x288 with 1 Axes>"
            ]
          },
          "metadata": {
            "tags": [],
            "needs_background": "light"
          }
        }
      ]
    },
    {
      "cell_type": "markdown",
      "metadata": {
        "id": "4hqU_8_9x3vj"
      },
      "source": [
        "Verifichiamo che maschi e femmine sono interessati indistintamente a stipulare un nuovo contratto."
      ]
    },
    {
      "cell_type": "code",
      "metadata": {
        "colab": {
          "base_uri": "https://localhost:8080/"
        },
        "id": "VHHK4lh1xyqZ",
        "outputId": "ecdd15ed-1f7b-4fe4-c3bc-1d23606d782f"
      },
      "source": [
        "sns.countplot(x='Gender', hue='Response', data=dataset, palette=\"muted\");"
      ],
      "execution_count": null,
      "outputs": [
        {
          "output_type": "display_data",
          "data": {
            "image/png": "[encoded data removed]",
            "text/plain": [
              "<Figure size 432x288 with 1 Axes>"
            ]
          },
          "metadata": {
            "tags": [],
            "needs_background": "light"
          }
        }
      ]
    },
    {
      "cell_type": "markdown",
      "metadata": {
        "id": "iRgs4hs5yeM1"
      },
      "source": [
        "La maggior parte dei clienti vuole stipulare una nuova assicurazione perchè non ne ha ancora una."
      ]
    },
    {
      "cell_type": "code",
      "metadata": {
        "colab": {
          "base_uri": "https://localhost:8080/"
        },
        "id": "9UBj1ZytyfF9",
        "outputId": "17af2f43-a1b1-462a-9d0b-5279a56dce45"
      },
      "source": [
        "sns.countplot(x='Previously_Insured', hue='Response', data=dataset, palette=\"muted\");"
      ],
      "execution_count": null,
      "outputs": [
        {
          "output_type": "display_data",
          "data": {
            "image/png": "[encoded data removed]",
            "text/plain": [
              "<Figure size 432x288 with 1 Axes>"
            ]
          },
          "metadata": {
            "tags": [],
            "needs_background": "light"
          }
        }
      ]
    },
    {
      "cell_type": "markdown",
      "metadata": {
        "id": "QMGfr2hSETnh"
      },
      "source": [
        "Successivamente notiamo che i clienti che hanno avuto già un danneggiamento al veicolo in passato, sono più propensi ad aderire."
      ]
    },
    {
      "cell_type": "code",
      "metadata": {
        "colab": {
          "base_uri": "https://localhost:8080/"
        },
        "id": "UlqLJAeLDdIe",
        "outputId": "c4a55c48-366c-4ad7-b977-dfc8c6313ff7"
      },
      "source": [
        "sns.countplot(x='Vehicle_Damage', hue='Response', data=dataset, palette=\"muted\")"
      ],
      "execution_count": null,
      "outputs": [
        {
          "output_type": "execute_result",
          "data": {
            "text/plain": [
              "<matplotlib.axes._subplots.AxesSubplot at 0x7ff3b99b9a10>"
            ]
          },
          "metadata": {
            "tags": []
          },
          "execution_count": 23
        },
        {
          "output_type": "display_data",
          "data": {
            "image/png": "[encoded data removed]",
            "text/plain": [
              "<Figure size 432x288 with 1 Axes>"
            ]
          },
          "metadata": {
            "tags": [],
            "needs_background": "light"
          }
        }
      ]
    },
    {
      "cell_type": "markdown",
      "metadata": {
        "id": "3T_8nlnwyzM1"
      },
      "source": [
        "Dai prossimi grafici possiamo capire che i clienti proprietari dei veicoli più vecchi di 1 anno sono più interessati a stipulare un'assicurazione probabilmente perchè hanno effettuato un incidente in passato e non hanno ancora un'assicurazione sul veicolo."
      ]
    },
    {
      "cell_type": "code",
      "metadata": {
        "colab": {
          "base_uri": "https://localhost:8080/"
        },
        "id": "Hkm-eCVv0jOj",
        "outputId": "99a449aa-fda6-44f3-83c3-4378940838e9"
      },
      "source": [
        "g = pd.melt(dataset, id_vars=['Vehicle_Age'], value_vars=['Response', 'Previously_Insured', 'Vehicle_Damage'])\n",
        "sns.catplot(x=\"variable\", hue=\"value\", col=\"Vehicle_Age\", data=g, kind=\"count\", palette=\"muted\");"
      ],
      "execution_count": null,
      "outputs": [
        {
          "output_type": "display_data",
          "data": {
            "image/png": "[encoded data removed]",
            "text/plain": [
              "<Figure size 1132x360 with 3 Axes>"
            ]
          },
          "metadata": {
            "tags": [],
            "needs_background": "light"
          }
        }
      ]
    },
    {
      "cell_type": "markdown",
      "metadata": {
        "id": "v6vEPAQi3dru"
      },
      "source": [
        "Osservando il prossimo grafico possiamo dire che la feature \"Vintage\", ovvero il numero di giorni che la persona è cliente della compagnia, non influenza l'adesione."
      ]
    },
    {
      "cell_type": "code",
      "metadata": {
        "colab": {
          "base_uri": "https://localhost:8080/"
        },
        "id": "7pDSNbgZ3ZCe",
        "outputId": "3b9ba914-2801-4472-e27f-f7748440a12d"
      },
      "source": [
        "sns.histplot(x='Vintage', hue='Response', data=dataset, palette=\"muted\", multiple=\"stack\", binwidth=5);"
      ],
      "execution_count": null,
      "outputs": [
        {
          "output_type": "display_data",
          "data": {
            "image/png": "[encoded data removed]",
            "text/plain": [
              "<Figure size 432x288 with 1 Axes>"
            ]
          },
          "metadata": {
            "tags": [],
            "needs_background": "light"
          }
        }
      ]
    },
    {
      "cell_type": "markdown",
      "metadata": {
        "id": "EcuokcX68lUl"
      },
      "source": [
        "Osserviamo inoltre che la provenienza dei clienti non influenza."
      ]
    },
    {
      "cell_type": "code",
      "metadata": {
        "colab": {
          "base_uri": "https://localhost:8080/"
        },
        "id": "s_26vMa68LQg",
        "outputId": "2f335697-97a5-4d4c-8835-1eea495869a6"
      },
      "source": [
        "plt.figure(figsize=(15, 10))\n",
        "sns.histplot(x='Region_Code', hue='Response', data=dataset, palette=\"muted\", multiple=\"stack\");"
      ],
      "execution_count": null,
      "outputs": [
        {
          "output_type": "display_data",
          "data": {
            "image/png": "[encoded data removed]",
            "text/plain": [
              "<Figure size 1080x720 with 1 Axes>"
            ]
          },
          "metadata": {
            "tags": [],
            "needs_background": "light"
          }
        }
      ]
    },
    {
      "cell_type": "markdown",
      "metadata": {
        "id": "eejKKOx7-aI4"
      },
      "source": [
        "Rimane da analizzare la correlazione che vi è tra il canale di vendita (Policy_Sales_Channel) e  la feature (Previously_Insured): in questo caso sembra che vengano preferiti dei canali di vendita differenti rispetto alla condizione assicurativa del cliente.\n"
      ]
    },
    {
      "cell_type": "code",
      "metadata": {
        "colab": {
          "base_uri": "https://localhost:8080/"
        },
        "id": "LdAmaevu88BN",
        "outputId": "e9a38c5b-8d44-45f1-939f-b73a321785cc"
      },
      "source": [
        "plt.figure(figsize=(15, 10))\n",
        "sns.histplot(x='Policy_Sales_Channel', hue='Previously_Insured', data=dataset, palette=\"muted\", multiple=\"stack\");"
      ],
      "execution_count": null,
      "outputs": [
        {
          "output_type": "display_data",
          "data": {
            "image/png": "[encoded data removed]",
            "text/plain": [
              "<Figure size 1080x720 with 1 Axes>"
            ]
          },
          "metadata": {
            "tags": [],
            "needs_background": "light"
          }
        }
      ]
    },
    {
      "cell_type": "markdown",
      "metadata": {
        "id": "SYDSbhmmI6o9"
      },
      "source": [
        "Osservando l'efficacia dei canali di vendita principali, vediamo che hanno un tasso di \"successo\" differente."
      ]
    },
    {
      "cell_type": "code",
      "metadata": {
        "colab": {
          "base_uri": "https://localhost:8080/"
        },
        "id": "WW2GPKYKIwh2",
        "outputId": "8ad456a2-c83e-4434-a488-da9ccc4304a2"
      },
      "source": [
        "plt.figure(figsize=(15, 10))\n",
        "sns.histplot(x='Policy_Sales_Channel', hue='Response', data=dataset, palette=\"muted\", multiple=\"stack\");"
      ],
      "execution_count": null,
      "outputs": [
        {
          "output_type": "display_data",
          "data": {
            "image/png": "[encoded data removed]",
            "text/plain": [
              "<Figure size 1080x720 with 1 Axes>"
            ]
          },
          "metadata": {
            "tags": [],
            "needs_background": "light"
          }
        }
      ]
    },
    {
      "cell_type": "markdown",
      "metadata": {
        "id": "xBNiTvJTFEuQ"
      },
      "source": [
        "Vi è un piccolissimo numero di clienti che ha aderito ma che non ha la patente di guida:"
      ]
    },
    {
      "cell_type": "code",
      "metadata": {
        "colab": {
          "base_uri": "https://localhost:8080/"
        },
        "id": "I6ogrYXWENg5",
        "outputId": "16821825-1762-46ab-a166-2d89ba4c6f33"
      },
      "source": [
        "print(f\"Corrisponde al {len(dataset[(dataset.Driving_License == 0) & (dataset.Response == 1)])/len(dataset[dataset.Response == 1])*100}% del totale dei clienti che ha aderito\")"
      ],
      "execution_count": null,
      "outputs": [
        {
          "output_type": "stream",
          "text": [
            "Corrisponde al 0.08777563690858488% del totale dei clienti che ha aderito\n"
          ],
          "name": "stdout"
        }
      ]
    },
    {
      "cell_type": "markdown",
      "metadata": {
        "id": "PY_84MgHGrdo"
      },
      "source": [
        "Visualizzando le informazioni di queste persone notiamo che sono di mezza età, tutti non erano precedentemente assicurati e avevano subito un danneggiamento al veicolo."
      ]
    },
    {
      "cell_type": "code",
      "metadata": {
        "colab": {
          "base_uri": "https://localhost:8080/"
        },
        "id": "z6b75WG0GTj7",
        "outputId": "6d2ae3f1-ff9e-4609-e39b-4bfbca8a2d6a"
      },
      "source": [
        "dataset[(dataset.Driving_License == 0) & (dataset.Response == 1)]"
      ],
      "execution_count": null,
      "outputs": [
        {
          "output_type": "execute_result",
          "data": {
            "text/html": [
              "<div>\n",
              "<style scoped>\n",
              "    .dataframe tbody tr th:only-of-type {\n",
              "        vertical-align: middle;\n",
              "    }\n",
              "\n",
              "    .dataframe tbody tr th {\n",
              "        vertical-align: top;\n",
              "    }\n",
              "\n",
              "    .dataframe thead th {\n",
              "        text-align: right;\n",
              "    }\n",
              "</style>\n",
              "<table border=\"1\" class=\"dataframe\">\n",
              "  <thead>\n",
              "    <tr style=\"text-align: right;\">\n",
              "      <th></th>\n",
              "      <th>Gender</th>\n",
              "      <th>Age</th>\n",
              "      <th>Driving_License</th>\n",
              "      <th>Region_Code</th>\n",
              "      <th>Previously_Insured</th>\n",
              "      <th>Vehicle_Age</th>\n",
              "      <th>Vehicle_Damage</th>\n",
              "      <th>Annual_Premium</th>\n",
              "      <th>Policy_Sales_Channel</th>\n",
              "      <th>Vintage</th>\n",
              "      <th>Response</th>\n",
              "    </tr>\n",
              "    <tr>\n",
              "      <th>id</th>\n",
              "      <th></th>\n",
              "      <th></th>\n",
              "      <th></th>\n",
              "      <th></th>\n",
              "      <th></th>\n",
              "      <th></th>\n",
              "      <th></th>\n",
              "      <th></th>\n",
              "      <th></th>\n",
              "      <th></th>\n",
              "      <th></th>\n",
              "    </tr>\n",
              "  </thead>\n",
              "  <tbody>\n",
              "    <tr>\n",
              "      <th>9258</th>\n",
              "      <td>Female</td>\n",
              "      <td>53</td>\n",
              "      <td>0</td>\n",
              "      <td>8.0</td>\n",
              "      <td>0</td>\n",
              "      <td>1-2 Year</td>\n",
              "      <td>Yes</td>\n",
              "      <td>39478.0</td>\n",
              "      <td>25.0</td>\n",
              "      <td>234</td>\n",
              "      <td>1</td>\n",
              "    </tr>\n",
              "    <tr>\n",
              "      <th>20931</th>\n",
              "      <td>Female</td>\n",
              "      <td>44</td>\n",
              "      <td>0</td>\n",
              "      <td>3.0</td>\n",
              "      <td>0</td>\n",
              "      <td>1-2 Year</td>\n",
              "      <td>Yes</td>\n",
              "      <td>35644.0</td>\n",
              "      <td>26.0</td>\n",
              "      <td>272</td>\n",
              "      <td>1</td>\n",
              "    </tr>\n",
              "    <tr>\n",
              "      <th>26168</th>\n",
              "      <td>Male</td>\n",
              "      <td>63</td>\n",
              "      <td>0</td>\n",
              "      <td>28.0</td>\n",
              "      <td>0</td>\n",
              "      <td>1-2 Year</td>\n",
              "      <td>Yes</td>\n",
              "      <td>2630.0</td>\n",
              "      <td>122.0</td>\n",
              "      <td>44</td>\n",
              "      <td>1</td>\n",
              "    </tr>\n",
              "    <tr>\n",
              "      <th>30955</th>\n",
              "      <td>Male</td>\n",
              "      <td>45</td>\n",
              "      <td>0</td>\n",
              "      <td>28.0</td>\n",
              "      <td>0</td>\n",
              "      <td>1-2 Year</td>\n",
              "      <td>Yes</td>\n",
              "      <td>51397.0</td>\n",
              "      <td>124.0</td>\n",
              "      <td>43</td>\n",
              "      <td>1</td>\n",
              "    </tr>\n",
              "    <tr>\n",
              "      <th>35297</th>\n",
              "      <td>Female</td>\n",
              "      <td>67</td>\n",
              "      <td>0</td>\n",
              "      <td>28.0</td>\n",
              "      <td>0</td>\n",
              "      <td>1-2 Year</td>\n",
              "      <td>Yes</td>\n",
              "      <td>56891.0</td>\n",
              "      <td>26.0</td>\n",
              "      <td>42</td>\n",
              "      <td>1</td>\n",
              "    </tr>\n",
              "    <tr>\n",
              "      <th>45455</th>\n",
              "      <td>Male</td>\n",
              "      <td>61</td>\n",
              "      <td>0</td>\n",
              "      <td>8.0</td>\n",
              "      <td>0</td>\n",
              "      <td>1-2 Year</td>\n",
              "      <td>Yes</td>\n",
              "      <td>2630.0</td>\n",
              "      <td>26.0</td>\n",
              "      <td>76</td>\n",
              "      <td>1</td>\n",
              "    </tr>\n",
              "    <tr>\n",
              "      <th>46301</th>\n",
              "      <td>Female</td>\n",
              "      <td>69</td>\n",
              "      <td>0</td>\n",
              "      <td>28.0</td>\n",
              "      <td>0</td>\n",
              "      <td>1-2 Year</td>\n",
              "      <td>Yes</td>\n",
              "      <td>31145.0</td>\n",
              "      <td>122.0</td>\n",
              "      <td>82</td>\n",
              "      <td>1</td>\n",
              "    </tr>\n",
              "    <tr>\n",
              "      <th>48343</th>\n",
              "      <td>Male</td>\n",
              "      <td>55</td>\n",
              "      <td>0</td>\n",
              "      <td>29.0</td>\n",
              "      <td>0</td>\n",
              "      <td>1-2 Year</td>\n",
              "      <td>Yes</td>\n",
              "      <td>2630.0</td>\n",
              "      <td>26.0</td>\n",
              "      <td>232</td>\n",
              "      <td>1</td>\n",
              "    </tr>\n",
              "    <tr>\n",
              "      <th>53513</th>\n",
              "      <td>Male</td>\n",
              "      <td>59</td>\n",
              "      <td>0</td>\n",
              "      <td>8.0</td>\n",
              "      <td>0</td>\n",
              "      <td>1-2 Year</td>\n",
              "      <td>Yes</td>\n",
              "      <td>47979.0</td>\n",
              "      <td>26.0</td>\n",
              "      <td>212</td>\n",
              "      <td>1</td>\n",
              "    </tr>\n",
              "    <tr>\n",
              "      <th>65305</th>\n",
              "      <td>Male</td>\n",
              "      <td>50</td>\n",
              "      <td>0</td>\n",
              "      <td>43.0</td>\n",
              "      <td>0</td>\n",
              "      <td>1-2 Year</td>\n",
              "      <td>Yes</td>\n",
              "      <td>39319.0</td>\n",
              "      <td>124.0</td>\n",
              "      <td>54</td>\n",
              "      <td>1</td>\n",
              "    </tr>\n",
              "    <tr>\n",
              "      <th>92992</th>\n",
              "      <td>Male</td>\n",
              "      <td>50</td>\n",
              "      <td>0</td>\n",
              "      <td>12.0</td>\n",
              "      <td>0</td>\n",
              "      <td>1-2 Year</td>\n",
              "      <td>Yes</td>\n",
              "      <td>2630.0</td>\n",
              "      <td>26.0</td>\n",
              "      <td>163</td>\n",
              "      <td>1</td>\n",
              "    </tr>\n",
              "    <tr>\n",
              "      <th>110028</th>\n",
              "      <td>Male</td>\n",
              "      <td>56</td>\n",
              "      <td>0</td>\n",
              "      <td>2.0</td>\n",
              "      <td>0</td>\n",
              "      <td>1-2 Year</td>\n",
              "      <td>Yes</td>\n",
              "      <td>32158.0</td>\n",
              "      <td>26.0</td>\n",
              "      <td>145</td>\n",
              "      <td>1</td>\n",
              "    </tr>\n",
              "    <tr>\n",
              "      <th>110694</th>\n",
              "      <td>Female</td>\n",
              "      <td>44</td>\n",
              "      <td>0</td>\n",
              "      <td>28.0</td>\n",
              "      <td>0</td>\n",
              "      <td>1-2 Year</td>\n",
              "      <td>Yes</td>\n",
              "      <td>46293.0</td>\n",
              "      <td>26.0</td>\n",
              "      <td>45</td>\n",
              "      <td>1</td>\n",
              "    </tr>\n",
              "    <tr>\n",
              "      <th>119269</th>\n",
              "      <td>Female</td>\n",
              "      <td>65</td>\n",
              "      <td>0</td>\n",
              "      <td>28.0</td>\n",
              "      <td>0</td>\n",
              "      <td>1-2 Year</td>\n",
              "      <td>Yes</td>\n",
              "      <td>39486.0</td>\n",
              "      <td>124.0</td>\n",
              "      <td>130</td>\n",
              "      <td>1</td>\n",
              "    </tr>\n",
              "    <tr>\n",
              "      <th>120414</th>\n",
              "      <td>Male</td>\n",
              "      <td>50</td>\n",
              "      <td>0</td>\n",
              "      <td>28.0</td>\n",
              "      <td>0</td>\n",
              "      <td>1-2 Year</td>\n",
              "      <td>Yes</td>\n",
              "      <td>31564.0</td>\n",
              "      <td>26.0</td>\n",
              "      <td>43</td>\n",
              "      <td>1</td>\n",
              "    </tr>\n",
              "    <tr>\n",
              "      <th>141817</th>\n",
              "      <td>Male</td>\n",
              "      <td>66</td>\n",
              "      <td>0</td>\n",
              "      <td>28.0</td>\n",
              "      <td>0</td>\n",
              "      <td>&gt; 2 Years</td>\n",
              "      <td>Yes</td>\n",
              "      <td>45402.0</td>\n",
              "      <td>122.0</td>\n",
              "      <td>236</td>\n",
              "      <td>1</td>\n",
              "    </tr>\n",
              "    <tr>\n",
              "      <th>142140</th>\n",
              "      <td>Male</td>\n",
              "      <td>64</td>\n",
              "      <td>0</td>\n",
              "      <td>3.0</td>\n",
              "      <td>0</td>\n",
              "      <td>&gt; 2 Years</td>\n",
              "      <td>Yes</td>\n",
              "      <td>47797.0</td>\n",
              "      <td>26.0</td>\n",
              "      <td>252</td>\n",
              "      <td>1</td>\n",
              "    </tr>\n",
              "    <tr>\n",
              "      <th>160241</th>\n",
              "      <td>Female</td>\n",
              "      <td>66</td>\n",
              "      <td>0</td>\n",
              "      <td>46.0</td>\n",
              "      <td>0</td>\n",
              "      <td>1-2 Year</td>\n",
              "      <td>Yes</td>\n",
              "      <td>38839.0</td>\n",
              "      <td>26.0</td>\n",
              "      <td>212</td>\n",
              "      <td>1</td>\n",
              "    </tr>\n",
              "    <tr>\n",
              "      <th>161036</th>\n",
              "      <td>Male</td>\n",
              "      <td>61</td>\n",
              "      <td>0</td>\n",
              "      <td>33.0</td>\n",
              "      <td>0</td>\n",
              "      <td>1-2 Year</td>\n",
              "      <td>Yes</td>\n",
              "      <td>40954.0</td>\n",
              "      <td>26.0</td>\n",
              "      <td>147</td>\n",
              "      <td>1</td>\n",
              "    </tr>\n",
              "    <tr>\n",
              "      <th>164738</th>\n",
              "      <td>Male</td>\n",
              "      <td>63</td>\n",
              "      <td>0</td>\n",
              "      <td>27.0</td>\n",
              "      <td>0</td>\n",
              "      <td>1-2 Year</td>\n",
              "      <td>Yes</td>\n",
              "      <td>24930.0</td>\n",
              "      <td>124.0</td>\n",
              "      <td>185</td>\n",
              "      <td>1</td>\n",
              "    </tr>\n",
              "    <tr>\n",
              "      <th>167801</th>\n",
              "      <td>Male</td>\n",
              "      <td>64</td>\n",
              "      <td>0</td>\n",
              "      <td>28.0</td>\n",
              "      <td>0</td>\n",
              "      <td>1-2 Year</td>\n",
              "      <td>Yes</td>\n",
              "      <td>41643.0</td>\n",
              "      <td>124.0</td>\n",
              "      <td>59</td>\n",
              "      <td>1</td>\n",
              "    </tr>\n",
              "    <tr>\n",
              "      <th>189597</th>\n",
              "      <td>Male</td>\n",
              "      <td>62</td>\n",
              "      <td>0</td>\n",
              "      <td>8.0</td>\n",
              "      <td>0</td>\n",
              "      <td>1-2 Year</td>\n",
              "      <td>Yes</td>\n",
              "      <td>40984.0</td>\n",
              "      <td>7.0</td>\n",
              "      <td>137</td>\n",
              "      <td>1</td>\n",
              "    </tr>\n",
              "    <tr>\n",
              "      <th>200213</th>\n",
              "      <td>Male</td>\n",
              "      <td>70</td>\n",
              "      <td>0</td>\n",
              "      <td>28.0</td>\n",
              "      <td>0</td>\n",
              "      <td>1-2 Year</td>\n",
              "      <td>Yes</td>\n",
              "      <td>51176.0</td>\n",
              "      <td>26.0</td>\n",
              "      <td>281</td>\n",
              "      <td>1</td>\n",
              "    </tr>\n",
              "    <tr>\n",
              "      <th>205621</th>\n",
              "      <td>Male</td>\n",
              "      <td>54</td>\n",
              "      <td>0</td>\n",
              "      <td>28.0</td>\n",
              "      <td>0</td>\n",
              "      <td>1-2 Year</td>\n",
              "      <td>Yes</td>\n",
              "      <td>22963.0</td>\n",
              "      <td>26.0</td>\n",
              "      <td>274</td>\n",
              "      <td>1</td>\n",
              "    </tr>\n",
              "    <tr>\n",
              "      <th>219005</th>\n",
              "      <td>Female</td>\n",
              "      <td>67</td>\n",
              "      <td>0</td>\n",
              "      <td>28.0</td>\n",
              "      <td>0</td>\n",
              "      <td>1-2 Year</td>\n",
              "      <td>Yes</td>\n",
              "      <td>29520.0</td>\n",
              "      <td>124.0</td>\n",
              "      <td>194</td>\n",
              "      <td>1</td>\n",
              "    </tr>\n",
              "    <tr>\n",
              "      <th>220035</th>\n",
              "      <td>Male</td>\n",
              "      <td>48</td>\n",
              "      <td>0</td>\n",
              "      <td>41.0</td>\n",
              "      <td>0</td>\n",
              "      <td>1-2 Year</td>\n",
              "      <td>Yes</td>\n",
              "      <td>34096.0</td>\n",
              "      <td>124.0</td>\n",
              "      <td>193</td>\n",
              "      <td>1</td>\n",
              "    </tr>\n",
              "    <tr>\n",
              "      <th>224569</th>\n",
              "      <td>Male</td>\n",
              "      <td>58</td>\n",
              "      <td>0</td>\n",
              "      <td>29.0</td>\n",
              "      <td>0</td>\n",
              "      <td>1-2 Year</td>\n",
              "      <td>Yes</td>\n",
              "      <td>31840.0</td>\n",
              "      <td>124.0</td>\n",
              "      <td>34</td>\n",
              "      <td>1</td>\n",
              "    </tr>\n",
              "    <tr>\n",
              "      <th>229849</th>\n",
              "      <td>Male</td>\n",
              "      <td>53</td>\n",
              "      <td>0</td>\n",
              "      <td>8.0</td>\n",
              "      <td>0</td>\n",
              "      <td>1-2 Year</td>\n",
              "      <td>Yes</td>\n",
              "      <td>31947.0</td>\n",
              "      <td>124.0</td>\n",
              "      <td>26</td>\n",
              "      <td>1</td>\n",
              "    </tr>\n",
              "    <tr>\n",
              "      <th>243574</th>\n",
              "      <td>Female</td>\n",
              "      <td>54</td>\n",
              "      <td>0</td>\n",
              "      <td>28.0</td>\n",
              "      <td>0</td>\n",
              "      <td>1-2 Year</td>\n",
              "      <td>Yes</td>\n",
              "      <td>34640.0</td>\n",
              "      <td>155.0</td>\n",
              "      <td>256</td>\n",
              "      <td>1</td>\n",
              "    </tr>\n",
              "    <tr>\n",
              "      <th>252480</th>\n",
              "      <td>Female</td>\n",
              "      <td>58</td>\n",
              "      <td>0</td>\n",
              "      <td>9.0</td>\n",
              "      <td>0</td>\n",
              "      <td>1-2 Year</td>\n",
              "      <td>Yes</td>\n",
              "      <td>30630.0</td>\n",
              "      <td>124.0</td>\n",
              "      <td>146</td>\n",
              "      <td>1</td>\n",
              "    </tr>\n",
              "    <tr>\n",
              "      <th>261010</th>\n",
              "      <td>Male</td>\n",
              "      <td>53</td>\n",
              "      <td>0</td>\n",
              "      <td>29.0</td>\n",
              "      <td>0</td>\n",
              "      <td>1-2 Year</td>\n",
              "      <td>Yes</td>\n",
              "      <td>46213.0</td>\n",
              "      <td>26.0</td>\n",
              "      <td>55</td>\n",
              "      <td>1</td>\n",
              "    </tr>\n",
              "    <tr>\n",
              "      <th>262838</th>\n",
              "      <td>Female</td>\n",
              "      <td>68</td>\n",
              "      <td>0</td>\n",
              "      <td>28.0</td>\n",
              "      <td>0</td>\n",
              "      <td>&gt; 2 Years</td>\n",
              "      <td>Yes</td>\n",
              "      <td>53618.0</td>\n",
              "      <td>26.0</td>\n",
              "      <td>181</td>\n",
              "      <td>1</td>\n",
              "    </tr>\n",
              "    <tr>\n",
              "      <th>278330</th>\n",
              "      <td>Male</td>\n",
              "      <td>53</td>\n",
              "      <td>0</td>\n",
              "      <td>24.0</td>\n",
              "      <td>0</td>\n",
              "      <td>1-2 Year</td>\n",
              "      <td>Yes</td>\n",
              "      <td>26648.0</td>\n",
              "      <td>26.0</td>\n",
              "      <td>191</td>\n",
              "      <td>1</td>\n",
              "    </tr>\n",
              "    <tr>\n",
              "      <th>285805</th>\n",
              "      <td>Male</td>\n",
              "      <td>58</td>\n",
              "      <td>0</td>\n",
              "      <td>46.0</td>\n",
              "      <td>0</td>\n",
              "      <td>1-2 Year</td>\n",
              "      <td>Yes</td>\n",
              "      <td>40710.0</td>\n",
              "      <td>26.0</td>\n",
              "      <td>85</td>\n",
              "      <td>1</td>\n",
              "    </tr>\n",
              "    <tr>\n",
              "      <th>317082</th>\n",
              "      <td>Female</td>\n",
              "      <td>58</td>\n",
              "      <td>0</td>\n",
              "      <td>28.0</td>\n",
              "      <td>0</td>\n",
              "      <td>1-2 Year</td>\n",
              "      <td>Yes</td>\n",
              "      <td>36981.0</td>\n",
              "      <td>122.0</td>\n",
              "      <td>231</td>\n",
              "      <td>1</td>\n",
              "    </tr>\n",
              "    <tr>\n",
              "      <th>336781</th>\n",
              "      <td>Male</td>\n",
              "      <td>53</td>\n",
              "      <td>0</td>\n",
              "      <td>41.0</td>\n",
              "      <td>0</td>\n",
              "      <td>1-2 Year</td>\n",
              "      <td>Yes</td>\n",
              "      <td>35132.0</td>\n",
              "      <td>26.0</td>\n",
              "      <td>21</td>\n",
              "      <td>1</td>\n",
              "    </tr>\n",
              "    <tr>\n",
              "      <th>358387</th>\n",
              "      <td>Female</td>\n",
              "      <td>75</td>\n",
              "      <td>0</td>\n",
              "      <td>8.0</td>\n",
              "      <td>0</td>\n",
              "      <td>1-2 Year</td>\n",
              "      <td>Yes</td>\n",
              "      <td>2630.0</td>\n",
              "      <td>25.0</td>\n",
              "      <td>117</td>\n",
              "      <td>1</td>\n",
              "    </tr>\n",
              "    <tr>\n",
              "      <th>364427</th>\n",
              "      <td>Male</td>\n",
              "      <td>58</td>\n",
              "      <td>0</td>\n",
              "      <td>29.0</td>\n",
              "      <td>0</td>\n",
              "      <td>&gt; 2 Years</td>\n",
              "      <td>Yes</td>\n",
              "      <td>26064.0</td>\n",
              "      <td>124.0</td>\n",
              "      <td>270</td>\n",
              "      <td>1</td>\n",
              "    </tr>\n",
              "    <tr>\n",
              "      <th>364522</th>\n",
              "      <td>Female</td>\n",
              "      <td>79</td>\n",
              "      <td>0</td>\n",
              "      <td>28.0</td>\n",
              "      <td>0</td>\n",
              "      <td>1-2 Year</td>\n",
              "      <td>Yes</td>\n",
              "      <td>63141.0</td>\n",
              "      <td>122.0</td>\n",
              "      <td>219</td>\n",
              "      <td>1</td>\n",
              "    </tr>\n",
              "    <tr>\n",
              "      <th>365447</th>\n",
              "      <td>Male</td>\n",
              "      <td>73</td>\n",
              "      <td>0</td>\n",
              "      <td>48.0</td>\n",
              "      <td>0</td>\n",
              "      <td>&gt; 2 Years</td>\n",
              "      <td>Yes</td>\n",
              "      <td>2630.0</td>\n",
              "      <td>124.0</td>\n",
              "      <td>67</td>\n",
              "      <td>1</td>\n",
              "    </tr>\n",
              "    <tr>\n",
              "      <th>372827</th>\n",
              "      <td>Male</td>\n",
              "      <td>55</td>\n",
              "      <td>0</td>\n",
              "      <td>28.0</td>\n",
              "      <td>0</td>\n",
              "      <td>1-2 Year</td>\n",
              "      <td>Yes</td>\n",
              "      <td>2630.0</td>\n",
              "      <td>152.0</td>\n",
              "      <td>12</td>\n",
              "      <td>1</td>\n",
              "    </tr>\n",
              "  </tbody>\n",
              "</table>\n",
              "</div>"
            ],
            "text/plain": [
              "        Gender  Age  Driving_License  ...  Policy_Sales_Channel  Vintage Response\n",
              "id                                    ...                                        \n",
              "9258    Female   53                0  ...                  25.0      234        1\n",
              "20931   Female   44                0  ...                  26.0      272        1\n",
              "26168     Male   63                0  ...                 122.0       44        1\n",
              "30955     Male   45                0  ...                 124.0       43        1\n",
              "35297   Female   67                0  ...                  26.0       42        1\n",
              "45455     Male   61                0  ...                  26.0       76        1\n",
              "46301   Female   69                0  ...                 122.0       82        1\n",
              "48343     Male   55                0  ...                  26.0      232        1\n",
              "53513     Male   59                0  ...                  26.0      212        1\n",
              "65305     Male   50                0  ...                 124.0       54        1\n",
              "92992     Male   50                0  ...                  26.0      163        1\n",
              "110028    Male   56                0  ...                  26.0      145        1\n",
              "110694  Female   44                0  ...                  26.0       45        1\n",
              "119269  Female   65                0  ...                 124.0      130        1\n",
              "120414    Male   50                0  ...                  26.0       43        1\n",
              "141817    Male   66                0  ...                 122.0      236        1\n",
              "142140    Male   64                0  ...                  26.0      252        1\n",
              "160241  Female   66                0  ...                  26.0      212        1\n",
              "161036    Male   61                0  ...                  26.0      147        1\n",
              "164738    Male   63                0  ...                 124.0      185        1\n",
              "167801    Male   64                0  ...                 124.0       59        1\n",
              "189597    Male   62                0  ...                   7.0      137        1\n",
              "200213    Male   70                0  ...                  26.0      281        1\n",
              "205621    Male   54                0  ...                  26.0      274        1\n",
              "219005  Female   67                0  ...                 124.0      194        1\n",
              "220035    Male   48                0  ...                 124.0      193        1\n",
              "224569    Male   58                0  ...                 124.0       34        1\n",
              "229849    Male   53                0  ...                 124.0       26        1\n",
              "243574  Female   54                0  ...                 155.0      256        1\n",
              "252480  Female   58                0  ...                 124.0      146        1\n",
              "261010    Male   53                0  ...                  26.0       55        1\n",
              "262838  Female   68                0  ...                  26.0      181        1\n",
              "278330    Male   53                0  ...                  26.0      191        1\n",
              "285805    Male   58                0  ...                  26.0       85        1\n",
              "317082  Female   58                0  ...                 122.0      231        1\n",
              "336781    Male   53                0  ...                  26.0       21        1\n",
              "358387  Female   75                0  ...                  25.0      117        1\n",
              "364427    Male   58                0  ...                 124.0      270        1\n",
              "364522  Female   79                0  ...                 122.0      219        1\n",
              "365447    Male   73                0  ...                 124.0       67        1\n",
              "372827    Male   55                0  ...                 152.0       12        1\n",
              "\n",
              "[41 rows x 11 columns]"
            ]
          },
          "metadata": {
            "tags": []
          },
          "execution_count": 30
        }
      ]
    },
    {
      "cell_type": "markdown",
      "metadata": {
        "id": "03NNgBPzTwfO"
      },
      "source": [
        "## Feature Engineering"
      ]
    },
    {
      "cell_type": "code",
      "metadata": {
        "colab": {
          "base_uri": "https://localhost:8080/",
          "height": 230
        },
        "id": "I4LI8nTKLKif",
        "outputId": "709052eb-ae81-46c0-fa7d-dcb390d96701"
      },
      "source": [
        "dataset.head()"
      ],
      "execution_count": null,
      "outputs": [
        {
          "output_type": "execute_result",
          "data": {
            "text/html": [
              "<div>\n",
              "<style scoped>\n",
              "    .dataframe tbody tr th:only-of-type {\n",
              "        vertical-align: middle;\n",
              "    }\n",
              "\n",
              "    .dataframe tbody tr th {\n",
              "        vertical-align: top;\n",
              "    }\n",
              "\n",
              "    .dataframe thead th {\n",
              "        text-align: right;\n",
              "    }\n",
              "</style>\n",
              "<table border=\"1\" class=\"dataframe\">\n",
              "  <thead>\n",
              "    <tr style=\"text-align: right;\">\n",
              "      <th></th>\n",
              "      <th>Gender</th>\n",
              "      <th>Age</th>\n",
              "      <th>Driving_License</th>\n",
              "      <th>Region_Code</th>\n",
              "      <th>Previously_Insured</th>\n",
              "      <th>Vehicle_Age</th>\n",
              "      <th>Vehicle_Damage</th>\n",
              "      <th>Annual_Premium</th>\n",
              "      <th>Policy_Sales_Channel</th>\n",
              "      <th>Vintage</th>\n",
              "      <th>Response</th>\n",
              "    </tr>\n",
              "    <tr>\n",
              "      <th>id</th>\n",
              "      <th></th>\n",
              "      <th></th>\n",
              "      <th></th>\n",
              "      <th></th>\n",
              "      <th></th>\n",
              "      <th></th>\n",
              "      <th></th>\n",
              "      <th></th>\n",
              "      <th></th>\n",
              "      <th></th>\n",
              "      <th></th>\n",
              "    </tr>\n",
              "  </thead>\n",
              "  <tbody>\n",
              "    <tr>\n",
              "      <th>1</th>\n",
              "      <td>Male</td>\n",
              "      <td>44</td>\n",
              "      <td>1</td>\n",
              "      <td>28.0</td>\n",
              "      <td>0</td>\n",
              "      <td>&gt; 2 Years</td>\n",
              "      <td>Yes</td>\n",
              "      <td>40454.0</td>\n",
              "      <td>26.0</td>\n",
              "      <td>217</td>\n",
              "      <td>1</td>\n",
              "    </tr>\n",
              "    <tr>\n",
              "      <th>2</th>\n",
              "      <td>Male</td>\n",
              "      <td>76</td>\n",
              "      <td>1</td>\n",
              "      <td>3.0</td>\n",
              "      <td>0</td>\n",
              "      <td>1-2 Year</td>\n",
              "      <td>No</td>\n",
              "      <td>33536.0</td>\n",
              "      <td>26.0</td>\n",
              "      <td>183</td>\n",
              "      <td>0</td>\n",
              "    </tr>\n",
              "    <tr>\n",
              "      <th>3</th>\n",
              "      <td>Male</td>\n",
              "      <td>47</td>\n",
              "      <td>1</td>\n",
              "      <td>28.0</td>\n",
              "      <td>0</td>\n",
              "      <td>&gt; 2 Years</td>\n",
              "      <td>Yes</td>\n",
              "      <td>38294.0</td>\n",
              "      <td>26.0</td>\n",
              "      <td>27</td>\n",
              "      <td>1</td>\n",
              "    </tr>\n",
              "    <tr>\n",
              "      <th>4</th>\n",
              "      <td>Male</td>\n",
              "      <td>21</td>\n",
              "      <td>1</td>\n",
              "      <td>11.0</td>\n",
              "      <td>1</td>\n",
              "      <td>&lt; 1 Year</td>\n",
              "      <td>No</td>\n",
              "      <td>28619.0</td>\n",
              "      <td>152.0</td>\n",
              "      <td>203</td>\n",
              "      <td>0</td>\n",
              "    </tr>\n",
              "    <tr>\n",
              "      <th>5</th>\n",
              "      <td>Female</td>\n",
              "      <td>29</td>\n",
              "      <td>1</td>\n",
              "      <td>41.0</td>\n",
              "      <td>1</td>\n",
              "      <td>&lt; 1 Year</td>\n",
              "      <td>No</td>\n",
              "      <td>27496.0</td>\n",
              "      <td>152.0</td>\n",
              "      <td>39</td>\n",
              "      <td>0</td>\n",
              "    </tr>\n",
              "  </tbody>\n",
              "</table>\n",
              "</div>"
            ],
            "text/plain": [
              "    Gender  Age  Driving_License  ...  Policy_Sales_Channel  Vintage Response\n",
              "id                                ...                                        \n",
              "1     Male   44                1  ...                  26.0      217        1\n",
              "2     Male   76                1  ...                  26.0      183        0\n",
              "3     Male   47                1  ...                  26.0       27        1\n",
              "4     Male   21                1  ...                 152.0      203        0\n",
              "5   Female   29                1  ...                 152.0       39        0\n",
              "\n",
              "[5 rows x 11 columns]"
            ]
          },
          "metadata": {
            "tags": []
          },
          "execution_count": 31
        }
      ]
    },
    {
      "cell_type": "markdown",
      "metadata": {
        "id": "7oWwCoXEKWDi"
      },
      "source": [
        "Decido di eliminare le features *Region_Code* e *Policy_Sales_Channel*  in quanto influenzano in maniera non significativa l'adesione da parte dei clienti e comporterebbero la creazione di numerose variabili binarie."
      ]
    },
    {
      "cell_type": "code",
      "metadata": {
        "id": "Jm89H03-Khz2"
      },
      "source": [
        "dataset = dataset.drop([\"Region_Code\", \"Policy_Sales_Channel\"], axis=1)"
      ],
      "execution_count": null,
      "outputs": []
    },
    {
      "cell_type": "markdown",
      "metadata": {
        "id": "9CzQk5lBLUhX"
      },
      "source": [
        "Adesso andremo a trasformare le feature categoriche in feature binarie:"
      ]
    },
    {
      "cell_type": "code",
      "metadata": {
        "id": "BJj61cPOLvYH"
      },
      "source": [
        "categorical_features = [\"Gender\", \"Vehicle_Age\"]\n",
        "dataset = pd.get_dummies(dataset, columns=categorical_features, prefix=categorical_features)"
      ],
      "execution_count": null,
      "outputs": []
    },
    {
      "cell_type": "markdown",
      "metadata": {
        "id": "Iu_k7HtiNI4p"
      },
      "source": [
        "La feature *Vehicle_Damage* viene modificata in una variabile binaria: 1 se c'è stato un incidente pregresso, altrimenti 0."
      ]
    },
    {
      "cell_type": "code",
      "metadata": {
        "id": "hVYBWShtNYlo"
      },
      "source": [
        "dataset[\"Vehicle_Damage\"] = np.where(dataset[\"Vehicle_Damage\"] == \"Yes\", 1, 0)"
      ],
      "execution_count": null,
      "outputs": []
    },
    {
      "cell_type": "markdown",
      "metadata": {
        "id": "Gy7vuqkWJmwa"
      },
      "source": [
        "Il dataset risulta essere:"
      ]
    },
    {
      "cell_type": "code",
      "metadata": {
        "colab": {
          "base_uri": "https://localhost:8080/",
          "height": 230
        },
        "id": "d4SwzXExJqcm",
        "outputId": "53f7f4ba-a949-4d44-a20a-3dab770449ba"
      },
      "source": [
        "dataset.head()"
      ],
      "execution_count": null,
      "outputs": [
        {
          "output_type": "execute_result",
          "data": {
            "text/html": [
              "<div>\n",
              "<style scoped>\n",
              "    .dataframe tbody tr th:only-of-type {\n",
              "        vertical-align: middle;\n",
              "    }\n",
              "\n",
              "    .dataframe tbody tr th {\n",
              "        vertical-align: top;\n",
              "    }\n",
              "\n",
              "    .dataframe thead th {\n",
              "        text-align: right;\n",
              "    }\n",
              "</style>\n",
              "<table border=\"1\" class=\"dataframe\">\n",
              "  <thead>\n",
              "    <tr style=\"text-align: right;\">\n",
              "      <th></th>\n",
              "      <th>Age</th>\n",
              "      <th>Driving_License</th>\n",
              "      <th>Previously_Insured</th>\n",
              "      <th>Vehicle_Damage</th>\n",
              "      <th>Annual_Premium</th>\n",
              "      <th>Vintage</th>\n",
              "      <th>Response</th>\n",
              "      <th>Gender_Female</th>\n",
              "      <th>Gender_Male</th>\n",
              "      <th>Vehicle_Age_1-2 Year</th>\n",
              "      <th>Vehicle_Age_&lt; 1 Year</th>\n",
              "      <th>Vehicle_Age_&gt; 2 Years</th>\n",
              "    </tr>\n",
              "    <tr>\n",
              "      <th>id</th>\n",
              "      <th></th>\n",
              "      <th></th>\n",
              "      <th></th>\n",
              "      <th></th>\n",
              "      <th></th>\n",
              "      <th></th>\n",
              "      <th></th>\n",
              "      <th></th>\n",
              "      <th></th>\n",
              "      <th></th>\n",
              "      <th></th>\n",
              "      <th></th>\n",
              "    </tr>\n",
              "  </thead>\n",
              "  <tbody>\n",
              "    <tr>\n",
              "      <th>1</th>\n",
              "      <td>44</td>\n",
              "      <td>1</td>\n",
              "      <td>0</td>\n",
              "      <td>1</td>\n",
              "      <td>40454.0</td>\n",
              "      <td>217</td>\n",
              "      <td>1</td>\n",
              "      <td>0</td>\n",
              "      <td>1</td>\n",
              "      <td>0</td>\n",
              "      <td>0</td>\n",
              "      <td>1</td>\n",
              "    </tr>\n",
              "    <tr>\n",
              "      <th>2</th>\n",
              "      <td>76</td>\n",
              "      <td>1</td>\n",
              "      <td>0</td>\n",
              "      <td>0</td>\n",
              "      <td>33536.0</td>\n",
              "      <td>183</td>\n",
              "      <td>0</td>\n",
              "      <td>0</td>\n",
              "      <td>1</td>\n",
              "      <td>1</td>\n",
              "      <td>0</td>\n",
              "      <td>0</td>\n",
              "    </tr>\n",
              "    <tr>\n",
              "      <th>3</th>\n",
              "      <td>47</td>\n",
              "      <td>1</td>\n",
              "      <td>0</td>\n",
              "      <td>1</td>\n",
              "      <td>38294.0</td>\n",
              "      <td>27</td>\n",
              "      <td>1</td>\n",
              "      <td>0</td>\n",
              "      <td>1</td>\n",
              "      <td>0</td>\n",
              "      <td>0</td>\n",
              "      <td>1</td>\n",
              "    </tr>\n",
              "    <tr>\n",
              "      <th>4</th>\n",
              "      <td>21</td>\n",
              "      <td>1</td>\n",
              "      <td>1</td>\n",
              "      <td>0</td>\n",
              "      <td>28619.0</td>\n",
              "      <td>203</td>\n",
              "      <td>0</td>\n",
              "      <td>0</td>\n",
              "      <td>1</td>\n",
              "      <td>0</td>\n",
              "      <td>1</td>\n",
              "      <td>0</td>\n",
              "    </tr>\n",
              "    <tr>\n",
              "      <th>5</th>\n",
              "      <td>29</td>\n",
              "      <td>1</td>\n",
              "      <td>1</td>\n",
              "      <td>0</td>\n",
              "      <td>27496.0</td>\n",
              "      <td>39</td>\n",
              "      <td>0</td>\n",
              "      <td>1</td>\n",
              "      <td>0</td>\n",
              "      <td>0</td>\n",
              "      <td>1</td>\n",
              "      <td>0</td>\n",
              "    </tr>\n",
              "  </tbody>\n",
              "</table>\n",
              "</div>"
            ],
            "text/plain": [
              "    Age  Driving_License  ...  Vehicle_Age_< 1 Year  Vehicle_Age_> 2 Years\n",
              "id                        ...                                             \n",
              "1    44                1  ...                     0                      1\n",
              "2    76                1  ...                     0                      0\n",
              "3    47                1  ...                     0                      1\n",
              "4    21                1  ...                     1                      0\n",
              "5    29                1  ...                     1                      0\n",
              "\n",
              "[5 rows x 12 columns]"
            ]
          },
          "metadata": {
            "tags": []
          },
          "execution_count": 35
        }
      ]
    },
    {
      "cell_type": "markdown",
      "metadata": {
        "id": "190TkDKqKI48"
      },
      "source": [
        "Adesso effettueremo un'operazione di undersampling per bilanciare le classi:"
      ]
    },
    {
      "cell_type": "code",
      "metadata": {
        "colab": {
          "base_uri": "https://localhost:8080/"
        },
        "id": "DsYXWzxtFIZW",
        "outputId": "69c1a0f2-b36c-4049-9710-a41204b7e5d7"
      },
      "source": [
        "y = dataset[\"Response\"]\n",
        "X = dataset.drop(\"Response\", axis=1)\n",
        "\n",
        "rum = RandomUnderSampler(random_state=42)\n",
        "\n",
        "X_r, y_r = rum.fit_resample(X,y)"
      ],
      "execution_count": null,
      "outputs": [
        {
          "output_type": "stream",
          "text": [
            "/usr/local/lib/python3.7/dist-packages/sklearn/utils/deprecation.py:87: FutureWarning: Function safe_indexing is deprecated; safe_indexing is deprecated in version 0.22 and will be removed in version 0.24.\n",
            "  warnings.warn(msg, category=FutureWarning)\n"
          ],
          "name": "stderr"
        }
      ]
    },
    {
      "cell_type": "code",
      "metadata": {
        "colab": {
          "base_uri": "https://localhost:8080/",
          "height": 263
        },
        "id": "ZEw8vDXBLLnh",
        "outputId": "4e42b1c9-66e7-470d-9fee-82348c6862c3"
      },
      "source": [
        "pd.value_counts(y_r).plot.pie(autopct=\"%.1f%%\", title=\"Response\");"
      ],
      "execution_count": null,
      "outputs": [
        {
          "output_type": "display_data",
          "data": {
            "image/png": "[encoded data removed]",
            "text/plain": [
              "<Figure size 432x288 with 1 Axes>"
            ]
          },
          "metadata": {
            "tags": []
          }
        }
      ]
    },
    {
      "cell_type": "markdown",
      "metadata": {
        "id": "S8wDCtnfMEl3"
      },
      "source": [
        "Ora effetuiamo la suddivisione del dataset:"
      ]
    },
    {
      "cell_type": "code",
      "metadata": {
        "id": "w--c_4zvMH8u",
        "colab": {
          "base_uri": "https://localhost:8080/"
        },
        "outputId": "28de05f5-91fd-4f25-802a-507937a0dd87"
      },
      "source": [
        "X_train, X_val, y_train, y_val = train_test_split(X_r,y_r, test_size = 1/3,random_state = 42)\n",
        "print(f\"X_train:{len(X_train)}, y_train:{len(y_train)}, X_val:{len(X_val)}, y_val:{len(y_val)}\") "
      ],
      "execution_count": null,
      "outputs": [
        {
          "output_type": "stream",
          "text": [
            "X_train:62280, y_train:62280, X_val:31140, y_val:31140\n"
          ],
          "name": "stdout"
        }
      ]
    },
    {
      "cell_type": "markdown",
      "metadata": {
        "id": "ikiQaa3zUcsL"
      },
      "source": [
        "## Generazione e Valutazione dei modelli di learning "
      ]
    },
    {
      "cell_type": "markdown",
      "metadata": {
        "id": "NZCzFbdwOAAD"
      },
      "source": [
        "Definisco una funzione che calcola l'intervallo di accuratezza con confidenza al 95%."
      ]
    },
    {
      "cell_type": "code",
      "metadata": {
        "id": "MBHZHeH4AxlO"
      },
      "source": [
        "def accuracy_interval(f):\n",
        "  N = len(y_val)\n",
        "  n_min = f + ( 1.96**2/(2*N) - 1.96 * np.sqrt( (f/N) - (f**2/N) + (1.96**2/(4*N**2) ) ) ) \n",
        "  n_max = f + ( 1.96**2/(2*N) + 1.96 * np.sqrt( (f/N) - (f**2/N) + (1.96**2/(4*N**2) ) ) ) \n",
        "  d = 1 + (1.96**2 / N)\n",
        "  e_min = n_min / d\n",
        "  e_max = n_max / d\n",
        "  return e_min, e_max"
      ],
      "execution_count": null,
      "outputs": []
    },
    {
      "cell_type": "markdown",
      "metadata": {
        "id": "vovMncvQKPWC"
      },
      "source": [
        "e un dataframe dove salvare i valori delle performance dei modelli che verranno testati."
      ]
    },
    {
      "cell_type": "code",
      "metadata": {
        "id": "SxeVN7qabqRC"
      },
      "source": [
        "performance = pd.DataFrame({}, columns=[\"model\", \"accuracy_interval\", \"mse\"])"
      ],
      "execution_count": null,
      "outputs": []
    },
    {
      "cell_type": "markdown",
      "metadata": {
        "id": "jM06SC8tPJoL"
      },
      "source": [
        "### Perceptron"
      ]
    },
    {
      "cell_type": "markdown",
      "metadata": {
        "id": "kZiSiLD8d0_P"
      },
      "source": [
        "#### Perceptron senza standardizzazione"
      ]
    },
    {
      "cell_type": "code",
      "metadata": {
        "colab": {
          "base_uri": "https://localhost:8080/"
        },
        "id": "GKuZDqSmd3t4",
        "outputId": "0a37dbe6-43c5-4daa-8d30-6c30f516d9cb"
      },
      "source": [
        "model = Perceptron(random_state=42)\n",
        "model.fit(X_train, y_train)"
      ],
      "execution_count": null,
      "outputs": [
        {
          "output_type": "execute_result",
          "data": {
            "text/plain": [
              "Perceptron(alpha=0.0001, class_weight=None, early_stopping=False, eta0=1.0,\n",
              "           fit_intercept=True, max_iter=1000, n_iter_no_change=5, n_jobs=None,\n",
              "           penalty=None, random_state=42, shuffle=True, tol=0.001,\n",
              "           validation_fraction=0.1, verbose=0, warm_start=False)"
            ]
          },
          "metadata": {
            "tags": []
          },
          "execution_count": 47
        }
      ]
    },
    {
      "cell_type": "code",
      "metadata": {
        "id": "6kOzek5njfOE",
        "colab": {
          "base_uri": "https://localhost:8080/"
        },
        "outputId": "f8a1dd02-4b25-4ac4-c38f-897d81074f10"
      },
      "source": [
        "print('Accuracy on train {:.2f}%'.format(model.score(X_train, y_train)*100))\n",
        "print('Accuracy on val {:.2f}%'.format(model.score(X_val, y_val)*100))"
      ],
      "execution_count": null,
      "outputs": [
        {
          "output_type": "stream",
          "text": [
            "Accuracy on train 49.91%\n",
            "Accuracy on val 50.15%\n"
          ],
          "name": "stdout"
        }
      ]
    },
    {
      "cell_type": "code",
      "metadata": {
        "colab": {
          "base_uri": "https://localhost:8080/"
        },
        "id": "j5iTxv7ShB9g",
        "outputId": "d66a1853-7029-4044-d9c0-9528df05b54b"
      },
      "source": [
        "y_pred = model.predict(X_val)\n",
        "cm = confusion_matrix(y_val, y_pred)\n",
        "pd.DataFrame(cm, index = model.classes_, columns = model.classes_)"
      ],
      "execution_count": null,
      "outputs": [
        {
          "output_type": "execute_result",
          "data": {
            "text/html": [
              "<div>\n",
              "<style scoped>\n",
              "    .dataframe tbody tr th:only-of-type {\n",
              "        vertical-align: middle;\n",
              "    }\n",
              "\n",
              "    .dataframe tbody tr th {\n",
              "        vertical-align: top;\n",
              "    }\n",
              "\n",
              "    .dataframe thead th {\n",
              "        text-align: right;\n",
              "    }\n",
              "</style>\n",
              "<table border=\"1\" class=\"dataframe\">\n",
              "  <thead>\n",
              "    <tr style=\"text-align: right;\">\n",
              "      <th></th>\n",
              "      <th>0</th>\n",
              "      <th>1</th>\n",
              "    </tr>\n",
              "  </thead>\n",
              "  <tbody>\n",
              "    <tr>\n",
              "      <th>0</th>\n",
              "      <td>15609</td>\n",
              "      <td>8</td>\n",
              "    </tr>\n",
              "    <tr>\n",
              "      <th>1</th>\n",
              "      <td>15515</td>\n",
              "      <td>8</td>\n",
              "    </tr>\n",
              "  </tbody>\n",
              "</table>\n",
              "</div>"
            ],
            "text/plain": [
              "       0  1\n",
              "0  15609  8\n",
              "1  15515  8"
            ]
          },
          "metadata": {
            "tags": []
          },
          "execution_count": 49
        }
      ]
    },
    {
      "cell_type": "code",
      "metadata": {
        "colab": {
          "base_uri": "https://localhost:8080/"
        },
        "id": "VJwEUjw-hPWJ",
        "outputId": "37b8d229-7438-4249-a3e8-a543e3666f94"
      },
      "source": [
        "precision = precision_score(y_val, y_pred, pos_label=0)\n",
        "recall = recall_score(y_val, y_pred, pos_label=0)\n",
        "f1 = f1_score(y_val, y_pred, average=\"macro\")\n",
        "\n",
        "print(f\"precision: {precision}, recall: {recall}, f1-score: {f1}\")"
      ],
      "execution_count": null,
      "outputs": [
        {
          "output_type": "stream",
          "text": [
            "precision: 0.5015100886775479, recall: 0.9994877377217135, f1-score: 0.3344614757786933\n"
          ],
          "name": "stdout"
        }
      ]
    },
    {
      "cell_type": "code",
      "metadata": {
        "colab": {
          "base_uri": "https://localhost:8080/"
        },
        "id": "rGQQSLb7iLnX",
        "outputId": "e7f02a3b-c567-4cc7-fe09-0a7422e51dc1"
      },
      "source": [
        "coef = pd.Series(model.coef_[0], index=X.columns)\n",
        "coef.nlargest().plot(kind='barh')"
      ],
      "execution_count": null,
      "outputs": [
        {
          "output_type": "execute_result",
          "data": {
            "text/plain": [
              "<matplotlib.axes._subplots.AxesSubplot at 0x7fced52de190>"
            ]
          },
          "metadata": {
            "tags": []
          },
          "execution_count": 51
        },
        {
          "output_type": "display_data",
          "data": {
            "image/png": "[encoded data removed]",
            "text/plain": [
              "<Figure size 432x288 with 1 Axes>"
            ]
          },
          "metadata": {
            "tags": [],
            "needs_background": "light"
          }
        }
      ]
    },
    {
      "cell_type": "code",
      "metadata": {
        "colab": {
          "base_uri": "https://localhost:8080/"
        },
        "id": "nBJY2aJ3b0Qd",
        "outputId": "ad271e61-70c7-48b6-fad5-68845f125a9d"
      },
      "source": [
        "performance.loc[0] = [\"Perceptron senza standardizzazione\", accuracy_interval(f1), mean_squared_error(y_val, y_pred)]\n",
        "performance"
      ],
      "execution_count": null,
      "outputs": [
        {
          "output_type": "execute_result",
          "data": {
            "text/html": [
              "<div>\n",
              "<style scoped>\n",
              "    .dataframe tbody tr th:only-of-type {\n",
              "        vertical-align: middle;\n",
              "    }\n",
              "\n",
              "    .dataframe tbody tr th {\n",
              "        vertical-align: top;\n",
              "    }\n",
              "\n",
              "    .dataframe thead th {\n",
              "        text-align: right;\n",
              "    }\n",
              "</style>\n",
              "<table border=\"1\" class=\"dataframe\">\n",
              "  <thead>\n",
              "    <tr style=\"text-align: right;\">\n",
              "      <th></th>\n",
              "      <th>model</th>\n",
              "      <th>accuracy_interval</th>\n",
              "      <th>mse</th>\n",
              "    </tr>\n",
              "  </thead>\n",
              "  <tbody>\n",
              "    <tr>\n",
              "      <th>0</th>\n",
              "      <td>Perceptron senza standardizzazione</td>\n",
              "      <td>(0.32924187518956094, 0.33972191479763886)</td>\n",
              "      <td>0.498491</td>\n",
              "    </tr>\n",
              "  </tbody>\n",
              "</table>\n",
              "</div>"
            ],
            "text/plain": [
              "                                model  ...       mse\n",
              "0  Perceptron senza standardizzazione  ...  0.498491\n",
              "\n",
              "[1 rows x 3 columns]"
            ]
          },
          "metadata": {
            "tags": []
          },
          "execution_count": 52
        }
      ]
    },
    {
      "cell_type": "markdown",
      "metadata": {
        "id": "0yAq3r_NcPmi"
      },
      "source": [
        "#### Perceptron con standardizzazione"
      ]
    },
    {
      "cell_type": "code",
      "metadata": {
        "colab": {
          "base_uri": "https://localhost:8080/"
        },
        "id": "_m2e9ciJcUxp",
        "outputId": "68dea1d7-660f-4f98-edab-f91f68710479"
      },
      "source": [
        "model = Pipeline([\n",
        "    ('std', StandardScaler()),\n",
        "    ('perceptron', Perceptron(random_state=42))\n",
        "])\n",
        "\n",
        "model.fit(X_train, y_train)"
      ],
      "execution_count": null,
      "outputs": [
        {
          "output_type": "execute_result",
          "data": {
            "text/plain": [
              "Pipeline(memory=None,\n",
              "         steps=[('std',\n",
              "                 StandardScaler(copy=True, with_mean=True, with_std=True)),\n",
              "                ('perceptron',\n",
              "                 Perceptron(alpha=0.0001, class_weight=None,\n",
              "                            early_stopping=False, eta0=1.0, fit_intercept=True,\n",
              "                            max_iter=1000, n_iter_no_change=5, n_jobs=None,\n",
              "                            penalty=None, random_state=42, shuffle=True,\n",
              "                            tol=0.001, validation_fraction=0.1, verbose=0,\n",
              "                            warm_start=False))],\n",
              "         verbose=False)"
            ]
          },
          "metadata": {
            "tags": []
          },
          "execution_count": 53
        }
      ]
    },
    {
      "cell_type": "code",
      "metadata": {
        "id": "GCtoNlqbjkkP",
        "colab": {
          "base_uri": "https://localhost:8080/"
        },
        "outputId": "b4b3440a-e00a-44bb-cd95-ac03feb14b28"
      },
      "source": [
        "print('Accuracy on train {:.2f}%'.format(model.score(X_train, y_train)*100))\n",
        "print('Accuracy on val {:.2f}%'.format(model.score(X_val, y_val)*100))"
      ],
      "execution_count": null,
      "outputs": [
        {
          "output_type": "stream",
          "text": [
            "Accuracy on train 69.51%\n",
            "Accuracy on val 69.83%\n"
          ],
          "name": "stdout"
        }
      ]
    },
    {
      "cell_type": "code",
      "metadata": {
        "colab": {
          "base_uri": "https://localhost:8080/"
        },
        "id": "xTl4c0nXdhLE",
        "outputId": "135599af-70c6-4782-e83b-78100ee5769c"
      },
      "source": [
        "y_pred = model.predict(X_val)\n",
        "cm = confusion_matrix(y_val, y_pred)\n",
        "pd.DataFrame(cm, index = model.classes_, columns = model.classes_)"
      ],
      "execution_count": null,
      "outputs": [
        {
          "output_type": "execute_result",
          "data": {
            "text/html": [
              "<div>\n",
              "<style scoped>\n",
              "    .dataframe tbody tr th:only-of-type {\n",
              "        vertical-align: middle;\n",
              "    }\n",
              "\n",
              "    .dataframe tbody tr th {\n",
              "        vertical-align: top;\n",
              "    }\n",
              "\n",
              "    .dataframe thead th {\n",
              "        text-align: right;\n",
              "    }\n",
              "</style>\n",
              "<table border=\"1\" class=\"dataframe\">\n",
              "  <thead>\n",
              "    <tr style=\"text-align: right;\">\n",
              "      <th></th>\n",
              "      <th>0</th>\n",
              "      <th>1</th>\n",
              "    </tr>\n",
              "  </thead>\n",
              "  <tbody>\n",
              "    <tr>\n",
              "      <th>0</th>\n",
              "      <td>11444</td>\n",
              "      <td>4173</td>\n",
              "    </tr>\n",
              "    <tr>\n",
              "      <th>1</th>\n",
              "      <td>5221</td>\n",
              "      <td>10302</td>\n",
              "    </tr>\n",
              "  </tbody>\n",
              "</table>\n",
              "</div>"
            ],
            "text/plain": [
              "       0      1\n",
              "0  11444   4173\n",
              "1   5221  10302"
            ]
          },
          "metadata": {
            "tags": []
          },
          "execution_count": 55
        }
      ]
    },
    {
      "cell_type": "code",
      "metadata": {
        "colab": {
          "base_uri": "https://localhost:8080/"
        },
        "id": "ou51fu7jXmes",
        "outputId": "f79274c7-c4d3-46a9-f8e0-e76faf968c3a"
      },
      "source": [
        "precision = precision_score(y_val, y_pred, pos_label=0)\n",
        "recall = recall_score(y_val, y_pred, pos_label=0)\n",
        "f1 = f1_score(y_val, y_pred, average=\"macro\")\n",
        "\n",
        "print(f\"precision: {precision}, recall: {recall}, f1-score: {f1}\")"
      ],
      "execution_count": null,
      "outputs": [
        {
          "output_type": "stream",
          "text": [
            "precision: 0.6867086708670868, recall: 0.7327911890888135, f1-score: 0.6979238551471241\n"
          ],
          "name": "stdout"
        }
      ]
    },
    {
      "cell_type": "code",
      "metadata": {
        "colab": {
          "base_uri": "https://localhost:8080/"
        },
        "id": "MBvjoZP3hqw4",
        "outputId": "c0b6b4a1-355c-451c-86ee-0622c4cc597e"
      },
      "source": [
        "coef = pd.Series(model[1].coef_[0], index=X.columns)\n",
        "coef.nlargest().plot(kind='barh')"
      ],
      "execution_count": null,
      "outputs": [
        {
          "output_type": "execute_result",
          "data": {
            "text/plain": [
              "<matplotlib.axes._subplots.AxesSubplot at 0x7fced55c6210>"
            ]
          },
          "metadata": {
            "tags": []
          },
          "execution_count": 57
        },
        {
          "output_type": "display_data",
          "data": {
            "image/png": "[encoded data removed]",
            "text/plain": [
              "<Figure size 432x288 with 1 Axes>"
            ]
          },
          "metadata": {
            "tags": [],
            "needs_background": "light"
          }
        }
      ]
    },
    {
      "cell_type": "code",
      "metadata": {
        "colab": {
          "base_uri": "https://localhost:8080/"
        },
        "id": "h3nL-bO3X3In",
        "outputId": "1081050d-bd83-40bf-e799-e106e810c488"
      },
      "source": [
        "performance.loc[1] = [\"Perceptron con standardizzazione\", accuracy_interval(f1), mean_squared_error(y_val, y_pred)]\n",
        "performance"
      ],
      "execution_count": null,
      "outputs": [
        {
          "output_type": "execute_result",
          "data": {
            "text/html": [
              "<div>\n",
              "<style scoped>\n",
              "    .dataframe tbody tr th:only-of-type {\n",
              "        vertical-align: middle;\n",
              "    }\n",
              "\n",
              "    .dataframe tbody tr th {\n",
              "        vertical-align: top;\n",
              "    }\n",
              "\n",
              "    .dataframe thead th {\n",
              "        text-align: right;\n",
              "    }\n",
              "</style>\n",
              "<table border=\"1\" class=\"dataframe\">\n",
              "  <thead>\n",
              "    <tr style=\"text-align: right;\">\n",
              "      <th></th>\n",
              "      <th>model</th>\n",
              "      <th>accuracy_interval</th>\n",
              "      <th>mse</th>\n",
              "    </tr>\n",
              "  </thead>\n",
              "  <tbody>\n",
              "    <tr>\n",
              "      <th>0</th>\n",
              "      <td>Perceptron senza standardizzazione</td>\n",
              "      <td>(0.32924187518956094, 0.33972191479763886)</td>\n",
              "      <td>0.498491</td>\n",
              "    </tr>\n",
              "    <tr>\n",
              "      <th>1</th>\n",
              "      <td>Perceptron con standardizzazione</td>\n",
              "      <td>(0.6927998284964185, 0.7029990538920304)</td>\n",
              "      <td>0.301670</td>\n",
              "    </tr>\n",
              "  </tbody>\n",
              "</table>\n",
              "</div>"
            ],
            "text/plain": [
              "                                model  ...       mse\n",
              "0  Perceptron senza standardizzazione  ...  0.498491\n",
              "1    Perceptron con standardizzazione  ...  0.301670\n",
              "\n",
              "[2 rows x 3 columns]"
            ]
          },
          "metadata": {
            "tags": []
          },
          "execution_count": 58
        }
      ]
    },
    {
      "cell_type": "markdown",
      "metadata": {
        "id": "BmAdaIIYiqfN"
      },
      "source": [
        "#### Perceptron con Grid Search e CrossValidation"
      ]
    },
    {
      "cell_type": "code",
      "metadata": {
        "colab": {
          "base_uri": "https://localhost:8080/"
        },
        "id": "3fbec9sAaHWs",
        "outputId": "df7f77fc-a337-4424-e969-d0472ff22cd8"
      },
      "source": [
        "model = Pipeline([\n",
        "    ('std', StandardScaler()),\n",
        "    ('perceptron', Perceptron(random_state=42))\n",
        "])\n",
        "\n",
        "grid = {\n",
        "    'perceptron__penalty': [\"l1\", \"l2\", \"elasticnet\"],\n",
        "    'perceptron__alpha': [0.0001, 0.001, 0.01, 1]\n",
        "}\n",
        "\n",
        "skf = StratifiedKFold(3, shuffle=True, random_state=42)\n",
        "gs = GridSearchCV(model, grid, cv=skf)\n",
        "\n",
        "gs.fit(X_train, y_train)"
      ],
      "execution_count": null,
      "outputs": [
        {
          "output_type": "execute_result",
          "data": {
            "text/plain": [
              "GridSearchCV(cv=StratifiedKFold(n_splits=3, random_state=42, shuffle=True),\n",
              "             error_score=nan,\n",
              "             estimator=Pipeline(memory=None,\n",
              "                                steps=[('std',\n",
              "                                        StandardScaler(copy=True,\n",
              "                                                       with_mean=True,\n",
              "                                                       with_std=True)),\n",
              "                                       ('perceptron',\n",
              "                                        Perceptron(alpha=0.0001,\n",
              "                                                   class_weight=None,\n",
              "                                                   early_stopping=False,\n",
              "                                                   eta0=1.0, fit_intercept=True,\n",
              "                                                   max_iter=1000,\n",
              "                                                   n_iter_no_change=5,\n",
              "                                                   n_jobs=None, penalty=None,\n",
              "                                                   random_state=42,\n",
              "                                                   shuffle=True, tol=0.001,\n",
              "                                                   validation_fraction=0.1,\n",
              "                                                   verbose=0,\n",
              "                                                   warm_start=False))],\n",
              "                                verbose=False),\n",
              "             iid='deprecated', n_jobs=None,\n",
              "             param_grid={'perceptron__alpha': [0.0001, 0.001, 0.01, 1],\n",
              "                         'perceptron__penalty': ['l1', 'l2', 'elasticnet']},\n",
              "             pre_dispatch='2*n_jobs', refit=True, return_train_score=False,\n",
              "             scoring=None, verbose=0)"
            ]
          },
          "metadata": {
            "tags": []
          },
          "execution_count": 59
        }
      ]
    },
    {
      "cell_type": "code",
      "metadata": {
        "colab": {
          "base_uri": "https://localhost:8080/"
        },
        "id": "9HgAB8gsk9F8",
        "outputId": "44702cde-1aa4-44e4-ece1-59fa0ee85cbe"
      },
      "source": [
        "print('Accuracy on train {:.2f}%'.format(gs.score(X_train, y_train)*100))\n",
        "print('Accuracy on val {:.2f}%'.format(gs.score(X_val, y_val)*100))\n",
        "print('Best parameters:', gs.best_params_)  \n",
        "print('Best score: {:.4f}%'.format(round(gs.best_score_ * 100, 4)))"
      ],
      "execution_count": null,
      "outputs": [
        {
          "output_type": "stream",
          "text": [
            "Accuracy on train 49.92%\n",
            "Accuracy on val 50.15%\n",
            "Best parameters: {'perceptron__alpha': 0.001, 'perceptron__penalty': 'l1'}\n",
            "Best score: 77.8789%\n"
          ],
          "name": "stdout"
        }
      ]
    },
    {
      "cell_type": "code",
      "metadata": {
        "colab": {
          "base_uri": "https://localhost:8080/",
          "height": 108
        },
        "id": "o0-U68iGlnt1",
        "outputId": "d2a966be-7035-4406-dc72-e543b7f5f613"
      },
      "source": [
        "y_pred = gs.predict(X_val)\n",
        "cm = confusion_matrix(y_val, y_pred)\n",
        "pd.DataFrame(cm, index=gs.best_estimator_.classes_, columns=gs.best_estimator_.classes_)"
      ],
      "execution_count": null,
      "outputs": [
        {
          "output_type": "execute_result",
          "data": {
            "text/html": [
              "<div>\n",
              "<style scoped>\n",
              "    .dataframe tbody tr th:only-of-type {\n",
              "        vertical-align: middle;\n",
              "    }\n",
              "\n",
              "    .dataframe tbody tr th {\n",
              "        vertical-align: top;\n",
              "    }\n",
              "\n",
              "    .dataframe thead th {\n",
              "        text-align: right;\n",
              "    }\n",
              "</style>\n",
              "<table border=\"1\" class=\"dataframe\">\n",
              "  <thead>\n",
              "    <tr style=\"text-align: right;\">\n",
              "      <th></th>\n",
              "      <th>0</th>\n",
              "      <th>1</th>\n",
              "    </tr>\n",
              "  </thead>\n",
              "  <tbody>\n",
              "    <tr>\n",
              "      <th>0</th>\n",
              "      <td>15617</td>\n",
              "      <td>0</td>\n",
              "    </tr>\n",
              "    <tr>\n",
              "      <th>1</th>\n",
              "      <td>15523</td>\n",
              "      <td>0</td>\n",
              "    </tr>\n",
              "  </tbody>\n",
              "</table>\n",
              "</div>"
            ],
            "text/plain": [
              "       0  1\n",
              "0  15617  0\n",
              "1  15523  0"
            ]
          },
          "metadata": {
            "tags": []
          },
          "execution_count": 61
        }
      ]
    },
    {
      "cell_type": "code",
      "metadata": {
        "colab": {
          "base_uri": "https://localhost:8080/"
        },
        "id": "18oifrldlsGD",
        "outputId": "d05c8356-7d0e-4a73-c085-6291c9ef99e8"
      },
      "source": [
        "precision = precision_score(y_val, y_pred, pos_label=0)\n",
        "recall = recall_score(y_val, y_pred, pos_label=0)\n",
        "f1 = f1_score(y_val, y_pred, average=\"macro\")\n",
        "\n",
        "print(f\"precision: {precision}, recall: {recall}, f1-score: {f1}\")"
      ],
      "execution_count": null,
      "outputs": [
        {
          "output_type": "stream",
          "text": [
            "precision: 0.5015093127809891, recall: 1.0, f1-score: 0.3340034647218598\n"
          ],
          "name": "stdout"
        }
      ]
    },
    {
      "cell_type": "code",
      "metadata": {
        "colab": {
          "base_uri": "https://localhost:8080/",
          "height": 281
        },
        "id": "x4lsNS4CmIeI",
        "outputId": "cad0e88c-e27b-46e6-806f-9562e39abd65"
      },
      "source": [
        "coef = pd.Series(gs.best_estimator_[1].coef_[0], index=X.columns)\n",
        "coef.nlargest().plot(kind='barh')"
      ],
      "execution_count": null,
      "outputs": [
        {
          "output_type": "execute_result",
          "data": {
            "text/plain": [
              "<matplotlib.axes._subplots.AxesSubplot at 0x7fced56e3890>"
            ]
          },
          "metadata": {
            "tags": []
          },
          "execution_count": 63
        },
        {
          "output_type": "display_data",
          "data": {
            "image/png": "[encoded data removed]",
            "text/plain": [
              "<Figure size 432x288 with 1 Axes>"
            ]
          },
          "metadata": {
            "tags": [],
            "needs_background": "light"
          }
        }
      ]
    },
    {
      "cell_type": "code",
      "metadata": {
        "colab": {
          "base_uri": "https://localhost:8080/",
          "height": 138
        },
        "id": "QkhsYBNTlvtP",
        "outputId": "a95cdef6-a318-400b-b25b-fa34e5434b11"
      },
      "source": [
        "performance.loc[2] = [\"Perceptron con Grid Search\", accuracy_interval(f1), mean_squared_error(y_val, y_pred)]\n",
        "performance"
      ],
      "execution_count": null,
      "outputs": [
        {
          "output_type": "execute_result",
          "data": {
            "text/html": [
              "<div>\n",
              "<style scoped>\n",
              "    .dataframe tbody tr th:only-of-type {\n",
              "        vertical-align: middle;\n",
              "    }\n",
              "\n",
              "    .dataframe tbody tr th {\n",
              "        vertical-align: top;\n",
              "    }\n",
              "\n",
              "    .dataframe thead th {\n",
              "        text-align: right;\n",
              "    }\n",
              "</style>\n",
              "<table border=\"1\" class=\"dataframe\">\n",
              "  <thead>\n",
              "    <tr style=\"text-align: right;\">\n",
              "      <th></th>\n",
              "      <th>model</th>\n",
              "      <th>accuracy_interval</th>\n",
              "      <th>mse</th>\n",
              "    </tr>\n",
              "  </thead>\n",
              "  <tbody>\n",
              "    <tr>\n",
              "      <th>0</th>\n",
              "      <td>Perceptron senza standardizzazione</td>\n",
              "      <td>(0.32924187518956094, 0.33972191479763886)</td>\n",
              "      <td>0.498491</td>\n",
              "    </tr>\n",
              "    <tr>\n",
              "      <th>1</th>\n",
              "      <td>Perceptron con standardizzazione</td>\n",
              "      <td>(0.6927998284964185, 0.7029990538920304)</td>\n",
              "      <td>0.301670</td>\n",
              "    </tr>\n",
              "    <tr>\n",
              "      <th>2</th>\n",
              "      <td>Perceptron con Grid Search</td>\n",
              "      <td>(0.32878570795115136, 0.3392621729139192)</td>\n",
              "      <td>0.498491</td>\n",
              "    </tr>\n",
              "  </tbody>\n",
              "</table>\n",
              "</div>"
            ],
            "text/plain": [
              "                                model  ...       mse\n",
              "0  Perceptron senza standardizzazione  ...  0.498491\n",
              "1    Perceptron con standardizzazione  ...  0.301670\n",
              "2          Perceptron con Grid Search  ...  0.498491\n",
              "\n",
              "[3 rows x 3 columns]"
            ]
          },
          "metadata": {
            "tags": []
          },
          "execution_count": 64
        }
      ]
    },
    {
      "cell_type": "markdown",
      "metadata": {
        "id": "d2eJfa0gnmx5"
      },
      "source": [
        "#### Perceptron con feature polinomiali"
      ]
    },
    {
      "cell_type": "code",
      "metadata": {
        "colab": {
          "base_uri": "https://localhost:8080/"
        },
        "id": "mAc2iAXC1h6P",
        "outputId": "89a6342a-2566-4c69-84cf-2d142e0c81e8"
      },
      "source": [
        "model = Pipeline([\n",
        "    ('std', StandardScaler()),\n",
        "    ('poly', PolynomialFeatures(degree=3)),\n",
        "    ('perceptron', Perceptron())\n",
        "])\n",
        "\n",
        "grid = {\n",
        "    'perceptron__penalty': [\"l1\", \"l2\", \"elasticnet\"],\n",
        "    'perceptron__alpha': [0.0001, 0.001, 0.01, 1]\n",
        "}\n",
        "\n",
        "skf = StratifiedKFold(3, shuffle=True, random_state=42)\n",
        "gs = GridSearchCV(model, grid, cv=skf)\n",
        "\n",
        "gs.fit(X_train, y_train)"
      ],
      "execution_count": null,
      "outputs": [
        {
          "output_type": "execute_result",
          "data": {
            "text/plain": [
              "GridSearchCV(cv=StratifiedKFold(n_splits=3, random_state=42, shuffle=True),\n",
              "             error_score=nan,\n",
              "             estimator=Pipeline(memory=None,\n",
              "                                steps=[('std',\n",
              "                                        StandardScaler(copy=True,\n",
              "                                                       with_mean=True,\n",
              "                                                       with_std=True)),\n",
              "                                       ('poly',\n",
              "                                        PolynomialFeatures(degree=3,\n",
              "                                                           include_bias=True,\n",
              "                                                           interaction_only=False,\n",
              "                                                           order='C')),\n",
              "                                       ('perceptron',\n",
              "                                        Perceptron(alpha=0.0001,\n",
              "                                                   class_weight=None,\n",
              "                                                   early_stopping=...\n",
              "                                                   n_iter_no_change=5,\n",
              "                                                   n_jobs=None, penalty=None,\n",
              "                                                   random_state=0, shuffle=True,\n",
              "                                                   tol=0.001,\n",
              "                                                   validation_fraction=0.1,\n",
              "                                                   verbose=0,\n",
              "                                                   warm_start=False))],\n",
              "                                verbose=False),\n",
              "             iid='deprecated', n_jobs=None,\n",
              "             param_grid={'perceptron__alpha': [0.0001, 0.001, 0.01, 1],\n",
              "                         'perceptron__penalty': ['l1', 'l2', 'elasticnet']},\n",
              "             pre_dispatch='2*n_jobs', refit=True, return_train_score=False,\n",
              "             scoring=None, verbose=0)"
            ]
          },
          "metadata": {
            "tags": []
          },
          "execution_count": 65
        }
      ]
    },
    {
      "cell_type": "code",
      "metadata": {
        "colab": {
          "base_uri": "https://localhost:8080/"
        },
        "id": "Ufaie94A2dpK",
        "outputId": "29f004d9-6000-4fd1-d5d3-829e22d6711d"
      },
      "source": [
        "print('Accuracy on train {:.2f}%'.format(gs.score(X_train, y_train)*100))\n",
        "print('Accuracy on val {:.2f}%'.format(gs.score(X_val, y_val)*100))\n",
        "print('Best parameters:', gs.best_params_)  \n",
        "print('Best score: {:.4f}%'.format(round(gs.best_score_ * 100, 4)))"
      ],
      "execution_count": null,
      "outputs": [
        {
          "output_type": "stream",
          "text": [
            "Accuracy on train 73.73%\n",
            "Accuracy on val 73.75%\n",
            "Best parameters: {'perceptron__alpha': 0.001, 'perceptron__penalty': 'l2'}\n",
            "Best score: 74.5713%\n"
          ],
          "name": "stdout"
        }
      ]
    },
    {
      "cell_type": "code",
      "metadata": {
        "colab": {
          "base_uri": "https://localhost:8080/",
          "height": 108
        },
        "id": "r6WGs-r22gwR",
        "outputId": "70335f6e-da08-4f32-f95b-423b147e3fa8"
      },
      "source": [
        "y_pred = gs.predict(X_val)\n",
        "cm = confusion_matrix(y_val, y_pred)\n",
        "pd.DataFrame(cm, index = gs.best_estimator_.classes_, columns = gs.best_estimator_.classes_)"
      ],
      "execution_count": null,
      "outputs": [
        {
          "output_type": "execute_result",
          "data": {
            "text/html": [
              "<div>\n",
              "<style scoped>\n",
              "    .dataframe tbody tr th:only-of-type {\n",
              "        vertical-align: middle;\n",
              "    }\n",
              "\n",
              "    .dataframe tbody tr th {\n",
              "        vertical-align: top;\n",
              "    }\n",
              "\n",
              "    .dataframe thead th {\n",
              "        text-align: right;\n",
              "    }\n",
              "</style>\n",
              "<table border=\"1\" class=\"dataframe\">\n",
              "  <thead>\n",
              "    <tr style=\"text-align: right;\">\n",
              "      <th></th>\n",
              "      <th>0</th>\n",
              "      <th>1</th>\n",
              "    </tr>\n",
              "  </thead>\n",
              "  <tbody>\n",
              "    <tr>\n",
              "      <th>0</th>\n",
              "      <td>10663</td>\n",
              "      <td>4954</td>\n",
              "    </tr>\n",
              "    <tr>\n",
              "      <th>1</th>\n",
              "      <td>3220</td>\n",
              "      <td>12303</td>\n",
              "    </tr>\n",
              "  </tbody>\n",
              "</table>\n",
              "</div>"
            ],
            "text/plain": [
              "       0      1\n",
              "0  10663   4954\n",
              "1   3220  12303"
            ]
          },
          "metadata": {
            "tags": []
          },
          "execution_count": 67
        }
      ]
    },
    {
      "cell_type": "code",
      "metadata": {
        "colab": {
          "base_uri": "https://localhost:8080/"
        },
        "id": "oU96YJEw3oSa",
        "outputId": "68253a4e-ae8b-447d-d48d-70c95a699999"
      },
      "source": [
        "precision = precision_score(y_val, y_pred, pos_label=0)\n",
        "recall = recall_score(y_val, y_pred, pos_label=0)\n",
        "f1 = f1_score(y_val, y_pred, average=\"macro\")\n",
        "\n",
        "print(f\"precision: {precision}, recall: {recall}, f1-score: {f1}\")"
      ],
      "execution_count": null,
      "outputs": [
        {
          "output_type": "stream",
          "text": [
            "precision: 0.7680616581430526, recall: 0.6827815841710956, f1-score: 0.73677794438527\n"
          ],
          "name": "stdout"
        }
      ]
    },
    {
      "cell_type": "code",
      "metadata": {
        "colab": {
          "base_uri": "https://localhost:8080/",
          "height": 281
        },
        "id": "HGAuBAWP9UDf",
        "outputId": "578a8d3a-aa2a-4fb9-9bff-937745702967"
      },
      "source": [
        "pc_imp = pd.Series(gs.best_estimator_[2].coef_[0])\n",
        "pc_imp.nlargest().plot(kind='barh')"
      ],
      "execution_count": null,
      "outputs": [
        {
          "output_type": "execute_result",
          "data": {
            "text/plain": [
              "<matplotlib.axes._subplots.AxesSubplot at 0x7fced62add10>"
            ]
          },
          "metadata": {
            "tags": []
          },
          "execution_count": 69
        },
        {
          "output_type": "display_data",
          "data": {
            "image/png": "[encoded data removed]",
            "text/plain": [
              "<Figure size 432x288 with 1 Axes>"
            ]
          },
          "metadata": {
            "tags": [],
            "needs_background": "light"
          }
        }
      ]
    },
    {
      "cell_type": "code",
      "metadata": {
        "colab": {
          "base_uri": "https://localhost:8080/",
          "height": 170
        },
        "id": "JE0HIeyw3vTc",
        "outputId": "a7b5b2f1-9c93-4bd1-b603-bdca27507847"
      },
      "source": [
        "performance.loc[3] = [\"Perceptron con PolynomialFeatures\", accuracy_interval(f1), mean_squared_error(y_val, y_pred)]\n",
        "performance"
      ],
      "execution_count": null,
      "outputs": [
        {
          "output_type": "execute_result",
          "data": {
            "text/html": [
              "<div>\n",
              "<style scoped>\n",
              "    .dataframe tbody tr th:only-of-type {\n",
              "        vertical-align: middle;\n",
              "    }\n",
              "\n",
              "    .dataframe tbody tr th {\n",
              "        vertical-align: top;\n",
              "    }\n",
              "\n",
              "    .dataframe thead th {\n",
              "        text-align: right;\n",
              "    }\n",
              "</style>\n",
              "<table border=\"1\" class=\"dataframe\">\n",
              "  <thead>\n",
              "    <tr style=\"text-align: right;\">\n",
              "      <th></th>\n",
              "      <th>model</th>\n",
              "      <th>accuracy_interval</th>\n",
              "      <th>mse</th>\n",
              "    </tr>\n",
              "  </thead>\n",
              "  <tbody>\n",
              "    <tr>\n",
              "      <th>0</th>\n",
              "      <td>Perceptron senza standardizzazione</td>\n",
              "      <td>(0.32924187518956094, 0.33972191479763886)</td>\n",
              "      <td>0.498491</td>\n",
              "    </tr>\n",
              "    <tr>\n",
              "      <th>1</th>\n",
              "      <td>Perceptron con standardizzazione</td>\n",
              "      <td>(0.6927998284964185, 0.7029990538920304)</td>\n",
              "      <td>0.301670</td>\n",
              "    </tr>\n",
              "    <tr>\n",
              "      <th>2</th>\n",
              "      <td>Perceptron con Grid Search</td>\n",
              "      <td>(0.32878570795115136, 0.3392621729139192)</td>\n",
              "      <td>0.498491</td>\n",
              "    </tr>\n",
              "    <tr>\n",
              "      <th>3</th>\n",
              "      <td>Perceptron con PolynomialFeatures</td>\n",
              "      <td>(0.7318576307013072, 0.7416398448418068)</td>\n",
              "      <td>0.262492</td>\n",
              "    </tr>\n",
              "  </tbody>\n",
              "</table>\n",
              "</div>"
            ],
            "text/plain": [
              "                                model  ...       mse\n",
              "0  Perceptron senza standardizzazione  ...  0.498491\n",
              "1    Perceptron con standardizzazione  ...  0.301670\n",
              "2          Perceptron con Grid Search  ...  0.498491\n",
              "3   Perceptron con PolynomialFeatures  ...  0.262492\n",
              "\n",
              "[4 rows x 3 columns]"
            ]
          },
          "metadata": {
            "tags": []
          },
          "execution_count": 70
        }
      ]
    },
    {
      "cell_type": "markdown",
      "metadata": {
        "id": "KxEMym6_POHE"
      },
      "source": [
        "### Logistic Regression"
      ]
    },
    {
      "cell_type": "markdown",
      "metadata": {
        "id": "gSOZPUQvdEDd"
      },
      "source": [
        "#### Logistic Regression senza standardizzazione"
      ]
    },
    {
      "cell_type": "code",
      "metadata": {
        "colab": {
          "base_uri": "https://localhost:8080/"
        },
        "id": "DHgneWJodEDj",
        "outputId": "5885eaed-dddd-4a67-ced6-1f00a6cbe63f"
      },
      "source": [
        "model = LogisticRegression(random_state=42, solver=\"saga\")\n",
        "model.fit(X_train, y_train)"
      ],
      "execution_count": null,
      "outputs": [
        {
          "output_type": "stream",
          "text": [
            "/usr/local/lib/python3.7/dist-packages/sklearn/linear_model/_sag.py:330: ConvergenceWarning: The max_iter was reached which means the coef_ did not converge\n",
            "  \"the coef_ did not converge\", ConvergenceWarning)\n"
          ],
          "name": "stderr"
        },
        {
          "output_type": "execute_result",
          "data": {
            "text/plain": [
              "LogisticRegression(C=1.0, class_weight=None, dual=False, fit_intercept=True,\n",
              "                   intercept_scaling=1, l1_ratio=None, max_iter=100,\n",
              "                   multi_class='auto', n_jobs=None, penalty='l2',\n",
              "                   random_state=42, solver='saga', tol=0.0001, verbose=0,\n",
              "                   warm_start=False)"
            ]
          },
          "metadata": {
            "tags": []
          },
          "execution_count": 71
        }
      ]
    },
    {
      "cell_type": "code",
      "metadata": {
        "id": "FTF1i1fLjr3i",
        "colab": {
          "base_uri": "https://localhost:8080/"
        },
        "outputId": "58be304f-a4ed-4285-c16c-4b3bce737a4f"
      },
      "source": [
        "print('Accuracy on train {:.2f}%'.format(model.score(X_train, y_train)*100))\n",
        "print('Accuracy on val {:.2f}%'.format(model.score(X_val, y_val)*100))"
      ],
      "execution_count": null,
      "outputs": [
        {
          "output_type": "stream",
          "text": [
            "Accuracy on train 49.72%\n",
            "Accuracy on val 49.73%\n"
          ],
          "name": "stdout"
        }
      ]
    },
    {
      "cell_type": "code",
      "metadata": {
        "colab": {
          "base_uri": "https://localhost:8080/"
        },
        "id": "F1UIwQUPdEDm",
        "outputId": "2bc0350f-2f79-4805-8eae-a5c624783a2e"
      },
      "source": [
        "y_pred = model.predict(X_val)\n",
        "cm = confusion_matrix(y_val, y_pred)\n",
        "pd.DataFrame(cm, index = model.classes_, columns = model.classes_)"
      ],
      "execution_count": null,
      "outputs": [
        {
          "output_type": "execute_result",
          "data": {
            "text/html": [
              "<div>\n",
              "<style scoped>\n",
              "    .dataframe tbody tr th:only-of-type {\n",
              "        vertical-align: middle;\n",
              "    }\n",
              "\n",
              "    .dataframe tbody tr th {\n",
              "        vertical-align: top;\n",
              "    }\n",
              "\n",
              "    .dataframe thead th {\n",
              "        text-align: right;\n",
              "    }\n",
              "</style>\n",
              "<table border=\"1\" class=\"dataframe\">\n",
              "  <thead>\n",
              "    <tr style=\"text-align: right;\">\n",
              "      <th></th>\n",
              "      <th>0</th>\n",
              "      <th>1</th>\n",
              "    </tr>\n",
              "  </thead>\n",
              "  <tbody>\n",
              "    <tr>\n",
              "      <th>0</th>\n",
              "      <td>1907</td>\n",
              "      <td>13710</td>\n",
              "    </tr>\n",
              "    <tr>\n",
              "      <th>1</th>\n",
              "      <td>1944</td>\n",
              "      <td>13579</td>\n",
              "    </tr>\n",
              "  </tbody>\n",
              "</table>\n",
              "</div>"
            ],
            "text/plain": [
              "      0      1\n",
              "0  1907  13710\n",
              "1  1944  13579"
            ]
          },
          "metadata": {
            "tags": []
          },
          "execution_count": 73
        }
      ]
    },
    {
      "cell_type": "code",
      "metadata": {
        "colab": {
          "base_uri": "https://localhost:8080/"
        },
        "id": "X83f0MvxdEDn",
        "outputId": "c050414d-6fff-46e0-ea81-9c7854c78aec"
      },
      "source": [
        "precision = precision_score(y_val, y_pred, pos_label=0)\n",
        "recall = recall_score(y_val, y_pred, pos_label=0)\n",
        "f1 = f1_score(y_val, y_pred, average=\"macro\")\n",
        "\n",
        "print(f\"precision: {precision}, recall: {recall}, f1-score: {f1}\")"
      ],
      "execution_count": null,
      "outputs": [
        {
          "output_type": "stream",
          "text": [
            "precision: 0.4951960529732537, recall: 0.1221105205865403, f1-score: 0.41513304636777504\n"
          ],
          "name": "stdout"
        }
      ]
    },
    {
      "cell_type": "code",
      "metadata": {
        "id": "hQOLJFFMj04o",
        "colab": {
          "base_uri": "https://localhost:8080/"
        },
        "outputId": "c498aa12-4c6d-4c5f-8433-84eeb6977c7b"
      },
      "source": [
        "coef = pd.Series(model.coef_[0], index=X.columns)\n",
        "coef.nlargest().plot(kind='barh')"
      ],
      "execution_count": null,
      "outputs": [
        {
          "output_type": "execute_result",
          "data": {
            "text/plain": [
              "<matplotlib.axes._subplots.AxesSubplot at 0x7fced3352550>"
            ]
          },
          "metadata": {
            "tags": []
          },
          "execution_count": 75
        },
        {
          "output_type": "display_data",
          "data": {
            "image/png": "[encoded data removed]",
            "text/plain": [
              "<Figure size 432x288 with 1 Axes>"
            ]
          },
          "metadata": {
            "tags": [],
            "needs_background": "light"
          }
        }
      ]
    },
    {
      "cell_type": "code",
      "metadata": {
        "id": "eo0pYmoWjxas",
        "colab": {
          "base_uri": "https://localhost:8080/"
        },
        "outputId": "8c5d738b-b33e-4a01-c68d-62971d9a805a"
      },
      "source": [
        "performance.loc[4] = [\"Logistic Regression senza standardizzazione\", accuracy_interval(f1), mean_squared_error(y_val, y_pred)]\n",
        "performance"
      ],
      "execution_count": null,
      "outputs": [
        {
          "output_type": "execute_result",
          "data": {
            "text/html": [
              "<div>\n",
              "<style scoped>\n",
              "    .dataframe tbody tr th:only-of-type {\n",
              "        vertical-align: middle;\n",
              "    }\n",
              "\n",
              "    .dataframe tbody tr th {\n",
              "        vertical-align: top;\n",
              "    }\n",
              "\n",
              "    .dataframe thead th {\n",
              "        text-align: right;\n",
              "    }\n",
              "</style>\n",
              "<table border=\"1\" class=\"dataframe\">\n",
              "  <thead>\n",
              "    <tr style=\"text-align: right;\">\n",
              "      <th></th>\n",
              "      <th>model</th>\n",
              "      <th>accuracy_interval</th>\n",
              "      <th>mse</th>\n",
              "    </tr>\n",
              "  </thead>\n",
              "  <tbody>\n",
              "    <tr>\n",
              "      <th>0</th>\n",
              "      <td>Perceptron senza standardizzazione</td>\n",
              "      <td>(0.32924187518956094, 0.33972191479763886)</td>\n",
              "      <td>0.498491</td>\n",
              "    </tr>\n",
              "    <tr>\n",
              "      <th>1</th>\n",
              "      <td>Perceptron con standardizzazione</td>\n",
              "      <td>(0.6927998284964185, 0.7029990538920304)</td>\n",
              "      <td>0.301670</td>\n",
              "    </tr>\n",
              "    <tr>\n",
              "      <th>2</th>\n",
              "      <td>Perceptron con Grid Search</td>\n",
              "      <td>(0.32878570795115136, 0.3392621729139192)</td>\n",
              "      <td>0.498491</td>\n",
              "    </tr>\n",
              "    <tr>\n",
              "      <th>3</th>\n",
              "      <td>Perceptron con PolynomialFeatures</td>\n",
              "      <td>(0.7318576307013072, 0.7416398448418068)</td>\n",
              "      <td>0.262492</td>\n",
              "    </tr>\n",
              "    <tr>\n",
              "      <th>4</th>\n",
              "      <td>Logistic Regression senza standardizzazione</td>\n",
              "      <td>(0.4096709240029316, 0.4206161054489851)</td>\n",
              "      <td>0.502697</td>\n",
              "    </tr>\n",
              "  </tbody>\n",
              "</table>\n",
              "</div>"
            ],
            "text/plain": [
              "                                         model  ...       mse\n",
              "0           Perceptron senza standardizzazione  ...  0.498491\n",
              "1             Perceptron con standardizzazione  ...  0.301670\n",
              "2                   Perceptron con Grid Search  ...  0.498491\n",
              "3            Perceptron con PolynomialFeatures  ...  0.262492\n",
              "4  Logistic Regression senza standardizzazione  ...  0.502697\n",
              "\n",
              "[5 rows x 3 columns]"
            ]
          },
          "metadata": {
            "tags": []
          },
          "execution_count": 76
        }
      ]
    },
    {
      "cell_type": "markdown",
      "metadata": {
        "id": "IMGoXMlahQsN"
      },
      "source": [
        "#### Logistic Regression con standardizzazione"
      ]
    },
    {
      "cell_type": "code",
      "metadata": {
        "colab": {
          "base_uri": "https://localhost:8080/"
        },
        "id": "0yaOOAkIhQsZ",
        "outputId": "231fc7a1-a084-4b94-afbd-2324f631b65f"
      },
      "source": [
        "model = Pipeline([\n",
        "    ('std', StandardScaler()),\n",
        "    ('lr', LogisticRegression(random_state=42, solver=\"saga\"))\n",
        "])\n",
        "\n",
        "model.fit(X_train, y_train)"
      ],
      "execution_count": null,
      "outputs": [
        {
          "output_type": "execute_result",
          "data": {
            "text/plain": [
              "Pipeline(memory=None,\n",
              "         steps=[('std',\n",
              "                 StandardScaler(copy=True, with_mean=True, with_std=True)),\n",
              "                ('lr',\n",
              "                 LogisticRegression(C=1.0, class_weight=None, dual=False,\n",
              "                                    fit_intercept=True, intercept_scaling=1,\n",
              "                                    l1_ratio=None, max_iter=100,\n",
              "                                    multi_class='auto', n_jobs=None,\n",
              "                                    penalty='l2', random_state=42,\n",
              "                                    solver='saga', tol=0.0001, verbose=0,\n",
              "                                    warm_start=False))],\n",
              "         verbose=False)"
            ]
          },
          "metadata": {
            "tags": []
          },
          "execution_count": 77
        }
      ]
    },
    {
      "cell_type": "code",
      "metadata": {
        "colab": {
          "base_uri": "https://localhost:8080/"
        },
        "id": "EetGZt0xkxI2",
        "outputId": "4d7df918-6bdf-448c-d7fc-02feb1ed4584"
      },
      "source": [
        "print('Accuracy on train {:.2f}%'.format(model.score(X_train, y_train)*100))\n",
        "print('Accuracy on val {:.2f}%'.format(model.score(X_val, y_val)*100))"
      ],
      "execution_count": null,
      "outputs": [
        {
          "output_type": "stream",
          "text": [
            "Accuracy on train 78.29%\n",
            "Accuracy on val 78.46%\n"
          ],
          "name": "stdout"
        }
      ]
    },
    {
      "cell_type": "code",
      "metadata": {
        "colab": {
          "base_uri": "https://localhost:8080/",
          "height": 108
        },
        "id": "zYwoIzVshQsa",
        "outputId": "d2f1fe13-a351-48f0-e6bc-af5437d76577"
      },
      "source": [
        "y_pred = model.predict(X_val)\n",
        "cm = confusion_matrix(y_val, y_pred)\n",
        "pd.DataFrame(cm, index = model.classes_, columns = model.classes_)"
      ],
      "execution_count": null,
      "outputs": [
        {
          "output_type": "execute_result",
          "data": {
            "text/html": [
              "<div>\n",
              "<style scoped>\n",
              "    .dataframe tbody tr th:only-of-type {\n",
              "        vertical-align: middle;\n",
              "    }\n",
              "\n",
              "    .dataframe tbody tr th {\n",
              "        vertical-align: top;\n",
              "    }\n",
              "\n",
              "    .dataframe thead th {\n",
              "        text-align: right;\n",
              "    }\n",
              "</style>\n",
              "<table border=\"1\" class=\"dataframe\">\n",
              "  <thead>\n",
              "    <tr style=\"text-align: right;\">\n",
              "      <th></th>\n",
              "      <th>0</th>\n",
              "      <th>1</th>\n",
              "    </tr>\n",
              "  </thead>\n",
              "  <tbody>\n",
              "    <tr>\n",
              "      <th>0</th>\n",
              "      <td>9325</td>\n",
              "      <td>6292</td>\n",
              "    </tr>\n",
              "    <tr>\n",
              "      <th>1</th>\n",
              "      <td>414</td>\n",
              "      <td>15109</td>\n",
              "    </tr>\n",
              "  </tbody>\n",
              "</table>\n",
              "</div>"
            ],
            "text/plain": [
              "      0      1\n",
              "0  9325   6292\n",
              "1   414  15109"
            ]
          },
          "metadata": {
            "tags": []
          },
          "execution_count": 79
        }
      ]
    },
    {
      "cell_type": "code",
      "metadata": {
        "colab": {
          "base_uri": "https://localhost:8080/"
        },
        "id": "fJJaCEyuhQsb",
        "outputId": "96470adf-48b4-49f6-c2d7-21378082f2d1"
      },
      "source": [
        "precision = precision_score(y_val, y_pred, pos_label=0)\n",
        "recall = recall_score(y_val, y_pred, pos_label=0)\n",
        "f1 = f1_score(y_val, y_pred, average=\"macro\")\n",
        "\n",
        "print(f\"precision: {precision}, recall: {recall}, f1-score: {f1}\")"
      ],
      "execution_count": null,
      "outputs": [
        {
          "output_type": "stream",
          "text": [
            "precision: 0.9574905021049389, recall: 0.5971057181276813, f1-score: 0.7769549076464758\n"
          ],
          "name": "stdout"
        }
      ]
    },
    {
      "cell_type": "code",
      "metadata": {
        "colab": {
          "base_uri": "https://localhost:8080/",
          "height": 281
        },
        "id": "CVXZMFVkkjjF",
        "outputId": "862c2779-8a11-4664-c817-ce8c4f0e4412"
      },
      "source": [
        "coef = pd.Series(model[1].coef_[0], index=X.columns)\n",
        "coef.nlargest().plot(kind='barh')"
      ],
      "execution_count": null,
      "outputs": [
        {
          "output_type": "execute_result",
          "data": {
            "text/plain": [
              "<matplotlib.axes._subplots.AxesSubplot at 0x7fced33a0f10>"
            ]
          },
          "metadata": {
            "tags": []
          },
          "execution_count": 81
        },
        {
          "output_type": "display_data",
          "data": {
            "image/png": "[encoded data removed]",
            "text/plain": [
              "<Figure size 432x288 with 1 Axes>"
            ]
          },
          "metadata": {
            "tags": [],
            "needs_background": "light"
          }
        }
      ]
    },
    {
      "cell_type": "code",
      "metadata": {
        "colab": {
          "base_uri": "https://localhost:8080/",
          "height": 230
        },
        "id": "40JWLG2fhQsb",
        "outputId": "fc4d7d04-4586-48d1-91b6-9e076e1a9f1e"
      },
      "source": [
        "performance.loc[5] = [\"Logistic Regression con standardizzazione\", accuracy_interval(f1), mean_squared_error(y_val, y_pred)]\n",
        "performance"
      ],
      "execution_count": null,
      "outputs": [
        {
          "output_type": "execute_result",
          "data": {
            "text/html": [
              "<div>\n",
              "<style scoped>\n",
              "    .dataframe tbody tr th:only-of-type {\n",
              "        vertical-align: middle;\n",
              "    }\n",
              "\n",
              "    .dataframe tbody tr th {\n",
              "        vertical-align: top;\n",
              "    }\n",
              "\n",
              "    .dataframe thead th {\n",
              "        text-align: right;\n",
              "    }\n",
              "</style>\n",
              "<table border=\"1\" class=\"dataframe\">\n",
              "  <thead>\n",
              "    <tr style=\"text-align: right;\">\n",
              "      <th></th>\n",
              "      <th>model</th>\n",
              "      <th>accuracy_interval</th>\n",
              "      <th>mse</th>\n",
              "    </tr>\n",
              "  </thead>\n",
              "  <tbody>\n",
              "    <tr>\n",
              "      <th>0</th>\n",
              "      <td>Perceptron senza standardizzazione</td>\n",
              "      <td>(0.32924187518956094, 0.33972191479763886)</td>\n",
              "      <td>0.498491</td>\n",
              "    </tr>\n",
              "    <tr>\n",
              "      <th>1</th>\n",
              "      <td>Perceptron con standardizzazione</td>\n",
              "      <td>(0.6927998284964185, 0.7029990538920304)</td>\n",
              "      <td>0.301670</td>\n",
              "    </tr>\n",
              "    <tr>\n",
              "      <th>2</th>\n",
              "      <td>Perceptron con Grid Search</td>\n",
              "      <td>(0.32878570795115136, 0.3392621729139192)</td>\n",
              "      <td>0.498491</td>\n",
              "    </tr>\n",
              "    <tr>\n",
              "      <th>3</th>\n",
              "      <td>Perceptron con PolynomialFeatures</td>\n",
              "      <td>(0.7318576307013072, 0.7416398448418068)</td>\n",
              "      <td>0.262492</td>\n",
              "    </tr>\n",
              "    <tr>\n",
              "      <th>4</th>\n",
              "      <td>Logistic Regression senza standardizzazione</td>\n",
              "      <td>(0.4096709240029316, 0.4206161054489851)</td>\n",
              "      <td>0.502697</td>\n",
              "    </tr>\n",
              "    <tr>\n",
              "      <th>5</th>\n",
              "      <td>Logistic Regression con standardizzazione</td>\n",
              "      <td>(0.7722971896562784, 0.7815443007339923)</td>\n",
              "      <td>0.215350</td>\n",
              "    </tr>\n",
              "  </tbody>\n",
              "</table>\n",
              "</div>"
            ],
            "text/plain": [
              "                                         model  ...       mse\n",
              "0           Perceptron senza standardizzazione  ...  0.498491\n",
              "1             Perceptron con standardizzazione  ...  0.301670\n",
              "2                   Perceptron con Grid Search  ...  0.498491\n",
              "3            Perceptron con PolynomialFeatures  ...  0.262492\n",
              "4  Logistic Regression senza standardizzazione  ...  0.502697\n",
              "5    Logistic Regression con standardizzazione  ...  0.215350\n",
              "\n",
              "[6 rows x 3 columns]"
            ]
          },
          "metadata": {
            "tags": []
          },
          "execution_count": 82
        }
      ]
    },
    {
      "cell_type": "markdown",
      "metadata": {
        "id": "oyPbwA4Mh6e9"
      },
      "source": [
        "#### Logistic Regression con Grid Search e CrossValidation"
      ]
    },
    {
      "cell_type": "code",
      "metadata": {
        "colab": {
          "base_uri": "https://localhost:8080/"
        },
        "id": "GlGWEZPzh6fK",
        "outputId": "123a2107-aaf9-4046-8a78-692d29ca5dd2"
      },
      "source": [
        "model = Pipeline([\n",
        "    ('std', StandardScaler()),\n",
        "    ('lr', LogisticRegression(random_state=42, solver=\"saga\"))\n",
        "])\n",
        "\n",
        "grid = {\n",
        "    'lr__penalty': [\"l1\", \"l2\", \"elasticnet\"],\n",
        "    'lr__C': [0.1, 1, 10],\n",
        "    'lr__l1_ratio': [0.2, 0.5]\n",
        "}\n",
        "\n",
        "skf = StratifiedKFold(3, shuffle=True, random_state=42)\n",
        "gs = GridSearchCV(model, grid, cv=skf)\n",
        "\n",
        "gs.fit(X_train, y_train)"
      ],
      "execution_count": null,
      "outputs": [
        {
          "output_type": "stream",
          "text": [
            "/usr/local/lib/python3.7/dist-packages/sklearn/linear_model/_logistic.py:1501: UserWarning: l1_ratio parameter is only used when penalty is 'elasticnet'. Got (penalty=l1)\n",
            "  \"(penalty={})\".format(self.penalty))\n",
            "/usr/local/lib/python3.7/dist-packages/sklearn/linear_model/_logistic.py:1501: UserWarning: l1_ratio parameter is only used when penalty is 'elasticnet'. Got (penalty=l1)\n",
            "  \"(penalty={})\".format(self.penalty))\n",
            "/usr/local/lib/python3.7/dist-packages/sklearn/linear_model/_logistic.py:1501: UserWarning: l1_ratio parameter is only used when penalty is 'elasticnet'. Got (penalty=l1)\n",
            "  \"(penalty={})\".format(self.penalty))\n",
            "/usr/local/lib/python3.7/dist-packages/sklearn/linear_model/_logistic.py:1501: UserWarning: l1_ratio parameter is only used when penalty is 'elasticnet'. Got (penalty=l2)\n",
            "  \"(penalty={})\".format(self.penalty))\n",
            "/usr/local/lib/python3.7/dist-packages/sklearn/linear_model/_logistic.py:1501: UserWarning: l1_ratio parameter is only used when penalty is 'elasticnet'. Got (penalty=l2)\n",
            "  \"(penalty={})\".format(self.penalty))\n",
            "/usr/local/lib/python3.7/dist-packages/sklearn/linear_model/_logistic.py:1501: UserWarning: l1_ratio parameter is only used when penalty is 'elasticnet'. Got (penalty=l2)\n",
            "  \"(penalty={})\".format(self.penalty))\n",
            "/usr/local/lib/python3.7/dist-packages/sklearn/linear_model/_sag.py:330: ConvergenceWarning: The max_iter was reached which means the coef_ did not converge\n",
            "  \"the coef_ did not converge\", ConvergenceWarning)\n",
            "/usr/local/lib/python3.7/dist-packages/sklearn/linear_model/_sag.py:330: ConvergenceWarning: The max_iter was reached which means the coef_ did not converge\n",
            "  \"the coef_ did not converge\", ConvergenceWarning)\n",
            "/usr/local/lib/python3.7/dist-packages/sklearn/linear_model/_logistic.py:1501: UserWarning: l1_ratio parameter is only used when penalty is 'elasticnet'. Got (penalty=l1)\n",
            "  \"(penalty={})\".format(self.penalty))\n",
            "/usr/local/lib/python3.7/dist-packages/sklearn/linear_model/_logistic.py:1501: UserWarning: l1_ratio parameter is only used when penalty is 'elasticnet'. Got (penalty=l1)\n",
            "  \"(penalty={})\".format(self.penalty))\n",
            "/usr/local/lib/python3.7/dist-packages/sklearn/linear_model/_logistic.py:1501: UserWarning: l1_ratio parameter is only used when penalty is 'elasticnet'. Got (penalty=l1)\n",
            "  \"(penalty={})\".format(self.penalty))\n",
            "/usr/local/lib/python3.7/dist-packages/sklearn/linear_model/_logistic.py:1501: UserWarning: l1_ratio parameter is only used when penalty is 'elasticnet'. Got (penalty=l2)\n",
            "  \"(penalty={})\".format(self.penalty))\n",
            "/usr/local/lib/python3.7/dist-packages/sklearn/linear_model/_logistic.py:1501: UserWarning: l1_ratio parameter is only used when penalty is 'elasticnet'. Got (penalty=l2)\n",
            "  \"(penalty={})\".format(self.penalty))\n",
            "/usr/local/lib/python3.7/dist-packages/sklearn/linear_model/_logistic.py:1501: UserWarning: l1_ratio parameter is only used when penalty is 'elasticnet'. Got (penalty=l2)\n",
            "  \"(penalty={})\".format(self.penalty))\n",
            "/usr/local/lib/python3.7/dist-packages/sklearn/linear_model/_sag.py:330: ConvergenceWarning: The max_iter was reached which means the coef_ did not converge\n",
            "  \"the coef_ did not converge\", ConvergenceWarning)\n",
            "/usr/local/lib/python3.7/dist-packages/sklearn/linear_model/_sag.py:330: ConvergenceWarning: The max_iter was reached which means the coef_ did not converge\n",
            "  \"the coef_ did not converge\", ConvergenceWarning)\n",
            "/usr/local/lib/python3.7/dist-packages/sklearn/linear_model/_sag.py:330: ConvergenceWarning: The max_iter was reached which means the coef_ did not converge\n",
            "  \"the coef_ did not converge\", ConvergenceWarning)\n",
            "/usr/local/lib/python3.7/dist-packages/sklearn/linear_model/_logistic.py:1501: UserWarning: l1_ratio parameter is only used when penalty is 'elasticnet'. Got (penalty=l1)\n",
            "  \"(penalty={})\".format(self.penalty))\n",
            "/usr/local/lib/python3.7/dist-packages/sklearn/linear_model/_sag.py:330: ConvergenceWarning: The max_iter was reached which means the coef_ did not converge\n",
            "  \"the coef_ did not converge\", ConvergenceWarning)\n",
            "/usr/local/lib/python3.7/dist-packages/sklearn/linear_model/_logistic.py:1501: UserWarning: l1_ratio parameter is only used when penalty is 'elasticnet'. Got (penalty=l1)\n",
            "  \"(penalty={})\".format(self.penalty))\n",
            "/usr/local/lib/python3.7/dist-packages/sklearn/linear_model/_sag.py:330: ConvergenceWarning: The max_iter was reached which means the coef_ did not converge\n",
            "  \"the coef_ did not converge\", ConvergenceWarning)\n",
            "/usr/local/lib/python3.7/dist-packages/sklearn/linear_model/_logistic.py:1501: UserWarning: l1_ratio parameter is only used when penalty is 'elasticnet'. Got (penalty=l1)\n",
            "  \"(penalty={})\".format(self.penalty))\n",
            "/usr/local/lib/python3.7/dist-packages/sklearn/linear_model/_sag.py:330: ConvergenceWarning: The max_iter was reached which means the coef_ did not converge\n",
            "  \"the coef_ did not converge\", ConvergenceWarning)\n",
            "/usr/local/lib/python3.7/dist-packages/sklearn/linear_model/_logistic.py:1501: UserWarning: l1_ratio parameter is only used when penalty is 'elasticnet'. Got (penalty=l2)\n",
            "  \"(penalty={})\".format(self.penalty))\n",
            "/usr/local/lib/python3.7/dist-packages/sklearn/linear_model/_logistic.py:1501: UserWarning: l1_ratio parameter is only used when penalty is 'elasticnet'. Got (penalty=l2)\n",
            "  \"(penalty={})\".format(self.penalty))\n",
            "/usr/local/lib/python3.7/dist-packages/sklearn/linear_model/_logistic.py:1501: UserWarning: l1_ratio parameter is only used when penalty is 'elasticnet'. Got (penalty=l2)\n",
            "  \"(penalty={})\".format(self.penalty))\n",
            "/usr/local/lib/python3.7/dist-packages/sklearn/linear_model/_logistic.py:1501: UserWarning: l1_ratio parameter is only used when penalty is 'elasticnet'. Got (penalty=l1)\n",
            "  \"(penalty={})\".format(self.penalty))\n",
            "/usr/local/lib/python3.7/dist-packages/sklearn/linear_model/_sag.py:330: ConvergenceWarning: The max_iter was reached which means the coef_ did not converge\n",
            "  \"the coef_ did not converge\", ConvergenceWarning)\n",
            "/usr/local/lib/python3.7/dist-packages/sklearn/linear_model/_logistic.py:1501: UserWarning: l1_ratio parameter is only used when penalty is 'elasticnet'. Got (penalty=l1)\n",
            "  \"(penalty={})\".format(self.penalty))\n",
            "/usr/local/lib/python3.7/dist-packages/sklearn/linear_model/_sag.py:330: ConvergenceWarning: The max_iter was reached which means the coef_ did not converge\n",
            "  \"the coef_ did not converge\", ConvergenceWarning)\n",
            "/usr/local/lib/python3.7/dist-packages/sklearn/linear_model/_logistic.py:1501: UserWarning: l1_ratio parameter is only used when penalty is 'elasticnet'. Got (penalty=l1)\n",
            "  \"(penalty={})\".format(self.penalty))\n",
            "/usr/local/lib/python3.7/dist-packages/sklearn/linear_model/_sag.py:330: ConvergenceWarning: The max_iter was reached which means the coef_ did not converge\n",
            "  \"the coef_ did not converge\", ConvergenceWarning)\n",
            "/usr/local/lib/python3.7/dist-packages/sklearn/linear_model/_logistic.py:1501: UserWarning: l1_ratio parameter is only used when penalty is 'elasticnet'. Got (penalty=l2)\n",
            "  \"(penalty={})\".format(self.penalty))\n",
            "/usr/local/lib/python3.7/dist-packages/sklearn/linear_model/_logistic.py:1501: UserWarning: l1_ratio parameter is only used when penalty is 'elasticnet'. Got (penalty=l2)\n",
            "  \"(penalty={})\".format(self.penalty))\n",
            "/usr/local/lib/python3.7/dist-packages/sklearn/linear_model/_logistic.py:1501: UserWarning: l1_ratio parameter is only used when penalty is 'elasticnet'. Got (penalty=l2)\n",
            "  \"(penalty={})\".format(self.penalty))\n",
            "/usr/local/lib/python3.7/dist-packages/sklearn/linear_model/_sag.py:330: ConvergenceWarning: The max_iter was reached which means the coef_ did not converge\n",
            "  \"the coef_ did not converge\", ConvergenceWarning)\n",
            "/usr/local/lib/python3.7/dist-packages/sklearn/linear_model/_sag.py:330: ConvergenceWarning: The max_iter was reached which means the coef_ did not converge\n",
            "  \"the coef_ did not converge\", ConvergenceWarning)\n",
            "/usr/local/lib/python3.7/dist-packages/sklearn/linear_model/_sag.py:330: ConvergenceWarning: The max_iter was reached which means the coef_ did not converge\n",
            "  \"the coef_ did not converge\", ConvergenceWarning)\n",
            "/usr/local/lib/python3.7/dist-packages/sklearn/linear_model/_logistic.py:1501: UserWarning: l1_ratio parameter is only used when penalty is 'elasticnet'. Got (penalty=l1)\n",
            "  \"(penalty={})\".format(self.penalty))\n",
            "/usr/local/lib/python3.7/dist-packages/sklearn/linear_model/_logistic.py:1501: UserWarning: l1_ratio parameter is only used when penalty is 'elasticnet'. Got (penalty=l1)\n",
            "  \"(penalty={})\".format(self.penalty))\n",
            "/usr/local/lib/python3.7/dist-packages/sklearn/linear_model/_logistic.py:1501: UserWarning: l1_ratio parameter is only used when penalty is 'elasticnet'. Got (penalty=l1)\n",
            "  \"(penalty={})\".format(self.penalty))\n",
            "/usr/local/lib/python3.7/dist-packages/sklearn/linear_model/_logistic.py:1501: UserWarning: l1_ratio parameter is only used when penalty is 'elasticnet'. Got (penalty=l2)\n",
            "  \"(penalty={})\".format(self.penalty))\n",
            "/usr/local/lib/python3.7/dist-packages/sklearn/linear_model/_logistic.py:1501: UserWarning: l1_ratio parameter is only used when penalty is 'elasticnet'. Got (penalty=l2)\n",
            "  \"(penalty={})\".format(self.penalty))\n",
            "/usr/local/lib/python3.7/dist-packages/sklearn/linear_model/_logistic.py:1501: UserWarning: l1_ratio parameter is only used when penalty is 'elasticnet'. Got (penalty=l2)\n",
            "  \"(penalty={})\".format(self.penalty))\n",
            "/usr/local/lib/python3.7/dist-packages/sklearn/linear_model/_logistic.py:1501: UserWarning: l1_ratio parameter is only used when penalty is 'elasticnet'. Got (penalty=l1)\n",
            "  \"(penalty={})\".format(self.penalty))\n",
            "/usr/local/lib/python3.7/dist-packages/sklearn/linear_model/_logistic.py:1501: UserWarning: l1_ratio parameter is only used when penalty is 'elasticnet'. Got (penalty=l1)\n",
            "  \"(penalty={})\".format(self.penalty))\n",
            "/usr/local/lib/python3.7/dist-packages/sklearn/linear_model/_logistic.py:1501: UserWarning: l1_ratio parameter is only used when penalty is 'elasticnet'. Got (penalty=l1)\n",
            "  \"(penalty={})\".format(self.penalty))\n",
            "/usr/local/lib/python3.7/dist-packages/sklearn/linear_model/_logistic.py:1501: UserWarning: l1_ratio parameter is only used when penalty is 'elasticnet'. Got (penalty=l2)\n",
            "  \"(penalty={})\".format(self.penalty))\n",
            "/usr/local/lib/python3.7/dist-packages/sklearn/linear_model/_logistic.py:1501: UserWarning: l1_ratio parameter is only used when penalty is 'elasticnet'. Got (penalty=l2)\n",
            "  \"(penalty={})\".format(self.penalty))\n",
            "/usr/local/lib/python3.7/dist-packages/sklearn/linear_model/_logistic.py:1501: UserWarning: l1_ratio parameter is only used when penalty is 'elasticnet'. Got (penalty=l2)\n",
            "  \"(penalty={})\".format(self.penalty))\n",
            "/usr/local/lib/python3.7/dist-packages/sklearn/linear_model/_sag.py:330: ConvergenceWarning: The max_iter was reached which means the coef_ did not converge\n",
            "  \"the coef_ did not converge\", ConvergenceWarning)\n"
          ],
          "name": "stderr"
        },
        {
          "output_type": "execute_result",
          "data": {
            "text/plain": [
              "GridSearchCV(cv=StratifiedKFold(n_splits=3, random_state=42, shuffle=True),\n",
              "             error_score=nan,\n",
              "             estimator=Pipeline(memory=None,\n",
              "                                steps=[('std',\n",
              "                                        StandardScaler(copy=True,\n",
              "                                                       with_mean=True,\n",
              "                                                       with_std=True)),\n",
              "                                       ('lr',\n",
              "                                        LogisticRegression(C=1.0,\n",
              "                                                           class_weight=None,\n",
              "                                                           dual=False,\n",
              "                                                           fit_intercept=True,\n",
              "                                                           intercept_scaling=1,\n",
              "                                                           l1_ratio=None,\n",
              "                                                           max_iter=100,\n",
              "                                                           multi_class='auto',\n",
              "                                                           n_jobs=None,\n",
              "                                                           penalty='l2',\n",
              "                                                           random_state=42,\n",
              "                                                           solver='saga',\n",
              "                                                           tol=0.0001,\n",
              "                                                           verbose=0,\n",
              "                                                           warm_start=False))],\n",
              "                                verbose=False),\n",
              "             iid='deprecated', n_jobs=None,\n",
              "             param_grid={'lr__C': [0.1, 1, 10], 'lr__l1_ratio': [0.2, 0.5],\n",
              "                         'lr__penalty': ['l1', 'l2', 'elasticnet']},\n",
              "             pre_dispatch='2*n_jobs', refit=True, return_train_score=False,\n",
              "             scoring=None, verbose=0)"
            ]
          },
          "metadata": {
            "tags": []
          },
          "execution_count": 83
        }
      ]
    },
    {
      "cell_type": "code",
      "metadata": {
        "colab": {
          "base_uri": "https://localhost:8080/"
        },
        "id": "lMDYLZ13h6fL",
        "outputId": "9c7cf9fc-0af9-4719-cf9c-1d02beb82ee0"
      },
      "source": [
        "print('Accuracy on train {:.2f}%'.format(gs.score(X_train, y_train)*100))\n",
        "print('Accuracy on val {:.2f}%'.format(gs.score(X_val, y_val)*100))\n",
        "print('Best parameters:', gs.best_params_)  \n",
        "print('Best score: {:.4f}%'.format(round(gs.best_score_ * 100, 4)))"
      ],
      "execution_count": null,
      "outputs": [
        {
          "output_type": "stream",
          "text": [
            "Accuracy on train 78.30%\n",
            "Accuracy on val 78.47%\n",
            "Best parameters: {'lr__C': 0.1, 'lr__l1_ratio': 0.5, 'lr__penalty': 'elasticnet'}\n",
            "Best score: 78.2964%\n"
          ],
          "name": "stdout"
        }
      ]
    },
    {
      "cell_type": "code",
      "metadata": {
        "colab": {
          "base_uri": "https://localhost:8080/",
          "height": 108
        },
        "id": "I_nVCIwVh6fL",
        "outputId": "f05d4678-c03a-41fc-cd24-d590a5f59adf"
      },
      "source": [
        "y_pred = gs.predict(X_val)\n",
        "cm = confusion_matrix(y_val, y_pred)\n",
        "pd.DataFrame(cm, index=gs.best_estimator_.classes_, columns=gs.best_estimator_.classes_)"
      ],
      "execution_count": null,
      "outputs": [
        {
          "output_type": "execute_result",
          "data": {
            "text/html": [
              "<div>\n",
              "<style scoped>\n",
              "    .dataframe tbody tr th:only-of-type {\n",
              "        vertical-align: middle;\n",
              "    }\n",
              "\n",
              "    .dataframe tbody tr th {\n",
              "        vertical-align: top;\n",
              "    }\n",
              "\n",
              "    .dataframe thead th {\n",
              "        text-align: right;\n",
              "    }\n",
              "</style>\n",
              "<table border=\"1\" class=\"dataframe\">\n",
              "  <thead>\n",
              "    <tr style=\"text-align: right;\">\n",
              "      <th></th>\n",
              "      <th>0</th>\n",
              "      <th>1</th>\n",
              "    </tr>\n",
              "  </thead>\n",
              "  <tbody>\n",
              "    <tr>\n",
              "      <th>0</th>\n",
              "      <td>9325</td>\n",
              "      <td>6292</td>\n",
              "    </tr>\n",
              "    <tr>\n",
              "      <th>1</th>\n",
              "      <td>413</td>\n",
              "      <td>15110</td>\n",
              "    </tr>\n",
              "  </tbody>\n",
              "</table>\n",
              "</div>"
            ],
            "text/plain": [
              "      0      1\n",
              "0  9325   6292\n",
              "1   413  15110"
            ]
          },
          "metadata": {
            "tags": []
          },
          "execution_count": 85
        }
      ]
    },
    {
      "cell_type": "code",
      "metadata": {
        "colab": {
          "base_uri": "https://localhost:8080/"
        },
        "id": "QRJprh7ch6fM",
        "outputId": "f2d0382d-9248-4464-c1c3-a6c14d3de43c"
      },
      "source": [
        "precision = precision_score(y_val, y_pred, pos_label=0)\n",
        "recall = recall_score(y_val, y_pred, pos_label=0)\n",
        "f1 = f1_score(y_val, y_pred, average=\"macro\")\n",
        "\n",
        "print(f\"precision: {precision}, recall: {recall}, f1-score: {f1}\")"
      ],
      "execution_count": null,
      "outputs": [
        {
          "output_type": "stream",
          "text": [
            "precision: 0.9575888272745944, recall: 0.5971057181276813, f1-score: 0.7769854124245463\n"
          ],
          "name": "stdout"
        }
      ]
    },
    {
      "cell_type": "code",
      "metadata": {
        "colab": {
          "base_uri": "https://localhost:8080/",
          "height": 281
        },
        "id": "YSc3Dcdsh6fM",
        "outputId": "8e72784a-36e9-4c36-a0ef-4a510b1d1271"
      },
      "source": [
        "coef = pd.Series(gs.best_estimator_[1].coef_[0], index=X.columns)\n",
        "coef.nlargest().plot(kind='barh')"
      ],
      "execution_count": null,
      "outputs": [
        {
          "output_type": "execute_result",
          "data": {
            "text/plain": [
              "<matplotlib.axes._subplots.AxesSubplot at 0x7fced5239150>"
            ]
          },
          "metadata": {
            "tags": []
          },
          "execution_count": 87
        },
        {
          "output_type": "display_data",
          "data": {
            "image/png": "[encoded data removed]",
            "text/plain": [
              "<Figure size 432x288 with 1 Axes>"
            ]
          },
          "metadata": {
            "tags": [],
            "needs_background": "light"
          }
        }
      ]
    },
    {
      "cell_type": "code",
      "metadata": {
        "colab": {
          "base_uri": "https://localhost:8080/",
          "height": 260
        },
        "id": "hwym49b1h6fM",
        "outputId": "63772071-e7da-467d-b65d-3897e29c089f"
      },
      "source": [
        "performance.loc[6] = [\"Logistic Regression con Grid Search\", accuracy_interval(f1), mean_squared_error(y_val, y_pred)]\n",
        "performance"
      ],
      "execution_count": null,
      "outputs": [
        {
          "output_type": "execute_result",
          "data": {
            "text/html": [
              "<div>\n",
              "<style scoped>\n",
              "    .dataframe tbody tr th:only-of-type {\n",
              "        vertical-align: middle;\n",
              "    }\n",
              "\n",
              "    .dataframe tbody tr th {\n",
              "        vertical-align: top;\n",
              "    }\n",
              "\n",
              "    .dataframe thead th {\n",
              "        text-align: right;\n",
              "    }\n",
              "</style>\n",
              "<table border=\"1\" class=\"dataframe\">\n",
              "  <thead>\n",
              "    <tr style=\"text-align: right;\">\n",
              "      <th></th>\n",
              "      <th>model</th>\n",
              "      <th>accuracy_interval</th>\n",
              "      <th>mse</th>\n",
              "    </tr>\n",
              "  </thead>\n",
              "  <tbody>\n",
              "    <tr>\n",
              "      <th>0</th>\n",
              "      <td>Perceptron senza standardizzazione</td>\n",
              "      <td>(0.32924187518956094, 0.33972191479763886)</td>\n",
              "      <td>0.498491</td>\n",
              "    </tr>\n",
              "    <tr>\n",
              "      <th>1</th>\n",
              "      <td>Perceptron con standardizzazione</td>\n",
              "      <td>(0.6927998284964185, 0.7029990538920304)</td>\n",
              "      <td>0.301670</td>\n",
              "    </tr>\n",
              "    <tr>\n",
              "      <th>2</th>\n",
              "      <td>Perceptron con Grid Search</td>\n",
              "      <td>(0.32878570795115136, 0.3392621729139192)</td>\n",
              "      <td>0.498491</td>\n",
              "    </tr>\n",
              "    <tr>\n",
              "      <th>3</th>\n",
              "      <td>Perceptron con PolynomialFeatures</td>\n",
              "      <td>(0.7318576307013072, 0.7416398448418068)</td>\n",
              "      <td>0.262492</td>\n",
              "    </tr>\n",
              "    <tr>\n",
              "      <th>4</th>\n",
              "      <td>Logistic Regression senza standardizzazione</td>\n",
              "      <td>(0.4096709240029316, 0.4206161054489851)</td>\n",
              "      <td>0.502697</td>\n",
              "    </tr>\n",
              "    <tr>\n",
              "      <th>5</th>\n",
              "      <td>Logistic Regression con standardizzazione</td>\n",
              "      <td>(0.7722971896562784, 0.7815443007339923)</td>\n",
              "      <td>0.215350</td>\n",
              "    </tr>\n",
              "    <tr>\n",
              "      <th>6</th>\n",
              "      <td>Logistic Regression con Grid Search</td>\n",
              "      <td>(0.7723279160548838, 0.7815745763659852)</td>\n",
              "      <td>0.215318</td>\n",
              "    </tr>\n",
              "  </tbody>\n",
              "</table>\n",
              "</div>"
            ],
            "text/plain": [
              "                                         model  ...       mse\n",
              "0           Perceptron senza standardizzazione  ...  0.498491\n",
              "1             Perceptron con standardizzazione  ...  0.301670\n",
              "2                   Perceptron con Grid Search  ...  0.498491\n",
              "3            Perceptron con PolynomialFeatures  ...  0.262492\n",
              "4  Logistic Regression senza standardizzazione  ...  0.502697\n",
              "5    Logistic Regression con standardizzazione  ...  0.215350\n",
              "6          Logistic Regression con Grid Search  ...  0.215318\n",
              "\n",
              "[7 rows x 3 columns]"
            ]
          },
          "metadata": {
            "tags": []
          },
          "execution_count": 88
        }
      ]
    },
    {
      "cell_type": "markdown",
      "metadata": {
        "id": "RkigmClOrwDw"
      },
      "source": [
        "#### Logistic Regression con PolynomialFeatures"
      ]
    },
    {
      "cell_type": "code",
      "metadata": {
        "colab": {
          "base_uri": "https://localhost:8080/"
        },
        "id": "fyq_6_IqrwDw",
        "outputId": "4eacb631-34f4-4c33-91c2-2300da5a9eef"
      },
      "source": [
        "model = Pipeline([\n",
        "    ('std', StandardScaler()),\n",
        "    ('poly', PolynomialFeatures(degree=3)),\n",
        "    ('lr', LogisticRegression(random_state=42, solver=\"saga\"))\n",
        "])\n",
        "\n",
        "grid = {\n",
        "    'lr__penalty': [\"l1\", \"l2\", \"elasticnet\"],\n",
        "    'lr__C': [0.1, 1, 10],\n",
        "    'lr__l1_ratio': [0.2, 0.5]\n",
        "}\n",
        "\n",
        "skf = StratifiedKFold(3, shuffle=True, random_state=42)\n",
        "gs = GridSearchCV(model, grid, cv=skf)\n",
        "\n",
        "gs.fit(X_train, y_train)"
      ],
      "execution_count": null,
      "outputs": [
        {
          "output_type": "stream",
          "text": [
            "/usr/local/lib/python3.7/dist-packages/sklearn/linear_model/_logistic.py:1501: UserWarning: l1_ratio parameter is only used when penalty is 'elasticnet'. Got (penalty=l1)\n",
            "  \"(penalty={})\".format(self.penalty))\n",
            "/usr/local/lib/python3.7/dist-packages/sklearn/linear_model/_sag.py:330: ConvergenceWarning: The max_iter was reached which means the coef_ did not converge\n",
            "  \"the coef_ did not converge\", ConvergenceWarning)\n",
            "/usr/local/lib/python3.7/dist-packages/sklearn/linear_model/_logistic.py:1501: UserWarning: l1_ratio parameter is only used when penalty is 'elasticnet'. Got (penalty=l1)\n",
            "  \"(penalty={})\".format(self.penalty))\n",
            "/usr/local/lib/python3.7/dist-packages/sklearn/linear_model/_sag.py:330: ConvergenceWarning: The max_iter was reached which means the coef_ did not converge\n",
            "  \"the coef_ did not converge\", ConvergenceWarning)\n",
            "/usr/local/lib/python3.7/dist-packages/sklearn/linear_model/_logistic.py:1501: UserWarning: l1_ratio parameter is only used when penalty is 'elasticnet'. Got (penalty=l1)\n",
            "  \"(penalty={})\".format(self.penalty))\n",
            "/usr/local/lib/python3.7/dist-packages/sklearn/linear_model/_sag.py:330: ConvergenceWarning: The max_iter was reached which means the coef_ did not converge\n",
            "  \"the coef_ did not converge\", ConvergenceWarning)\n",
            "/usr/local/lib/python3.7/dist-packages/sklearn/linear_model/_logistic.py:1501: UserWarning: l1_ratio parameter is only used when penalty is 'elasticnet'. Got (penalty=l2)\n",
            "  \"(penalty={})\".format(self.penalty))\n",
            "/usr/local/lib/python3.7/dist-packages/sklearn/linear_model/_sag.py:330: ConvergenceWarning: The max_iter was reached which means the coef_ did not converge\n",
            "  \"the coef_ did not converge\", ConvergenceWarning)\n",
            "/usr/local/lib/python3.7/dist-packages/sklearn/linear_model/_logistic.py:1501: UserWarning: l1_ratio parameter is only used when penalty is 'elasticnet'. Got (penalty=l2)\n",
            "  \"(penalty={})\".format(self.penalty))\n",
            "/usr/local/lib/python3.7/dist-packages/sklearn/linear_model/_sag.py:330: ConvergenceWarning: The max_iter was reached which means the coef_ did not converge\n",
            "  \"the coef_ did not converge\", ConvergenceWarning)\n",
            "/usr/local/lib/python3.7/dist-packages/sklearn/linear_model/_logistic.py:1501: UserWarning: l1_ratio parameter is only used when penalty is 'elasticnet'. Got (penalty=l2)\n",
            "  \"(penalty={})\".format(self.penalty))\n",
            "/usr/local/lib/python3.7/dist-packages/sklearn/linear_model/_sag.py:330: ConvergenceWarning: The max_iter was reached which means the coef_ did not converge\n",
            "  \"the coef_ did not converge\", ConvergenceWarning)\n",
            "/usr/local/lib/python3.7/dist-packages/sklearn/linear_model/_sag.py:330: ConvergenceWarning: The max_iter was reached which means the coef_ did not converge\n",
            "  \"the coef_ did not converge\", ConvergenceWarning)\n",
            "/usr/local/lib/python3.7/dist-packages/sklearn/linear_model/_sag.py:330: ConvergenceWarning: The max_iter was reached which means the coef_ did not converge\n",
            "  \"the coef_ did not converge\", ConvergenceWarning)\n",
            "/usr/local/lib/python3.7/dist-packages/sklearn/linear_model/_sag.py:330: ConvergenceWarning: The max_iter was reached which means the coef_ did not converge\n",
            "  \"the coef_ did not converge\", ConvergenceWarning)\n",
            "/usr/local/lib/python3.7/dist-packages/sklearn/linear_model/_logistic.py:1501: UserWarning: l1_ratio parameter is only used when penalty is 'elasticnet'. Got (penalty=l1)\n",
            "  \"(penalty={})\".format(self.penalty))\n",
            "/usr/local/lib/python3.7/dist-packages/sklearn/linear_model/_sag.py:330: ConvergenceWarning: The max_iter was reached which means the coef_ did not converge\n",
            "  \"the coef_ did not converge\", ConvergenceWarning)\n",
            "/usr/local/lib/python3.7/dist-packages/sklearn/linear_model/_logistic.py:1501: UserWarning: l1_ratio parameter is only used when penalty is 'elasticnet'. Got (penalty=l1)\n",
            "  \"(penalty={})\".format(self.penalty))\n",
            "/usr/local/lib/python3.7/dist-packages/sklearn/linear_model/_sag.py:330: ConvergenceWarning: The max_iter was reached which means the coef_ did not converge\n",
            "  \"the coef_ did not converge\", ConvergenceWarning)\n",
            "/usr/local/lib/python3.7/dist-packages/sklearn/linear_model/_logistic.py:1501: UserWarning: l1_ratio parameter is only used when penalty is 'elasticnet'. Got (penalty=l1)\n",
            "  \"(penalty={})\".format(self.penalty))\n",
            "/usr/local/lib/python3.7/dist-packages/sklearn/linear_model/_sag.py:330: ConvergenceWarning: The max_iter was reached which means the coef_ did not converge\n",
            "  \"the coef_ did not converge\", ConvergenceWarning)\n",
            "/usr/local/lib/python3.7/dist-packages/sklearn/linear_model/_logistic.py:1501: UserWarning: l1_ratio parameter is only used when penalty is 'elasticnet'. Got (penalty=l2)\n",
            "  \"(penalty={})\".format(self.penalty))\n",
            "/usr/local/lib/python3.7/dist-packages/sklearn/linear_model/_sag.py:330: ConvergenceWarning: The max_iter was reached which means the coef_ did not converge\n",
            "  \"the coef_ did not converge\", ConvergenceWarning)\n",
            "/usr/local/lib/python3.7/dist-packages/sklearn/linear_model/_logistic.py:1501: UserWarning: l1_ratio parameter is only used when penalty is 'elasticnet'. Got (penalty=l2)\n",
            "  \"(penalty={})\".format(self.penalty))\n",
            "/usr/local/lib/python3.7/dist-packages/sklearn/linear_model/_sag.py:330: ConvergenceWarning: The max_iter was reached which means the coef_ did not converge\n",
            "  \"the coef_ did not converge\", ConvergenceWarning)\n",
            "/usr/local/lib/python3.7/dist-packages/sklearn/linear_model/_logistic.py:1501: UserWarning: l1_ratio parameter is only used when penalty is 'elasticnet'. Got (penalty=l2)\n",
            "  \"(penalty={})\".format(self.penalty))\n",
            "/usr/local/lib/python3.7/dist-packages/sklearn/linear_model/_sag.py:330: ConvergenceWarning: The max_iter was reached which means the coef_ did not converge\n",
            "  \"the coef_ did not converge\", ConvergenceWarning)\n",
            "/usr/local/lib/python3.7/dist-packages/sklearn/linear_model/_sag.py:330: ConvergenceWarning: The max_iter was reached which means the coef_ did not converge\n",
            "  \"the coef_ did not converge\", ConvergenceWarning)\n",
            "/usr/local/lib/python3.7/dist-packages/sklearn/linear_model/_sag.py:330: ConvergenceWarning: The max_iter was reached which means the coef_ did not converge\n",
            "  \"the coef_ did not converge\", ConvergenceWarning)\n",
            "/usr/local/lib/python3.7/dist-packages/sklearn/linear_model/_sag.py:330: ConvergenceWarning: The max_iter was reached which means the coef_ did not converge\n",
            "  \"the coef_ did not converge\", ConvergenceWarning)\n",
            "/usr/local/lib/python3.7/dist-packages/sklearn/linear_model/_logistic.py:1501: UserWarning: l1_ratio parameter is only used when penalty is 'elasticnet'. Got (penalty=l1)\n",
            "  \"(penalty={})\".format(self.penalty))\n",
            "/usr/local/lib/python3.7/dist-packages/sklearn/linear_model/_sag.py:330: ConvergenceWarning: The max_iter was reached which means the coef_ did not converge\n",
            "  \"the coef_ did not converge\", ConvergenceWarning)\n",
            "/usr/local/lib/python3.7/dist-packages/sklearn/linear_model/_logistic.py:1501: UserWarning: l1_ratio parameter is only used when penalty is 'elasticnet'. Got (penalty=l1)\n",
            "  \"(penalty={})\".format(self.penalty))\n",
            "/usr/local/lib/python3.7/dist-packages/sklearn/linear_model/_sag.py:330: ConvergenceWarning: The max_iter was reached which means the coef_ did not converge\n",
            "  \"the coef_ did not converge\", ConvergenceWarning)\n",
            "/usr/local/lib/python3.7/dist-packages/sklearn/linear_model/_logistic.py:1501: UserWarning: l1_ratio parameter is only used when penalty is 'elasticnet'. Got (penalty=l1)\n",
            "  \"(penalty={})\".format(self.penalty))\n",
            "/usr/local/lib/python3.7/dist-packages/sklearn/linear_model/_sag.py:330: ConvergenceWarning: The max_iter was reached which means the coef_ did not converge\n",
            "  \"the coef_ did not converge\", ConvergenceWarning)\n",
            "/usr/local/lib/python3.7/dist-packages/sklearn/linear_model/_logistic.py:1501: UserWarning: l1_ratio parameter is only used when penalty is 'elasticnet'. Got (penalty=l2)\n",
            "  \"(penalty={})\".format(self.penalty))\n",
            "/usr/local/lib/python3.7/dist-packages/sklearn/linear_model/_sag.py:330: ConvergenceWarning: The max_iter was reached which means the coef_ did not converge\n",
            "  \"the coef_ did not converge\", ConvergenceWarning)\n",
            "/usr/local/lib/python3.7/dist-packages/sklearn/linear_model/_logistic.py:1501: UserWarning: l1_ratio parameter is only used when penalty is 'elasticnet'. Got (penalty=l2)\n",
            "  \"(penalty={})\".format(self.penalty))\n",
            "/usr/local/lib/python3.7/dist-packages/sklearn/linear_model/_sag.py:330: ConvergenceWarning: The max_iter was reached which means the coef_ did not converge\n",
            "  \"the coef_ did not converge\", ConvergenceWarning)\n",
            "/usr/local/lib/python3.7/dist-packages/sklearn/linear_model/_logistic.py:1501: UserWarning: l1_ratio parameter is only used when penalty is 'elasticnet'. Got (penalty=l2)\n",
            "  \"(penalty={})\".format(self.penalty))\n",
            "/usr/local/lib/python3.7/dist-packages/sklearn/linear_model/_sag.py:330: ConvergenceWarning: The max_iter was reached which means the coef_ did not converge\n",
            "  \"the coef_ did not converge\", ConvergenceWarning)\n",
            "/usr/local/lib/python3.7/dist-packages/sklearn/linear_model/_sag.py:330: ConvergenceWarning: The max_iter was reached which means the coef_ did not converge\n",
            "  \"the coef_ did not converge\", ConvergenceWarning)\n",
            "/usr/local/lib/python3.7/dist-packages/sklearn/linear_model/_sag.py:330: ConvergenceWarning: The max_iter was reached which means the coef_ did not converge\n",
            "  \"the coef_ did not converge\", ConvergenceWarning)\n",
            "/usr/local/lib/python3.7/dist-packages/sklearn/linear_model/_sag.py:330: ConvergenceWarning: The max_iter was reached which means the coef_ did not converge\n",
            "  \"the coef_ did not converge\", ConvergenceWarning)\n",
            "/usr/local/lib/python3.7/dist-packages/sklearn/linear_model/_logistic.py:1501: UserWarning: l1_ratio parameter is only used when penalty is 'elasticnet'. Got (penalty=l1)\n",
            "  \"(penalty={})\".format(self.penalty))\n",
            "/usr/local/lib/python3.7/dist-packages/sklearn/linear_model/_sag.py:330: ConvergenceWarning: The max_iter was reached which means the coef_ did not converge\n",
            "  \"the coef_ did not converge\", ConvergenceWarning)\n",
            "/usr/local/lib/python3.7/dist-packages/sklearn/linear_model/_logistic.py:1501: UserWarning: l1_ratio parameter is only used when penalty is 'elasticnet'. Got (penalty=l1)\n",
            "  \"(penalty={})\".format(self.penalty))\n",
            "/usr/local/lib/python3.7/dist-packages/sklearn/linear_model/_sag.py:330: ConvergenceWarning: The max_iter was reached which means the coef_ did not converge\n",
            "  \"the coef_ did not converge\", ConvergenceWarning)\n",
            "/usr/local/lib/python3.7/dist-packages/sklearn/linear_model/_logistic.py:1501: UserWarning: l1_ratio parameter is only used when penalty is 'elasticnet'. Got (penalty=l1)\n",
            "  \"(penalty={})\".format(self.penalty))\n",
            "/usr/local/lib/python3.7/dist-packages/sklearn/linear_model/_sag.py:330: ConvergenceWarning: The max_iter was reached which means the coef_ did not converge\n",
            "  \"the coef_ did not converge\", ConvergenceWarning)\n",
            "/usr/local/lib/python3.7/dist-packages/sklearn/linear_model/_logistic.py:1501: UserWarning: l1_ratio parameter is only used when penalty is 'elasticnet'. Got (penalty=l2)\n",
            "  \"(penalty={})\".format(self.penalty))\n",
            "/usr/local/lib/python3.7/dist-packages/sklearn/linear_model/_sag.py:330: ConvergenceWarning: The max_iter was reached which means the coef_ did not converge\n",
            "  \"the coef_ did not converge\", ConvergenceWarning)\n",
            "/usr/local/lib/python3.7/dist-packages/sklearn/linear_model/_logistic.py:1501: UserWarning: l1_ratio parameter is only used when penalty is 'elasticnet'. Got (penalty=l2)\n",
            "  \"(penalty={})\".format(self.penalty))\n",
            "/usr/local/lib/python3.7/dist-packages/sklearn/linear_model/_sag.py:330: ConvergenceWarning: The max_iter was reached which means the coef_ did not converge\n",
            "  \"the coef_ did not converge\", ConvergenceWarning)\n",
            "/usr/local/lib/python3.7/dist-packages/sklearn/linear_model/_logistic.py:1501: UserWarning: l1_ratio parameter is only used when penalty is 'elasticnet'. Got (penalty=l2)\n",
            "  \"(penalty={})\".format(self.penalty))\n",
            "/usr/local/lib/python3.7/dist-packages/sklearn/linear_model/_sag.py:330: ConvergenceWarning: The max_iter was reached which means the coef_ did not converge\n",
            "  \"the coef_ did not converge\", ConvergenceWarning)\n",
            "/usr/local/lib/python3.7/dist-packages/sklearn/linear_model/_sag.py:330: ConvergenceWarning: The max_iter was reached which means the coef_ did not converge\n",
            "  \"the coef_ did not converge\", ConvergenceWarning)\n",
            "/usr/local/lib/python3.7/dist-packages/sklearn/linear_model/_sag.py:330: ConvergenceWarning: The max_iter was reached which means the coef_ did not converge\n",
            "  \"the coef_ did not converge\", ConvergenceWarning)\n",
            "/usr/local/lib/python3.7/dist-packages/sklearn/linear_model/_sag.py:330: ConvergenceWarning: The max_iter was reached which means the coef_ did not converge\n",
            "  \"the coef_ did not converge\", ConvergenceWarning)\n",
            "/usr/local/lib/python3.7/dist-packages/sklearn/linear_model/_logistic.py:1501: UserWarning: l1_ratio parameter is only used when penalty is 'elasticnet'. Got (penalty=l1)\n",
            "  \"(penalty={})\".format(self.penalty))\n",
            "/usr/local/lib/python3.7/dist-packages/sklearn/linear_model/_sag.py:330: ConvergenceWarning: The max_iter was reached which means the coef_ did not converge\n",
            "  \"the coef_ did not converge\", ConvergenceWarning)\n",
            "/usr/local/lib/python3.7/dist-packages/sklearn/linear_model/_logistic.py:1501: UserWarning: l1_ratio parameter is only used when penalty is 'elasticnet'. Got (penalty=l1)\n",
            "  \"(penalty={})\".format(self.penalty))\n",
            "/usr/local/lib/python3.7/dist-packages/sklearn/linear_model/_sag.py:330: ConvergenceWarning: The max_iter was reached which means the coef_ did not converge\n",
            "  \"the coef_ did not converge\", ConvergenceWarning)\n",
            "/usr/local/lib/python3.7/dist-packages/sklearn/linear_model/_logistic.py:1501: UserWarning: l1_ratio parameter is only used when penalty is 'elasticnet'. Got (penalty=l1)\n",
            "  \"(penalty={})\".format(self.penalty))\n",
            "/usr/local/lib/python3.7/dist-packages/sklearn/linear_model/_sag.py:330: ConvergenceWarning: The max_iter was reached which means the coef_ did not converge\n",
            "  \"the coef_ did not converge\", ConvergenceWarning)\n",
            "/usr/local/lib/python3.7/dist-packages/sklearn/linear_model/_logistic.py:1501: UserWarning: l1_ratio parameter is only used when penalty is 'elasticnet'. Got (penalty=l2)\n",
            "  \"(penalty={})\".format(self.penalty))\n",
            "/usr/local/lib/python3.7/dist-packages/sklearn/linear_model/_sag.py:330: ConvergenceWarning: The max_iter was reached which means the coef_ did not converge\n",
            "  \"the coef_ did not converge\", ConvergenceWarning)\n",
            "/usr/local/lib/python3.7/dist-packages/sklearn/linear_model/_logistic.py:1501: UserWarning: l1_ratio parameter is only used when penalty is 'elasticnet'. Got (penalty=l2)\n",
            "  \"(penalty={})\".format(self.penalty))\n",
            "/usr/local/lib/python3.7/dist-packages/sklearn/linear_model/_sag.py:330: ConvergenceWarning: The max_iter was reached which means the coef_ did not converge\n",
            "  \"the coef_ did not converge\", ConvergenceWarning)\n",
            "/usr/local/lib/python3.7/dist-packages/sklearn/linear_model/_logistic.py:1501: UserWarning: l1_ratio parameter is only used when penalty is 'elasticnet'. Got (penalty=l2)\n",
            "  \"(penalty={})\".format(self.penalty))\n",
            "/usr/local/lib/python3.7/dist-packages/sklearn/linear_model/_sag.py:330: ConvergenceWarning: The max_iter was reached which means the coef_ did not converge\n",
            "  \"the coef_ did not converge\", ConvergenceWarning)\n",
            "/usr/local/lib/python3.7/dist-packages/sklearn/linear_model/_sag.py:330: ConvergenceWarning: The max_iter was reached which means the coef_ did not converge\n",
            "  \"the coef_ did not converge\", ConvergenceWarning)\n",
            "/usr/local/lib/python3.7/dist-packages/sklearn/linear_model/_sag.py:330: ConvergenceWarning: The max_iter was reached which means the coef_ did not converge\n",
            "  \"the coef_ did not converge\", ConvergenceWarning)\n",
            "/usr/local/lib/python3.7/dist-packages/sklearn/linear_model/_sag.py:330: ConvergenceWarning: The max_iter was reached which means the coef_ did not converge\n",
            "  \"the coef_ did not converge\", ConvergenceWarning)\n",
            "/usr/local/lib/python3.7/dist-packages/sklearn/linear_model/_logistic.py:1501: UserWarning: l1_ratio parameter is only used when penalty is 'elasticnet'. Got (penalty=l1)\n",
            "  \"(penalty={})\".format(self.penalty))\n",
            "/usr/local/lib/python3.7/dist-packages/sklearn/linear_model/_sag.py:330: ConvergenceWarning: The max_iter was reached which means the coef_ did not converge\n",
            "  \"the coef_ did not converge\", ConvergenceWarning)\n",
            "/usr/local/lib/python3.7/dist-packages/sklearn/linear_model/_logistic.py:1501: UserWarning: l1_ratio parameter is only used when penalty is 'elasticnet'. Got (penalty=l1)\n",
            "  \"(penalty={})\".format(self.penalty))\n",
            "/usr/local/lib/python3.7/dist-packages/sklearn/linear_model/_sag.py:330: ConvergenceWarning: The max_iter was reached which means the coef_ did not converge\n",
            "  \"the coef_ did not converge\", ConvergenceWarning)\n",
            "/usr/local/lib/python3.7/dist-packages/sklearn/linear_model/_logistic.py:1501: UserWarning: l1_ratio parameter is only used when penalty is 'elasticnet'. Got (penalty=l1)\n",
            "  \"(penalty={})\".format(self.penalty))\n",
            "/usr/local/lib/python3.7/dist-packages/sklearn/linear_model/_sag.py:330: ConvergenceWarning: The max_iter was reached which means the coef_ did not converge\n",
            "  \"the coef_ did not converge\", ConvergenceWarning)\n",
            "/usr/local/lib/python3.7/dist-packages/sklearn/linear_model/_logistic.py:1501: UserWarning: l1_ratio parameter is only used when penalty is 'elasticnet'. Got (penalty=l2)\n",
            "  \"(penalty={})\".format(self.penalty))\n",
            "/usr/local/lib/python3.7/dist-packages/sklearn/linear_model/_sag.py:330: ConvergenceWarning: The max_iter was reached which means the coef_ did not converge\n",
            "  \"the coef_ did not converge\", ConvergenceWarning)\n",
            "/usr/local/lib/python3.7/dist-packages/sklearn/linear_model/_logistic.py:1501: UserWarning: l1_ratio parameter is only used when penalty is 'elasticnet'. Got (penalty=l2)\n",
            "  \"(penalty={})\".format(self.penalty))\n",
            "/usr/local/lib/python3.7/dist-packages/sklearn/linear_model/_sag.py:330: ConvergenceWarning: The max_iter was reached which means the coef_ did not converge\n",
            "  \"the coef_ did not converge\", ConvergenceWarning)\n",
            "/usr/local/lib/python3.7/dist-packages/sklearn/linear_model/_logistic.py:1501: UserWarning: l1_ratio parameter is only used when penalty is 'elasticnet'. Got (penalty=l2)\n",
            "  \"(penalty={})\".format(self.penalty))\n",
            "/usr/local/lib/python3.7/dist-packages/sklearn/linear_model/_sag.py:330: ConvergenceWarning: The max_iter was reached which means the coef_ did not converge\n",
            "  \"the coef_ did not converge\", ConvergenceWarning)\n",
            "/usr/local/lib/python3.7/dist-packages/sklearn/linear_model/_sag.py:330: ConvergenceWarning: The max_iter was reached which means the coef_ did not converge\n",
            "  \"the coef_ did not converge\", ConvergenceWarning)\n",
            "/usr/local/lib/python3.7/dist-packages/sklearn/linear_model/_sag.py:330: ConvergenceWarning: The max_iter was reached which means the coef_ did not converge\n",
            "  \"the coef_ did not converge\", ConvergenceWarning)\n",
            "/usr/local/lib/python3.7/dist-packages/sklearn/linear_model/_sag.py:330: ConvergenceWarning: The max_iter was reached which means the coef_ did not converge\n",
            "  \"the coef_ did not converge\", ConvergenceWarning)\n",
            "/usr/local/lib/python3.7/dist-packages/sklearn/linear_model/_logistic.py:1501: UserWarning: l1_ratio parameter is only used when penalty is 'elasticnet'. Got (penalty=l1)\n",
            "  \"(penalty={})\".format(self.penalty))\n",
            "/usr/local/lib/python3.7/dist-packages/sklearn/linear_model/_sag.py:330: ConvergenceWarning: The max_iter was reached which means the coef_ did not converge\n",
            "  \"the coef_ did not converge\", ConvergenceWarning)\n"
          ],
          "name": "stderr"
        },
        {
          "output_type": "execute_result",
          "data": {
            "text/plain": [
              "GridSearchCV(cv=StratifiedKFold(n_splits=3, random_state=42, shuffle=True),\n",
              "             error_score=nan,\n",
              "             estimator=Pipeline(memory=None,\n",
              "                                steps=[('std',\n",
              "                                        StandardScaler(copy=True,\n",
              "                                                       with_mean=True,\n",
              "                                                       with_std=True)),\n",
              "                                       ('poly',\n",
              "                                        PolynomialFeatures(degree=3,\n",
              "                                                           include_bias=True,\n",
              "                                                           interaction_only=False,\n",
              "                                                           order='C')),\n",
              "                                       ('lr',\n",
              "                                        LogisticRegression(C=1.0,\n",
              "                                                           class_weight=None,\n",
              "                                                           dual=False,\n",
              "                                                           fit_interce...\n",
              "                                                           max_iter=100,\n",
              "                                                           multi_class='auto',\n",
              "                                                           n_jobs=None,\n",
              "                                                           penalty='l2',\n",
              "                                                           random_state=42,\n",
              "                                                           solver='saga',\n",
              "                                                           tol=0.0001,\n",
              "                                                           verbose=0,\n",
              "                                                           warm_start=False))],\n",
              "                                verbose=False),\n",
              "             iid='deprecated', n_jobs=None,\n",
              "             param_grid={'lr__C': [0.1, 1, 10], 'lr__l1_ratio': [0.2, 0.5],\n",
              "                         'lr__penalty': ['l1', 'l2', 'elasticnet']},\n",
              "             pre_dispatch='2*n_jobs', refit=True, return_train_score=False,\n",
              "             scoring=None, verbose=0)"
            ]
          },
          "metadata": {
            "tags": []
          },
          "execution_count": 94
        }
      ]
    },
    {
      "cell_type": "code",
      "metadata": {
        "colab": {
          "base_uri": "https://localhost:8080/"
        },
        "id": "AM_wuDuJrwDx",
        "outputId": "4b290454-bab8-4c4e-f30f-69b0125ae706"
      },
      "source": [
        "print('Accuracy on train {:.2f}%'.format(gs.score(X_train, y_train)*100))\n",
        "print('Accuracy on val {:.2f}%'.format(gs.score(X_val, y_val)*100))\n",
        "print('Best parameters:', gs.best_params_)  \n",
        "print('Best score: {:.4f}%'.format(round(gs.best_score_ * 100, 4)))"
      ],
      "execution_count": null,
      "outputs": [
        {
          "output_type": "stream",
          "text": [
            "Accuracy on train 76.82%\n",
            "Accuracy on val 76.75%\n",
            "Best parameters: {'lr__C': 0.1, 'lr__l1_ratio': 0.2, 'lr__penalty': 'l1'}\n",
            "Best score: 76.8176%\n"
          ],
          "name": "stdout"
        }
      ]
    },
    {
      "cell_type": "code",
      "metadata": {
        "colab": {
          "base_uri": "https://localhost:8080/",
          "height": 108
        },
        "id": "l1RBl4G_rwDy",
        "outputId": "497e919c-a5f8-42fd-88a4-ee9e96975b94"
      },
      "source": [
        "y_pred = gs.predict(X_val)\n",
        "cm = confusion_matrix(y_val, y_pred)\n",
        "pd.DataFrame(cm, index=gs.best_estimator_.classes_, columns=gs.best_estimator_.classes_)"
      ],
      "execution_count": null,
      "outputs": [
        {
          "output_type": "execute_result",
          "data": {
            "text/html": [
              "<div>\n",
              "<style scoped>\n",
              "    .dataframe tbody tr th:only-of-type {\n",
              "        vertical-align: middle;\n",
              "    }\n",
              "\n",
              "    .dataframe tbody tr th {\n",
              "        vertical-align: top;\n",
              "    }\n",
              "\n",
              "    .dataframe thead th {\n",
              "        text-align: right;\n",
              "    }\n",
              "</style>\n",
              "<table border=\"1\" class=\"dataframe\">\n",
              "  <thead>\n",
              "    <tr style=\"text-align: right;\">\n",
              "      <th></th>\n",
              "      <th>0</th>\n",
              "      <th>1</th>\n",
              "    </tr>\n",
              "  </thead>\n",
              "  <tbody>\n",
              "    <tr>\n",
              "      <th>0</th>\n",
              "      <td>11019</td>\n",
              "      <td>4598</td>\n",
              "    </tr>\n",
              "    <tr>\n",
              "      <th>1</th>\n",
              "      <td>2641</td>\n",
              "      <td>12882</td>\n",
              "    </tr>\n",
              "  </tbody>\n",
              "</table>\n",
              "</div>"
            ],
            "text/plain": [
              "       0      1\n",
              "0  11019   4598\n",
              "1   2641  12882"
            ]
          },
          "metadata": {
            "tags": []
          },
          "execution_count": 96
        }
      ]
    },
    {
      "cell_type": "code",
      "metadata": {
        "colab": {
          "base_uri": "https://localhost:8080/"
        },
        "id": "fJuWXn0lrwDy",
        "outputId": "24b69bbd-5a7b-40fe-f5ea-459f1fde78fd"
      },
      "source": [
        "precision = precision_score(y_val, y_pred, pos_label=0)\n",
        "recall = recall_score(y_val, y_pred, pos_label=0)\n",
        "f1 = f1_score(y_val, y_pred, average=\"macro\")\n",
        "\n",
        "print(f\"precision: {precision}, recall: {recall}, f1-score: {f1}\")"
      ],
      "execution_count": null,
      "outputs": [
        {
          "output_type": "stream",
          "text": [
            "precision: 0.8066617862371889, recall: 0.7055772555548441, f1-score: 0.7666986817535772\n"
          ],
          "name": "stdout"
        }
      ]
    },
    {
      "cell_type": "code",
      "metadata": {
        "colab": {
          "base_uri": "https://localhost:8080/",
          "height": 281
        },
        "id": "RiMYvP-WrwDz",
        "outputId": "3131edeb-968f-4384-f671-694b4a15a3fe"
      },
      "source": [
        "coef = pd.Series(gs.best_estimator_[2].coef_[0])\n",
        "coef.nlargest().plot(kind='barh')"
      ],
      "execution_count": null,
      "outputs": [
        {
          "output_type": "execute_result",
          "data": {
            "text/plain": [
              "<matplotlib.axes._subplots.AxesSubplot at 0x7fced5651dd0>"
            ]
          },
          "metadata": {
            "tags": []
          },
          "execution_count": 99
        },
        {
          "output_type": "display_data",
          "data": {
            "image/png": "[encoded data removed]",
            "text/plain": [
              "<Figure size 432x288 with 1 Axes>"
            ]
          },
          "metadata": {
            "tags": [],
            "needs_background": "light"
          }
        }
      ]
    },
    {
      "cell_type": "code",
      "metadata": {
        "colab": {
          "base_uri": "https://localhost:8080/",
          "height": 290
        },
        "id": "oECtzEJCrwDz",
        "outputId": "9cd837f7-99a6-4f40-fc68-e832d9dfd13c"
      },
      "source": [
        "performance.loc[7] = [\"Logistic Regression con PolynomialFeatures\", accuracy_interval(f1), mean_squared_error(y_val, y_pred)]\n",
        "performance"
      ],
      "execution_count": null,
      "outputs": [
        {
          "output_type": "execute_result",
          "data": {
            "text/html": [
              "<div>\n",
              "<style scoped>\n",
              "    .dataframe tbody tr th:only-of-type {\n",
              "        vertical-align: middle;\n",
              "    }\n",
              "\n",
              "    .dataframe tbody tr th {\n",
              "        vertical-align: top;\n",
              "    }\n",
              "\n",
              "    .dataframe thead th {\n",
              "        text-align: right;\n",
              "    }\n",
              "</style>\n",
              "<table border=\"1\" class=\"dataframe\">\n",
              "  <thead>\n",
              "    <tr style=\"text-align: right;\">\n",
              "      <th></th>\n",
              "      <th>model</th>\n",
              "      <th>accuracy_interval</th>\n",
              "      <th>mse</th>\n",
              "    </tr>\n",
              "  </thead>\n",
              "  <tbody>\n",
              "    <tr>\n",
              "      <th>0</th>\n",
              "      <td>Perceptron senza standardizzazione</td>\n",
              "      <td>(0.32924187518956094, 0.33972191479763886)</td>\n",
              "      <td>0.498491</td>\n",
              "    </tr>\n",
              "    <tr>\n",
              "      <th>1</th>\n",
              "      <td>Perceptron con standardizzazione</td>\n",
              "      <td>(0.6927998284964185, 0.7029990538920304)</td>\n",
              "      <td>0.301670</td>\n",
              "    </tr>\n",
              "    <tr>\n",
              "      <th>2</th>\n",
              "      <td>Perceptron con Grid Search</td>\n",
              "      <td>(0.32878570795115136, 0.3392621729139192)</td>\n",
              "      <td>0.498491</td>\n",
              "    </tr>\n",
              "    <tr>\n",
              "      <th>3</th>\n",
              "      <td>Perceptron con PolynomialFeatures</td>\n",
              "      <td>(0.7318576307013072, 0.7416398448418068)</td>\n",
              "      <td>0.262492</td>\n",
              "    </tr>\n",
              "    <tr>\n",
              "      <th>4</th>\n",
              "      <td>Logistic Regression senza standardizzazione</td>\n",
              "      <td>(0.4096709240029316, 0.4206161054489851)</td>\n",
              "      <td>0.502697</td>\n",
              "    </tr>\n",
              "    <tr>\n",
              "      <th>5</th>\n",
              "      <td>Logistic Regression con standardizzazione</td>\n",
              "      <td>(0.7722971896562784, 0.7815443007339923)</td>\n",
              "      <td>0.215350</td>\n",
              "    </tr>\n",
              "    <tr>\n",
              "      <th>6</th>\n",
              "      <td>Logistic Regression con Grid Search</td>\n",
              "      <td>(0.7723279160548838, 0.7815745763659852)</td>\n",
              "      <td>0.215318</td>\n",
              "    </tr>\n",
              "    <tr>\n",
              "      <th>7</th>\n",
              "      <td>Logistic Regression con PolynomialFeatures</td>\n",
              "      <td>(0.7619684488474691, 0.7713631199726341)</td>\n",
              "      <td>0.232466</td>\n",
              "    </tr>\n",
              "  </tbody>\n",
              "</table>\n",
              "</div>"
            ],
            "text/plain": [
              "                                         model  ...       mse\n",
              "0           Perceptron senza standardizzazione  ...  0.498491\n",
              "1             Perceptron con standardizzazione  ...  0.301670\n",
              "2                   Perceptron con Grid Search  ...  0.498491\n",
              "3            Perceptron con PolynomialFeatures  ...  0.262492\n",
              "4  Logistic Regression senza standardizzazione  ...  0.502697\n",
              "5    Logistic Regression con standardizzazione  ...  0.215350\n",
              "6          Logistic Regression con Grid Search  ...  0.215318\n",
              "7   Logistic Regression con PolynomialFeatures  ...  0.232466\n",
              "\n",
              "[8 rows x 3 columns]"
            ]
          },
          "metadata": {
            "tags": []
          },
          "execution_count": 100
        }
      ]
    },
    {
      "cell_type": "markdown",
      "metadata": {
        "id": "mp2d8EjPPQty"
      },
      "source": [
        "### SVM"
      ]
    },
    {
      "cell_type": "code",
      "metadata": {
        "colab": {
          "base_uri": "https://localhost:8080/"
        },
        "id": "EnkrXJvkQAn_",
        "outputId": "b15d087f-f1fa-425a-a14d-16fc17107709"
      },
      "source": [
        "model = Pipeline([\n",
        "    ('std', StandardScaler()),\n",
        "    ('svm', SVC())\n",
        "])\n",
        "\n",
        "grid = {\n",
        "    'svm__kernel': ['rbf'],\n",
        "    'svm__C': [0.01, 0.1, 1],\n",
        "}\n",
        "\n",
        "skf = StratifiedKFold(3, shuffle=True, random_state=42)\n",
        "gs = GridSearchCV(model, grid, cv=skf)\n",
        "\n",
        "gs.fit(X_train, y_train)"
      ],
      "execution_count": null,
      "outputs": [
        {
          "output_type": "execute_result",
          "data": {
            "text/plain": [
              "GridSearchCV(cv=StratifiedKFold(n_splits=3, random_state=42, shuffle=True),\n",
              "             error_score=nan,\n",
              "             estimator=Pipeline(memory=None,\n",
              "                                steps=[('std',\n",
              "                                        StandardScaler(copy=True,\n",
              "                                                       with_mean=True,\n",
              "                                                       with_std=True)),\n",
              "                                       ('svm',\n",
              "                                        SVC(C=1.0, break_ties=False,\n",
              "                                            cache_size=200, class_weight=None,\n",
              "                                            coef0=0.0,\n",
              "                                            decision_function_shape='ovr',\n",
              "                                            degree=3, gamma='scale',\n",
              "                                            kernel='rbf', max_iter=-1,\n",
              "                                            probability=False,\n",
              "                                            random_state=None, shrinking=True,\n",
              "                                            tol=0.001, verbose=False))],\n",
              "                                verbose=False),\n",
              "             iid='deprecated', n_jobs=None,\n",
              "             param_grid={'svm__C': [0.01, 0.1, 1], 'svm__kernel': ['rbf']},\n",
              "             pre_dispatch='2*n_jobs', refit=True, return_train_score=False,\n",
              "             scoring=None, verbose=0)"
            ]
          },
          "metadata": {
            "tags": []
          },
          "execution_count": 101
        }
      ]
    },
    {
      "cell_type": "code",
      "metadata": {
        "colab": {
          "base_uri": "https://localhost:8080/"
        },
        "id": "GkVjXG_IQsCA",
        "outputId": "f5436799-627c-4f36-806d-ba895b6fcdf8"
      },
      "source": [
        "print('Accuracy on train {:.2f}%'.format(gs.score(X_train, y_train)*100))\n",
        "print('Accuracy on val {:.2f}%'.format(gs.score(X_val, y_val)*100))\n",
        "print('Best parameters:', gs.best_params_)  \n",
        "print('Best score: {:.4f}%'.format(round(gs.best_score_ * 100, 4)))"
      ],
      "execution_count": null,
      "outputs": [
        {
          "output_type": "stream",
          "text": [
            "Accuracy on train 79.14%\n",
            "Accuracy on val 79.03%\n",
            "Best parameters: {'svm__C': 1, 'svm__kernel': 'rbf'}\n",
            "Best score: 79.1105%\n"
          ],
          "name": "stdout"
        }
      ]
    },
    {
      "cell_type": "code",
      "metadata": {
        "colab": {
          "base_uri": "https://localhost:8080/",
          "height": 108
        },
        "id": "lU79Q5cEQAn_",
        "outputId": "d3d44e1c-b0f8-4967-a5c8-d05d89553692"
      },
      "source": [
        "y_pred = gs.predict(X_val)\n",
        "cm = confusion_matrix(y_val, y_pred)\n",
        "pd.DataFrame(cm, index = gs.classes_, columns = gs.classes_)"
      ],
      "execution_count": null,
      "outputs": [
        {
          "output_type": "execute_result",
          "data": {
            "text/html": [
              "<div>\n",
              "<style scoped>\n",
              "    .dataframe tbody tr th:only-of-type {\n",
              "        vertical-align: middle;\n",
              "    }\n",
              "\n",
              "    .dataframe tbody tr th {\n",
              "        vertical-align: top;\n",
              "    }\n",
              "\n",
              "    .dataframe thead th {\n",
              "        text-align: right;\n",
              "    }\n",
              "</style>\n",
              "<table border=\"1\" class=\"dataframe\">\n",
              "  <thead>\n",
              "    <tr style=\"text-align: right;\">\n",
              "      <th></th>\n",
              "      <th>0</th>\n",
              "      <th>1</th>\n",
              "    </tr>\n",
              "  </thead>\n",
              "  <tbody>\n",
              "    <tr>\n",
              "      <th>0</th>\n",
              "      <td>10017</td>\n",
              "      <td>5600</td>\n",
              "    </tr>\n",
              "    <tr>\n",
              "      <th>1</th>\n",
              "      <td>931</td>\n",
              "      <td>14592</td>\n",
              "    </tr>\n",
              "  </tbody>\n",
              "</table>\n",
              "</div>"
            ],
            "text/plain": [
              "       0      1\n",
              "0  10017   5600\n",
              "1    931  14592"
            ]
          },
          "metadata": {
            "tags": []
          },
          "execution_count": 103
        }
      ]
    },
    {
      "cell_type": "code",
      "metadata": {
        "colab": {
          "base_uri": "https://localhost:8080/"
        },
        "id": "MOYSIj1BQAoA",
        "outputId": "8adef2fb-90fa-441f-f8aa-8780fff040cb"
      },
      "source": [
        "precision = precision_score(y_val, y_pred, pos_label=0)\n",
        "recall = recall_score(y_val, y_pred, pos_label=0)\n",
        "f1 = f1_score(y_val, y_pred, average=\"macro\")\n",
        "\n",
        "print(f\"precision: {precision}, recall: {recall}, f1-score: {f1}\")"
      ],
      "execution_count": null,
      "outputs": [
        {
          "output_type": "stream",
          "text": [
            "precision: 0.9149616368286445, recall: 0.6414164051994621, f1-score: 0.7856429274576564\n"
          ],
          "name": "stdout"
        }
      ]
    },
    {
      "cell_type": "code",
      "metadata": {
        "colab": {
          "base_uri": "https://localhost:8080/",
          "height": 281
        },
        "id": "MhvogEgbRcpO",
        "outputId": "4889d67d-2680-4e5f-a5bf-d863368bdf3c"
      },
      "source": [
        "coef = pd.Series(gs.best_estimator_[1].support_vectors_[0], index=X.columns)\n",
        "coef.nlargest(4).plot(kind='barh')"
      ],
      "execution_count": null,
      "outputs": [
        {
          "output_type": "execute_result",
          "data": {
            "text/plain": [
              "<matplotlib.axes._subplots.AxesSubplot at 0x7fced6235a50>"
            ]
          },
          "metadata": {
            "tags": []
          },
          "execution_count": 105
        },
        {
          "output_type": "display_data",
          "data": {
            "image/png": "[encoded data removed]",
            "text/plain": [
              "<Figure size 432x288 with 1 Axes>"
            ]
          },
          "metadata": {
            "tags": [],
            "needs_background": "light"
          }
        }
      ]
    },
    {
      "cell_type": "code",
      "metadata": {
        "colab": {
          "base_uri": "https://localhost:8080/",
          "height": 320
        },
        "id": "HNL1xlMzQAoA",
        "outputId": "43033dc9-a6e4-4ebc-bd15-2a8ca75604d6"
      },
      "source": [
        "performance.loc[8] = [\"SVM\", accuracy_interval(f1), mean_squared_error(y_val, y_pred)]\n",
        "performance"
      ],
      "execution_count": null,
      "outputs": [
        {
          "output_type": "execute_result",
          "data": {
            "text/html": [
              "<div>\n",
              "<style scoped>\n",
              "    .dataframe tbody tr th:only-of-type {\n",
              "        vertical-align: middle;\n",
              "    }\n",
              "\n",
              "    .dataframe tbody tr th {\n",
              "        vertical-align: top;\n",
              "    }\n",
              "\n",
              "    .dataframe thead th {\n",
              "        text-align: right;\n",
              "    }\n",
              "</style>\n",
              "<table border=\"1\" class=\"dataframe\">\n",
              "  <thead>\n",
              "    <tr style=\"text-align: right;\">\n",
              "      <th></th>\n",
              "      <th>model</th>\n",
              "      <th>accuracy_interval</th>\n",
              "      <th>mse</th>\n",
              "    </tr>\n",
              "  </thead>\n",
              "  <tbody>\n",
              "    <tr>\n",
              "      <th>0</th>\n",
              "      <td>Perceptron senza standardizzazione</td>\n",
              "      <td>(0.32924187518956094, 0.33972191479763886)</td>\n",
              "      <td>0.498491</td>\n",
              "    </tr>\n",
              "    <tr>\n",
              "      <th>1</th>\n",
              "      <td>Perceptron con standardizzazione</td>\n",
              "      <td>(0.6927998284964185, 0.7029990538920304)</td>\n",
              "      <td>0.301670</td>\n",
              "    </tr>\n",
              "    <tr>\n",
              "      <th>2</th>\n",
              "      <td>Perceptron con Grid Search</td>\n",
              "      <td>(0.32878570795115136, 0.3392621729139192)</td>\n",
              "      <td>0.498491</td>\n",
              "    </tr>\n",
              "    <tr>\n",
              "      <th>3</th>\n",
              "      <td>Perceptron con PolynomialFeatures</td>\n",
              "      <td>(0.7318576307013072, 0.7416398448418068)</td>\n",
              "      <td>0.262492</td>\n",
              "    </tr>\n",
              "    <tr>\n",
              "      <th>4</th>\n",
              "      <td>Logistic Regression senza standardizzazione</td>\n",
              "      <td>(0.4096709240029316, 0.4206161054489851)</td>\n",
              "      <td>0.502697</td>\n",
              "    </tr>\n",
              "    <tr>\n",
              "      <th>5</th>\n",
              "      <td>Logistic Regression con standardizzazione</td>\n",
              "      <td>(0.7722971896562784, 0.7815443007339923)</td>\n",
              "      <td>0.215350</td>\n",
              "    </tr>\n",
              "    <tr>\n",
              "      <th>6</th>\n",
              "      <td>Logistic Regression con Grid Search</td>\n",
              "      <td>(0.7723279160548838, 0.7815745763659852)</td>\n",
              "      <td>0.215318</td>\n",
              "    </tr>\n",
              "    <tr>\n",
              "      <th>7</th>\n",
              "      <td>Logistic Regression con PolynomialFeatures</td>\n",
              "      <td>(0.7619684488474691, 0.7713631199726341)</td>\n",
              "      <td>0.232466</td>\n",
              "    </tr>\n",
              "    <tr>\n",
              "      <th>8</th>\n",
              "      <td>SVM</td>\n",
              "      <td>(0.7810497967389304, 0.7901655899352312)</td>\n",
              "      <td>0.209730</td>\n",
              "    </tr>\n",
              "  </tbody>\n",
              "</table>\n",
              "</div>"
            ],
            "text/plain": [
              "                                         model  ...       mse\n",
              "0           Perceptron senza standardizzazione  ...  0.498491\n",
              "1             Perceptron con standardizzazione  ...  0.301670\n",
              "2                   Perceptron con Grid Search  ...  0.498491\n",
              "3            Perceptron con PolynomialFeatures  ...  0.262492\n",
              "4  Logistic Regression senza standardizzazione  ...  0.502697\n",
              "5    Logistic Regression con standardizzazione  ...  0.215350\n",
              "6          Logistic Regression con Grid Search  ...  0.215318\n",
              "7   Logistic Regression con PolynomialFeatures  ...  0.232466\n",
              "8                                          SVM  ...  0.209730\n",
              "\n",
              "[9 rows x 3 columns]"
            ]
          },
          "metadata": {
            "tags": []
          },
          "execution_count": 106
        }
      ]
    },
    {
      "cell_type": "markdown",
      "metadata": {
        "id": "WJf6QvZTWjyd"
      },
      "source": [
        "### Decision Tree"
      ]
    },
    {
      "cell_type": "code",
      "metadata": {
        "id": "T4OECNuvZTyi",
        "colab": {
          "base_uri": "https://localhost:8080/"
        },
        "outputId": "72711e2a-7c34-4943-ef2f-7cd27e67e616"
      },
      "source": [
        "m_tree = Pipeline([\n",
        "    ('std', StandardScaler()),\n",
        "    ('dc', DecisionTreeClassifier(random_state=42))\n",
        "])\n",
        "\n",
        "num_features = X_train.shape[1]\n",
        "\n",
        "grid = {\n",
        "             'dc__min_samples_split': range(2, 4, 1),\n",
        "             'dc__min_samples_leaf': range(1, 4, 1), \n",
        "             'dc__max_depth': [None] + [i for i in range(2, 7)],\n",
        "             'dc__max_features': range(2, num_features, 1)}\n",
        "\n",
        "skf = StratifiedKFold(3, shuffle=True, random_state=42)\n",
        "m_tree = GridSearchCV(m_tree, grid, cv=skf)\n",
        "\n",
        "m_tree.fit(X_train, y_train)"
      ],
      "execution_count": null,
      "outputs": [
        {
          "output_type": "execute_result",
          "data": {
            "text/plain": [
              "GridSearchCV(cv=StratifiedKFold(n_splits=3, random_state=42, shuffle=True),\n",
              "             error_score=nan,\n",
              "             estimator=Pipeline(memory=None,\n",
              "                                steps=[('std',\n",
              "                                        StandardScaler(copy=True,\n",
              "                                                       with_mean=True,\n",
              "                                                       with_std=True)),\n",
              "                                       ('dc',\n",
              "                                        DecisionTreeClassifier(ccp_alpha=0.0,\n",
              "                                                               class_weight=None,\n",
              "                                                               criterion='gini',\n",
              "                                                               max_depth=None,\n",
              "                                                               max_features=None,\n",
              "                                                               max_leaf_nodes=None,\n",
              "                                                               min_impurity_decrease=0.0,\n",
              "                                                               min...\n",
              "                                                               min_weight_fraction_leaf=0.0,\n",
              "                                                               presort='deprecated',\n",
              "                                                               random_state=42,\n",
              "                                                               splitter='best'))],\n",
              "                                verbose=False),\n",
              "             iid='deprecated', n_jobs=None,\n",
              "             param_grid={'dc__max_depth': [None, 2, 3, 4, 5, 6],\n",
              "                         'dc__max_features': range(2, 11),\n",
              "                         'dc__min_samples_leaf': range(1, 4),\n",
              "                         'dc__min_samples_split': range(2, 4)},\n",
              "             pre_dispatch='2*n_jobs', refit=True, return_train_score=False,\n",
              "             scoring=None, verbose=0)"
            ]
          },
          "metadata": {
            "tags": []
          },
          "execution_count": 107
        }
      ]
    },
    {
      "cell_type": "code",
      "metadata": {
        "id": "L0ktX95AZsdW",
        "colab": {
          "base_uri": "https://localhost:8080/"
        },
        "outputId": "4304c393-5817-4d3e-c293-f5570a6fd88d"
      },
      "source": [
        "print('Accuracy on train {:.2f}%'.format(m_tree.score(X_train, y_train)*100))\n",
        "print('Accuracy on val {:.2f}%'.format(m_tree.score(X_val, y_val)*100))\n",
        "print('Best parameters:', m_tree.best_params_)  \n",
        "print('Best score: {:.4f}%'.format(round(m_tree.best_score_ * 100, 4)))"
      ],
      "execution_count": null,
      "outputs": [
        {
          "output_type": "stream",
          "text": [
            "Accuracy on train 79.34%\n",
            "Accuracy on val 79.34%\n",
            "Best parameters: {'dc__max_depth': 6, 'dc__max_features': 9, 'dc__min_samples_leaf': 3, 'dc__min_samples_split': 2}\n",
            "Best score: 79.2646%\n"
          ],
          "name": "stdout"
        }
      ]
    },
    {
      "cell_type": "code",
      "metadata": {
        "id": "Pnkzdi6LZu7r",
        "colab": {
          "base_uri": "https://localhost:8080/",
          "height": 108
        },
        "outputId": "fa873778-a22a-40d4-ea5a-a216c619875e"
      },
      "source": [
        "y_pred = m_tree.predict(X_val)\n",
        "cm = confusion_matrix(y_val, y_pred)\n",
        "pd.DataFrame(cm, index = m_tree.classes_, columns = m_tree.classes_)"
      ],
      "execution_count": null,
      "outputs": [
        {
          "output_type": "execute_result",
          "data": {
            "text/html": [
              "<div>\n",
              "<style scoped>\n",
              "    .dataframe tbody tr th:only-of-type {\n",
              "        vertical-align: middle;\n",
              "    }\n",
              "\n",
              "    .dataframe tbody tr th {\n",
              "        vertical-align: top;\n",
              "    }\n",
              "\n",
              "    .dataframe thead th {\n",
              "        text-align: right;\n",
              "    }\n",
              "</style>\n",
              "<table border=\"1\" class=\"dataframe\">\n",
              "  <thead>\n",
              "    <tr style=\"text-align: right;\">\n",
              "      <th></th>\n",
              "      <th>0</th>\n",
              "      <th>1</th>\n",
              "    </tr>\n",
              "  </thead>\n",
              "  <tbody>\n",
              "    <tr>\n",
              "      <th>0</th>\n",
              "      <td>10238</td>\n",
              "      <td>5379</td>\n",
              "    </tr>\n",
              "    <tr>\n",
              "      <th>1</th>\n",
              "      <td>1053</td>\n",
              "      <td>14470</td>\n",
              "    </tr>\n",
              "  </tbody>\n",
              "</table>\n",
              "</div>"
            ],
            "text/plain": [
              "       0      1\n",
              "0  10238   5379\n",
              "1   1053  14470"
            ]
          },
          "metadata": {
            "tags": []
          },
          "execution_count": 109
        }
      ]
    },
    {
      "cell_type": "code",
      "metadata": {
        "id": "wDvLcYG8Z0S0",
        "colab": {
          "base_uri": "https://localhost:8080/"
        },
        "outputId": "d68458f9-c922-40c9-bbbb-4006bd0e64c8"
      },
      "source": [
        "precision = precision_score(y_val, y_pred, pos_label=0)\n",
        "recall = recall_score(y_val, y_pred, pos_label=0)\n",
        "f1 = f1_score(y_val, y_pred, average=\"macro\")\n",
        "\n",
        "print(f\"precision: {precision}, recall: {recall}, f1-score: {f1}\")"
      ],
      "execution_count": null,
      "outputs": [
        {
          "output_type": "stream",
          "text": [
            "precision: 0.9067398813214065, recall: 0.6555676506371262, f1-score: 0.7895622698935147\n"
          ],
          "name": "stdout"
        }
      ]
    },
    {
      "cell_type": "code",
      "metadata": {
        "id": "5piIzBGqZ8XU",
        "colab": {
          "base_uri": "https://localhost:8080/",
          "height": 281
        },
        "outputId": "a82daf76-dc71-4b2c-dacc-67dc1e454638"
      },
      "source": [
        "coef = pd.Series(m_tree.best_estimator_[1].feature_importances_, index=X.columns)\n",
        "coef.nlargest(4).plot(kind='barh')"
      ],
      "execution_count": null,
      "outputs": [
        {
          "output_type": "execute_result",
          "data": {
            "text/plain": [
              "<matplotlib.axes._subplots.AxesSubplot at 0x7fced62ef650>"
            ]
          },
          "metadata": {
            "tags": []
          },
          "execution_count": 111
        },
        {
          "output_type": "display_data",
          "data": {
            "image/png": "[encoded data removed]",
            "text/plain": [
              "<Figure size 432x288 with 1 Axes>"
            ]
          },
          "metadata": {
            "tags": [],
            "needs_background": "light"
          }
        }
      ]
    },
    {
      "cell_type": "code",
      "metadata": {
        "id": "bT2KmlzlsBKU",
        "colab": {
          "base_uri": "https://localhost:8080/",
          "height": 653
        },
        "outputId": "3c44de2c-eb4c-46f3-cee9-d73afceed4fb"
      },
      "source": [
        "dot_data = tree.export_graphviz(m_tree.best_estimator_[1], \n",
        "                                out_file=None, \n",
        "                                feature_names=X.columns,  \n",
        "                                filled=True,\n",
        "                                proportion=True,\n",
        "                                max_depth=3)\n",
        "\n",
        "graph = graphviz.Source(dot_data, format=\"png\") \n",
        "graph"
      ],
      "execution_count": null,
      "outputs": [
        {
          "output_type": "execute_result",
          "data": {
            "text/plain": [
              "<graphviz.files.Source at 0x7fceca9af910>"
            ],
            "image/svg+xml": "<?xml version=\"1.0\" encoding=\"UTF-8\" standalone=\"no\"?>\n<!DOCTYPE svg PUBLIC \"-//W3C//DTD SVG 1.1//EN\"\n \"http://www.w3.org/Graphics/SVG/1.1/DTD/svg11.dtd\">\n<!-- Generated by graphviz version 2.40.1 (20161225.0304)\n -->\n<!-- Title: Tree Pages: 1 -->\n<svg width=\"1488pt\" height=\"460pt\"\n viewBox=\"0.00 0.00 1488.00 460.00\" xmlns=\"http://www.w3.org/2000/svg\" xmlns:xlink=\"http://www.w3.org/1999/xlink\">\n<g id=\"graph0\" class=\"graph\" transform=\"scale(1 1) rotate(0) translate(4 456)\">\n<title>Tree</title>\n<polygon fill=\"#ffffff\" stroke=\"transparent\" points=\"-4,4 -4,-456 1484,-456 1484,4 -4,4\"/>\n<!-- 0 -->\n<g id=\"node1\" class=\"node\">\n<title>0</title>\n<polygon fill=\"#feffff\" stroke=\"#000000\" points=\"866.5,-452 690.5,-452 690.5,-384 866.5,-384 866.5,-452\"/>\n<text text-anchor=\"middle\" x=\"778.5\" y=\"-436.8\" font-family=\"Times,serif\" font-size=\"14.00\" fill=\"#000000\">Vehicle_Damage &lt;= &#45;0.459</text>\n<text text-anchor=\"middle\" x=\"778.5\" y=\"-421.8\" font-family=\"Times,serif\" font-size=\"14.00\" fill=\"#000000\">gini = 0.5</text>\n<text text-anchor=\"middle\" x=\"778.5\" y=\"-406.8\" font-family=\"Times,serif\" font-size=\"14.00\" fill=\"#000000\">samples = 100.0%</text>\n<text text-anchor=\"middle\" x=\"778.5\" y=\"-391.8\" font-family=\"Times,serif\" font-size=\"14.00\" fill=\"#000000\">value = [0.499, 0.501]</text>\n</g>\n<!-- 1 -->\n<g id=\"node2\" class=\"node\">\n<title>1</title>\n<polygon fill=\"#e68640\" stroke=\"#000000\" points=\"683.5,-348 497.5,-348 497.5,-280 683.5,-280 683.5,-348\"/>\n<text text-anchor=\"middle\" x=\"590.5\" y=\"-332.8\" font-family=\"Times,serif\" font-size=\"14.00\" fill=\"#000000\">Previously_Insured &lt;= 0.541</text>\n<text text-anchor=\"middle\" x=\"590.5\" y=\"-317.8\" font-family=\"Times,serif\" font-size=\"14.00\" fill=\"#000000\">gini = 0.07</text>\n<text text-anchor=\"middle\" x=\"590.5\" y=\"-302.8\" font-family=\"Times,serif\" font-size=\"14.00\" fill=\"#000000\">samples = 29.1%</text>\n<text text-anchor=\"middle\" x=\"590.5\" y=\"-287.8\" font-family=\"Times,serif\" font-size=\"14.00\" fill=\"#000000\">value = [0.964, 0.036]</text>\n</g>\n<!-- 0&#45;&gt;1 -->\n<g id=\"edge1\" class=\"edge\">\n<title>0&#45;&gt;1</title>\n<path fill=\"none\" stroke=\"#000000\" d=\"M716.9418,-383.9465C699.0883,-374.0701 679.4552,-363.2093 661.0944,-353.0522\"/>\n<polygon fill=\"#000000\" stroke=\"#000000\" points=\"662.6411,-349.908 652.1965,-348.13 659.2527,-356.0333 662.6411,-349.908\"/>\n<text text-anchor=\"middle\" x=\"659.108\" y=\"-368.4556\" font-family=\"Times,serif\" font-size=\"14.00\" fill=\"#000000\">True</text>\n</g>\n<!-- 58 -->\n<g id=\"node17\" class=\"node\">\n<title>58</title>\n<polygon fill=\"#91c9f1\" stroke=\"#000000\" points=\"1071.5,-348 885.5,-348 885.5,-280 1071.5,-280 1071.5,-348\"/>\n<text text-anchor=\"middle\" x=\"978.5\" y=\"-332.8\" font-family=\"Times,serif\" font-size=\"14.00\" fill=\"#000000\">Previously_Insured &lt;= 0.541</text>\n<text text-anchor=\"middle\" x=\"978.5\" y=\"-317.8\" font-family=\"Times,serif\" font-size=\"14.00\" fill=\"#000000\">gini = 0.426</text>\n<text text-anchor=\"middle\" x=\"978.5\" y=\"-302.8\" font-family=\"Times,serif\" font-size=\"14.00\" fill=\"#000000\">samples = 70.9%</text>\n<text text-anchor=\"middle\" x=\"978.5\" y=\"-287.8\" font-family=\"Times,serif\" font-size=\"14.00\" fill=\"#000000\">value = [0.308, 0.692]</text>\n</g>\n<!-- 0&#45;&gt;58 -->\n<g id=\"edge16\" class=\"edge\">\n<title>0&#45;&gt;58</title>\n<path fill=\"none\" stroke=\"#000000\" d=\"M843.9875,-383.9465C863.1532,-373.9803 884.2467,-363.0117 903.9319,-352.7754\"/>\n<polygon fill=\"#000000\" stroke=\"#000000\" points=\"905.608,-355.8488 912.8654,-348.13 902.3785,-349.6383 905.608,-355.8488\"/>\n<text text-anchor=\"middle\" x=\"905.3371\" y=\"-368.2696\" font-family=\"Times,serif\" font-size=\"14.00\" fill=\"#000000\">False</text>\n</g>\n<!-- 2 -->\n<g id=\"node3\" class=\"node\">\n<title>2</title>\n<polygon fill=\"#eda572\" stroke=\"#000000\" points=\"383,-244 236,-244 236,-176 383,-176 383,-244\"/>\n<text text-anchor=\"middle\" x=\"309.5\" y=\"-228.8\" font-family=\"Times,serif\" font-size=\"14.00\" fill=\"#000000\">Age &lt;= 1.378</text>\n<text text-anchor=\"middle\" x=\"309.5\" y=\"-213.8\" font-family=\"Times,serif\" font-size=\"14.00\" fill=\"#000000\">gini = 0.348</text>\n<text text-anchor=\"middle\" x=\"309.5\" y=\"-198.8\" font-family=\"Times,serif\" font-size=\"14.00\" fill=\"#000000\">samples = 4.4%</text>\n<text text-anchor=\"middle\" x=\"309.5\" y=\"-183.8\" font-family=\"Times,serif\" font-size=\"14.00\" fill=\"#000000\">value = [0.775, 0.225]</text>\n</g>\n<!-- 1&#45;&gt;2 -->\n<g id=\"edge2\" class=\"edge\">\n<title>1&#45;&gt;2</title>\n<path fill=\"none\" stroke=\"#000000\" d=\"M498.4901,-279.9465C464.4008,-267.3298 425.9706,-253.1065 392.7094,-240.7963\"/>\n<polygon fill=\"#000000\" stroke=\"#000000\" points=\"393.6129,-237.3988 383.0197,-237.2101 391.1832,-243.9636 393.6129,-237.3988\"/>\n</g>\n<!-- 29 -->\n<g id=\"node10\" class=\"node\">\n<title>29</title>\n<polygon fill=\"#e5813a\" stroke=\"#000000\" points=\"664,-244 517,-244 517,-176 664,-176 664,-244\"/>\n<text text-anchor=\"middle\" x=\"590.5\" y=\"-228.8\" font-family=\"Times,serif\" font-size=\"14.00\" fill=\"#000000\">Age &lt;= &#45;0.579</text>\n<text text-anchor=\"middle\" x=\"590.5\" y=\"-213.8\" font-family=\"Times,serif\" font-size=\"14.00\" fill=\"#000000\">gini = 0.006</text>\n<text text-anchor=\"middle\" x=\"590.5\" y=\"-198.8\" font-family=\"Times,serif\" font-size=\"14.00\" fill=\"#000000\">samples = 24.7%</text>\n<text text-anchor=\"middle\" x=\"590.5\" y=\"-183.8\" font-family=\"Times,serif\" font-size=\"14.00\" fill=\"#000000\">value = [0.997, 0.003]</text>\n</g>\n<!-- 1&#45;&gt;29 -->\n<g id=\"edge9\" class=\"edge\">\n<title>1&#45;&gt;29</title>\n<path fill=\"none\" stroke=\"#000000\" d=\"M590.5,-279.9465C590.5,-271.776 590.5,-262.9318 590.5,-254.3697\"/>\n<polygon fill=\"#000000\" stroke=\"#000000\" points=\"594.0001,-254.13 590.5,-244.13 587.0001,-254.13 594.0001,-254.13\"/>\n</g>\n<!-- 3 -->\n<g id=\"node4\" class=\"node\">\n<title>3</title>\n<polygon fill=\"#eda978\" stroke=\"#000000\" points=\"203,-140 0,-140 0,-72 203,-72 203,-140\"/>\n<text text-anchor=\"middle\" x=\"101.5\" y=\"-124.8\" font-family=\"Times,serif\" font-size=\"14.00\" fill=\"#000000\">Vehicle_Age_&lt; 1 Year &lt;= 0.405</text>\n<text text-anchor=\"middle\" x=\"101.5\" y=\"-109.8\" font-family=\"Times,serif\" font-size=\"14.00\" fill=\"#000000\">gini = 0.365</text>\n<text text-anchor=\"middle\" x=\"101.5\" y=\"-94.8\" font-family=\"Times,serif\" font-size=\"14.00\" fill=\"#000000\">samples = 4.0%</text>\n<text text-anchor=\"middle\" x=\"101.5\" y=\"-79.8\" font-family=\"Times,serif\" font-size=\"14.00\" fill=\"#000000\">value = [0.76, 0.24]</text>\n</g>\n<!-- 2&#45;&gt;3 -->\n<g id=\"edge3\" class=\"edge\">\n<title>2&#45;&gt;3</title>\n<path fill=\"none\" stroke=\"#000000\" d=\"M241.393,-175.9465C221.3709,-165.9354 199.3257,-154.9129 178.7742,-144.6371\"/>\n<polygon fill=\"#000000\" stroke=\"#000000\" points=\"180.2695,-141.4717 169.76,-140.13 177.139,-147.7327 180.2695,-141.4717\"/>\n</g>\n<!-- 18 -->\n<g id=\"node7\" class=\"node\">\n<title>18</title>\n<polygon fill=\"#e78a48\" stroke=\"#000000\" points=\"398,-140 221,-140 221,-72 398,-72 398,-140\"/>\n<text text-anchor=\"middle\" x=\"309.5\" y=\"-124.8\" font-family=\"Times,serif\" font-size=\"14.00\" fill=\"#000000\">Annual_Premium &lt;= 0.361</text>\n<text text-anchor=\"middle\" x=\"309.5\" y=\"-109.8\" font-family=\"Times,serif\" font-size=\"14.00\" fill=\"#000000\">gini = 0.128</text>\n<text text-anchor=\"middle\" x=\"309.5\" y=\"-94.8\" font-family=\"Times,serif\" font-size=\"14.00\" fill=\"#000000\">samples = 0.4%</text>\n<text text-anchor=\"middle\" x=\"309.5\" y=\"-79.8\" font-family=\"Times,serif\" font-size=\"14.00\" fill=\"#000000\">value = [0.931, 0.069]</text>\n</g>\n<!-- 2&#45;&gt;18 -->\n<g id=\"edge6\" class=\"edge\">\n<title>2&#45;&gt;18</title>\n<path fill=\"none\" stroke=\"#000000\" d=\"M309.5,-175.9465C309.5,-167.776 309.5,-158.9318 309.5,-150.3697\"/>\n<polygon fill=\"#000000\" stroke=\"#000000\" points=\"313.0001,-150.13 309.5,-140.13 306.0001,-150.13 313.0001,-150.13\"/>\n</g>\n<!-- 4 -->\n<g id=\"node5\" class=\"node\">\n<title>4</title>\n<polygon fill=\"#c0c0c0\" stroke=\"#000000\" points=\"92.5,-36 38.5,-36 38.5,0 92.5,0 92.5,-36\"/>\n<text text-anchor=\"middle\" x=\"65.5\" y=\"-14.3\" font-family=\"Times,serif\" font-size=\"14.00\" fill=\"#000000\">(...)</text>\n</g>\n<!-- 3&#45;&gt;4 -->\n<g id=\"edge4\" class=\"edge\">\n<title>3&#45;&gt;4</title>\n<path fill=\"none\" stroke=\"#000000\" d=\"M87.5815,-71.9769C83.9977,-63.2167 80.1862,-53.8995 76.7564,-45.5157\"/>\n<polygon fill=\"#000000\" stroke=\"#000000\" points=\"79.968,-44.1222 72.9422,-36.192 73.4891,-46.7727 79.968,-44.1222\"/>\n</g>\n<!-- 11 -->\n<g id=\"node6\" class=\"node\">\n<title>11</title>\n<polygon fill=\"#c0c0c0\" stroke=\"#000000\" points=\"164.5,-36 110.5,-36 110.5,0 164.5,0 164.5,-36\"/>\n<text text-anchor=\"middle\" x=\"137.5\" y=\"-14.3\" font-family=\"Times,serif\" font-size=\"14.00\" fill=\"#000000\">(...)</text>\n</g>\n<!-- 3&#45;&gt;11 -->\n<g id=\"edge5\" class=\"edge\">\n<title>3&#45;&gt;11</title>\n<path fill=\"none\" stroke=\"#000000\" d=\"M115.4185,-71.9769C119.0023,-63.2167 122.8138,-53.8995 126.2436,-45.5157\"/>\n<polygon fill=\"#000000\" stroke=\"#000000\" points=\"129.5109,-46.7727 130.0578,-36.192 123.032,-44.1222 129.5109,-46.7727\"/>\n</g>\n<!-- 19 -->\n<g id=\"node8\" class=\"node\">\n<title>19</title>\n<polygon fill=\"#c0c0c0\" stroke=\"#000000\" points=\"308.5,-36 254.5,-36 254.5,0 308.5,0 308.5,-36\"/>\n<text text-anchor=\"middle\" x=\"281.5\" y=\"-14.3\" font-family=\"Times,serif\" font-size=\"14.00\" fill=\"#000000\">(...)</text>\n</g>\n<!-- 18&#45;&gt;19 -->\n<g id=\"edge7\" class=\"edge\">\n<title>18&#45;&gt;19</title>\n<path fill=\"none\" stroke=\"#000000\" d=\"M298.6745,-71.9769C295.9174,-63.3119 292.987,-54.102 290.3421,-45.7894\"/>\n<polygon fill=\"#000000\" stroke=\"#000000\" points=\"293.6557,-44.66 287.2883,-36.192 286.9852,-46.7825 293.6557,-44.66\"/>\n</g>\n<!-- 26 -->\n<g id=\"node9\" class=\"node\">\n<title>26</title>\n<polygon fill=\"#c0c0c0\" stroke=\"#000000\" points=\"380.5,-36 326.5,-36 326.5,0 380.5,0 380.5,-36\"/>\n<text text-anchor=\"middle\" x=\"353.5\" y=\"-14.3\" font-family=\"Times,serif\" font-size=\"14.00\" fill=\"#000000\">(...)</text>\n</g>\n<!-- 18&#45;&gt;26 -->\n<g id=\"edge8\" class=\"edge\">\n<title>18&#45;&gt;26</title>\n<path fill=\"none\" stroke=\"#000000\" d=\"M326.5115,-71.9769C330.9393,-63.1215 335.6516,-53.6969 339.8787,-45.2427\"/>\n<polygon fill=\"#000000\" stroke=\"#000000\" points=\"343.0623,-46.7015 344.404,-36.192 336.8013,-43.571 343.0623,-46.7015\"/>\n</g>\n<!-- 30 -->\n<g id=\"node11\" class=\"node\">\n<title>30</title>\n<polygon fill=\"#e58139\" stroke=\"#000000\" points=\"593,-140 416,-140 416,-72 593,-72 593,-140\"/>\n<text text-anchor=\"middle\" x=\"504.5\" y=\"-124.8\" font-family=\"Times,serif\" font-size=\"14.00\" fill=\"#000000\">Annual_Premium &lt;= 0.027</text>\n<text text-anchor=\"middle\" x=\"504.5\" y=\"-109.8\" font-family=\"Times,serif\" font-size=\"14.00\" fill=\"#000000\">gini = 0.003</text>\n<text text-anchor=\"middle\" x=\"504.5\" y=\"-94.8\" font-family=\"Times,serif\" font-size=\"14.00\" fill=\"#000000\">samples = 16.0%</text>\n<text text-anchor=\"middle\" x=\"504.5\" y=\"-79.8\" font-family=\"Times,serif\" font-size=\"14.00\" fill=\"#000000\">value = [0.999, 0.001]</text>\n</g>\n<!-- 29&#45;&gt;30 -->\n<g id=\"edge10\" class=\"edge\">\n<title>29&#45;&gt;30</title>\n<path fill=\"none\" stroke=\"#000000\" d=\"M562.3404,-175.9465C554.9158,-166.968 546.8185,-157.1758 539.0972,-147.8385\"/>\n<polygon fill=\"#000000\" stroke=\"#000000\" points=\"541.7928,-145.606 532.7229,-140.13 536.3983,-150.0669 541.7928,-145.606\"/>\n</g>\n<!-- 43 -->\n<g id=\"node14\" class=\"node\">\n<title>43</title>\n<polygon fill=\"#e5823a\" stroke=\"#000000\" points=\"758,-140 611,-140 611,-72 758,-72 758,-140\"/>\n<text text-anchor=\"middle\" x=\"684.5\" y=\"-124.8\" font-family=\"Times,serif\" font-size=\"14.00\" fill=\"#000000\">Age &lt;= &#45;0.16</text>\n<text text-anchor=\"middle\" x=\"684.5\" y=\"-109.8\" font-family=\"Times,serif\" font-size=\"14.00\" fill=\"#000000\">gini = 0.011</text>\n<text text-anchor=\"middle\" x=\"684.5\" y=\"-94.8\" font-family=\"Times,serif\" font-size=\"14.00\" fill=\"#000000\">samples = 8.8%</text>\n<text text-anchor=\"middle\" x=\"684.5\" y=\"-79.8\" font-family=\"Times,serif\" font-size=\"14.00\" fill=\"#000000\">value = [0.995, 0.005]</text>\n</g>\n<!-- 29&#45;&gt;43 -->\n<g id=\"edge13\" class=\"edge\">\n<title>29&#45;&gt;43</title>\n<path fill=\"none\" stroke=\"#000000\" d=\"M621.2791,-175.9465C629.4755,-166.8782 638.422,-156.9799 646.9375,-147.5585\"/>\n<polygon fill=\"#000000\" stroke=\"#000000\" points=\"649.5429,-149.8957 653.6517,-140.13 644.3497,-145.2019 649.5429,-149.8957\"/>\n</g>\n<!-- 31 -->\n<g id=\"node12\" class=\"node\">\n<title>31</title>\n<polygon fill=\"#c0c0c0\" stroke=\"#000000\" points=\"477.5,-36 423.5,-36 423.5,0 477.5,0 477.5,-36\"/>\n<text text-anchor=\"middle\" x=\"450.5\" y=\"-14.3\" font-family=\"Times,serif\" font-size=\"14.00\" fill=\"#000000\">(...)</text>\n</g>\n<!-- 30&#45;&gt;31 -->\n<g id=\"edge11\" class=\"edge\">\n<title>30&#45;&gt;31</title>\n<path fill=\"none\" stroke=\"#000000\" d=\"M483.6222,-71.9769C478.1297,-63.0262 472.2805,-53.4941 467.0499,-44.9703\"/>\n<polygon fill=\"#000000\" stroke=\"#000000\" points=\"469.8766,-42.8846 461.6632,-36.192 463.9103,-46.5458 469.8766,-42.8846\"/>\n</g>\n<!-- 36 -->\n<g id=\"node13\" class=\"node\">\n<title>36</title>\n<polygon fill=\"#c0c0c0\" stroke=\"#000000\" points=\"549.5,-36 495.5,-36 495.5,0 549.5,0 549.5,-36\"/>\n<text text-anchor=\"middle\" x=\"522.5\" y=\"-14.3\" font-family=\"Times,serif\" font-size=\"14.00\" fill=\"#000000\">(...)</text>\n</g>\n<!-- 30&#45;&gt;36 -->\n<g id=\"edge12\" class=\"edge\">\n<title>30&#45;&gt;36</title>\n<path fill=\"none\" stroke=\"#000000\" d=\"M511.4593,-71.9769C513.2122,-63.4071 515.0741,-54.3043 516.7597,-46.0638\"/>\n<polygon fill=\"#000000\" stroke=\"#000000\" points=\"520.2039,-46.6905 518.7789,-36.192 513.3459,-45.2877 520.2039,-46.6905\"/>\n</g>\n<!-- 44 -->\n<g id=\"node15\" class=\"node\">\n<title>44</title>\n<polygon fill=\"#c0c0c0\" stroke=\"#000000\" points=\"665.5,-36 611.5,-36 611.5,0 665.5,0 665.5,-36\"/>\n<text text-anchor=\"middle\" x=\"638.5\" y=\"-14.3\" font-family=\"Times,serif\" font-size=\"14.00\" fill=\"#000000\">(...)</text>\n</g>\n<!-- 43&#45;&gt;44 -->\n<g id=\"edge14\" class=\"edge\">\n<title>43&#45;&gt;44</title>\n<path fill=\"none\" stroke=\"#000000\" d=\"M666.7152,-71.9769C662.0862,-63.1215 657.1597,-53.6969 652.7405,-45.2427\"/>\n<polygon fill=\"#000000\" stroke=\"#000000\" points=\"655.7438,-43.4328 648.0094,-36.192 649.5402,-46.6756 655.7438,-43.4328\"/>\n</g>\n<!-- 51 -->\n<g id=\"node16\" class=\"node\">\n<title>51</title>\n<polygon fill=\"#c0c0c0\" stroke=\"#000000\" points=\"737.5,-36 683.5,-36 683.5,0 737.5,0 737.5,-36\"/>\n<text text-anchor=\"middle\" x=\"710.5\" y=\"-14.3\" font-family=\"Times,serif\" font-size=\"14.00\" fill=\"#000000\">(...)</text>\n</g>\n<!-- 43&#45;&gt;51 -->\n<g id=\"edge15\" class=\"edge\">\n<title>43&#45;&gt;51</title>\n<path fill=\"none\" stroke=\"#000000\" d=\"M694.5523,-71.9769C697.1124,-63.3119 699.8335,-54.102 702.2895,-45.7894\"/>\n<polygon fill=\"#000000\" stroke=\"#000000\" points=\"705.6481,-46.7739 705.1251,-36.192 698.935,-44.7904 705.6481,-46.7739\"/>\n</g>\n<!-- 59 -->\n<g id=\"node18\" class=\"node\">\n<title>59</title>\n<polygon fill=\"#8cc6f0\" stroke=\"#000000\" points=\"1052,-244 905,-244 905,-176 1052,-176 1052,-244\"/>\n<text text-anchor=\"middle\" x=\"978.5\" y=\"-228.8\" font-family=\"Times,serif\" font-size=\"14.00\" fill=\"#000000\">Age &lt;= &#45;0.998</text>\n<text text-anchor=\"middle\" x=\"978.5\" y=\"-213.8\" font-family=\"Times,serif\" font-size=\"14.00\" fill=\"#000000\">gini = 0.416</text>\n<text text-anchor=\"middle\" x=\"978.5\" y=\"-198.8\" font-family=\"Times,serif\" font-size=\"14.00\" fill=\"#000000\">samples = 69.4%</text>\n<text text-anchor=\"middle\" x=\"978.5\" y=\"-183.8\" font-family=\"Times,serif\" font-size=\"14.00\" fill=\"#000000\">value = [0.295, 0.705]</text>\n</g>\n<!-- 58&#45;&gt;59 -->\n<g id=\"edge17\" class=\"edge\">\n<title>58&#45;&gt;59</title>\n<path fill=\"none\" stroke=\"#000000\" d=\"M978.5,-279.9465C978.5,-271.776 978.5,-262.9318 978.5,-254.3697\"/>\n<polygon fill=\"#000000\" stroke=\"#000000\" points=\"982.0001,-254.13 978.5,-244.13 975.0001,-254.13 982.0001,-254.13\"/>\n</g>\n<!-- 90 -->\n<g id=\"node25\" class=\"node\">\n<title>90</title>\n<polygon fill=\"#e68844\" stroke=\"#000000\" points=\"1315,-244 1168,-244 1168,-176 1315,-176 1315,-244\"/>\n<text text-anchor=\"middle\" x=\"1241.5\" y=\"-228.8\" font-family=\"Times,serif\" font-size=\"14.00\" fill=\"#000000\">Vintage &lt;= &#45;1.58</text>\n<text text-anchor=\"middle\" x=\"1241.5\" y=\"-213.8\" font-family=\"Times,serif\" font-size=\"14.00\" fill=\"#000000\">gini = 0.099</text>\n<text text-anchor=\"middle\" x=\"1241.5\" y=\"-198.8\" font-family=\"Times,serif\" font-size=\"14.00\" fill=\"#000000\">samples = 1.5%</text>\n<text text-anchor=\"middle\" x=\"1241.5\" y=\"-183.8\" font-family=\"Times,serif\" font-size=\"14.00\" fill=\"#000000\">value = [0.948, 0.052]</text>\n</g>\n<!-- 58&#45;&gt;90 -->\n<g id=\"edge24\" class=\"edge\">\n<title>58&#45;&gt;90</title>\n<path fill=\"none\" stroke=\"#000000\" d=\"M1064.616,-279.9465C1094.7609,-268.0261 1128.5324,-254.6716 1158.4239,-242.8514\"/>\n<polygon fill=\"#000000\" stroke=\"#000000\" points=\"1159.9708,-246.0035 1167.9831,-239.0713 1157.3966,-239.4939 1159.9708,-246.0035\"/>\n</g>\n<!-- 60 -->\n<g id=\"node19\" class=\"node\">\n<title>60</title>\n<polygon fill=\"#fef9f5\" stroke=\"#000000\" points=\"984.5,-140 776.5,-140 776.5,-72 984.5,-72 984.5,-140\"/>\n<text text-anchor=\"middle\" x=\"880.5\" y=\"-124.8\" font-family=\"Times,serif\" font-size=\"14.00\" fill=\"#000000\">Vehicle_Age_1&#45;2 Year &lt;= &#45;0.246</text>\n<text text-anchor=\"middle\" x=\"880.5\" y=\"-109.8\" font-family=\"Times,serif\" font-size=\"14.00\" fill=\"#000000\">gini = 0.5</text>\n<text text-anchor=\"middle\" x=\"880.5\" y=\"-94.8\" font-family=\"Times,serif\" font-size=\"14.00\" fill=\"#000000\">samples = 9.2%</text>\n<text text-anchor=\"middle\" x=\"880.5\" y=\"-79.8\" font-family=\"Times,serif\" font-size=\"14.00\" fill=\"#000000\">value = [0.513, 0.487]</text>\n</g>\n<!-- 59&#45;&gt;60 -->\n<g id=\"edge18\" class=\"edge\">\n<title>59&#45;&gt;60</title>\n<path fill=\"none\" stroke=\"#000000\" d=\"M946.4111,-175.9465C937.866,-166.8782 928.5387,-156.9799 919.6609,-147.5585\"/>\n<polygon fill=\"#000000\" stroke=\"#000000\" points=\"922.0663,-145.0076 912.661,-140.13 916.9717,-149.8082 922.0663,-145.0076\"/>\n</g>\n<!-- 75 -->\n<g id=\"node22\" class=\"node\">\n<title>75</title>\n<polygon fill=\"#7fc0ee\" stroke=\"#000000\" points=\"1150,-140 1003,-140 1003,-72 1150,-72 1150,-140\"/>\n<text text-anchor=\"middle\" x=\"1076.5\" y=\"-124.8\" font-family=\"Times,serif\" font-size=\"14.00\" fill=\"#000000\">Age &lt;= 1.308</text>\n<text text-anchor=\"middle\" x=\"1076.5\" y=\"-109.8\" font-family=\"Times,serif\" font-size=\"14.00\" fill=\"#000000\">gini = 0.386</text>\n<text text-anchor=\"middle\" x=\"1076.5\" y=\"-94.8\" font-family=\"Times,serif\" font-size=\"14.00\" fill=\"#000000\">samples = 60.2%</text>\n<text text-anchor=\"middle\" x=\"1076.5\" y=\"-79.8\" font-family=\"Times,serif\" font-size=\"14.00\" fill=\"#000000\">value = [0.261, 0.739]</text>\n</g>\n<!-- 59&#45;&gt;75 -->\n<g id=\"edge21\" class=\"edge\">\n<title>59&#45;&gt;75</title>\n<path fill=\"none\" stroke=\"#000000\" d=\"M1010.5889,-175.9465C1019.134,-166.8782 1028.4613,-156.9799 1037.3391,-147.5585\"/>\n<polygon fill=\"#000000\" stroke=\"#000000\" points=\"1040.0283,-149.8082 1044.339,-140.13 1034.9337,-145.0076 1040.0283,-149.8082\"/>\n</g>\n<!-- 61 -->\n<g id=\"node20\" class=\"node\">\n<title>61</title>\n<polygon fill=\"#c0c0c0\" stroke=\"#000000\" points=\"861.5,-36 807.5,-36 807.5,0 861.5,0 861.5,-36\"/>\n<text text-anchor=\"middle\" x=\"834.5\" y=\"-14.3\" font-family=\"Times,serif\" font-size=\"14.00\" fill=\"#000000\">(...)</text>\n</g>\n<!-- 60&#45;&gt;61 -->\n<g id=\"edge19\" class=\"edge\">\n<title>60&#45;&gt;61</title>\n<path fill=\"none\" stroke=\"#000000\" d=\"M862.7152,-71.9769C858.0862,-63.1215 853.1597,-53.6969 848.7405,-45.2427\"/>\n<polygon fill=\"#000000\" stroke=\"#000000\" points=\"851.7438,-43.4328 844.0094,-36.192 845.5402,-46.6756 851.7438,-43.4328\"/>\n</g>\n<!-- 68 -->\n<g id=\"node21\" class=\"node\">\n<title>68</title>\n<polygon fill=\"#c0c0c0\" stroke=\"#000000\" points=\"933.5,-36 879.5,-36 879.5,0 933.5,0 933.5,-36\"/>\n<text text-anchor=\"middle\" x=\"906.5\" y=\"-14.3\" font-family=\"Times,serif\" font-size=\"14.00\" fill=\"#000000\">(...)</text>\n</g>\n<!-- 60&#45;&gt;68 -->\n<g id=\"edge20\" class=\"edge\">\n<title>60&#45;&gt;68</title>\n<path fill=\"none\" stroke=\"#000000\" d=\"M890.5523,-71.9769C893.1124,-63.3119 895.8335,-54.102 898.2895,-45.7894\"/>\n<polygon fill=\"#000000\" stroke=\"#000000\" points=\"901.6481,-46.7739 901.1251,-36.192 894.935,-44.7904 901.6481,-46.7739\"/>\n</g>\n<!-- 76 -->\n<g id=\"node23\" class=\"node\">\n<title>76</title>\n<polygon fill=\"#c0c0c0\" stroke=\"#000000\" points=\"1041.5,-36 987.5,-36 987.5,0 1041.5,0 1041.5,-36\"/>\n<text text-anchor=\"middle\" x=\"1014.5\" y=\"-14.3\" font-family=\"Times,serif\" font-size=\"14.00\" fill=\"#000000\">(...)</text>\n</g>\n<!-- 75&#45;&gt;76 -->\n<g id=\"edge22\" class=\"edge\">\n<title>75&#45;&gt;76</title>\n<path fill=\"none\" stroke=\"#000000\" d=\"M1052.5292,-71.9769C1046.0889,-62.8358 1039.2213,-53.0883 1033.1194,-44.4276\"/>\n<polygon fill=\"#000000\" stroke=\"#000000\" points=\"1035.9378,-42.3509 1027.3171,-36.192 1030.2154,-46.3826 1035.9378,-42.3509\"/>\n</g>\n<!-- 83 -->\n<g id=\"node24\" class=\"node\">\n<title>83</title>\n<polygon fill=\"#c0c0c0\" stroke=\"#000000\" points=\"1113.5,-36 1059.5,-36 1059.5,0 1113.5,0 1113.5,-36\"/>\n<text text-anchor=\"middle\" x=\"1086.5\" y=\"-14.3\" font-family=\"Times,serif\" font-size=\"14.00\" fill=\"#000000\">(...)</text>\n</g>\n<!-- 75&#45;&gt;83 -->\n<g id=\"edge23\" class=\"edge\">\n<title>75&#45;&gt;83</title>\n<path fill=\"none\" stroke=\"#000000\" d=\"M1080.3663,-71.9769C1081.3293,-63.5023 1082.3515,-54.5065 1083.2797,-46.3388\"/>\n<polygon fill=\"#000000\" stroke=\"#000000\" points=\"1086.7812,-46.5232 1084.4327,-36.192 1079.8259,-45.7328 1086.7812,-46.5232\"/>\n</g>\n<!-- 91 -->\n<g id=\"node26\" class=\"node\">\n<title>91</title>\n<polygon fill=\"#ea995f\" stroke=\"#000000\" points=\"1315,-140 1168,-140 1168,-72 1315,-72 1315,-140\"/>\n<text text-anchor=\"middle\" x=\"1241.5\" y=\"-124.8\" font-family=\"Times,serif\" font-size=\"14.00\" fill=\"#000000\">Vintage &lt;= &#45;1.64</text>\n<text text-anchor=\"middle\" x=\"1241.5\" y=\"-109.8\" font-family=\"Times,serif\" font-size=\"14.00\" fill=\"#000000\">gini = 0.272</text>\n<text text-anchor=\"middle\" x=\"1241.5\" y=\"-94.8\" font-family=\"Times,serif\" font-size=\"14.00\" fill=\"#000000\">samples = 0.1%</text>\n<text text-anchor=\"middle\" x=\"1241.5\" y=\"-79.8\" font-family=\"Times,serif\" font-size=\"14.00\" fill=\"#000000\">value = [0.838, 0.162]</text>\n</g>\n<!-- 90&#45;&gt;91 -->\n<g id=\"edge25\" class=\"edge\">\n<title>90&#45;&gt;91</title>\n<path fill=\"none\" stroke=\"#000000\" d=\"M1241.5,-175.9465C1241.5,-167.776 1241.5,-158.9318 1241.5,-150.3697\"/>\n<polygon fill=\"#000000\" stroke=\"#000000\" points=\"1245.0001,-150.13 1241.5,-140.13 1238.0001,-150.13 1245.0001,-150.13\"/>\n</g>\n<!-- 100 -->\n<g id=\"node29\" class=\"node\">\n<title>100</title>\n<polygon fill=\"#e68743\" stroke=\"#000000\" points=\"1480,-140 1333,-140 1333,-72 1480,-72 1480,-140\"/>\n<text text-anchor=\"middle\" x=\"1406.5\" y=\"-124.8\" font-family=\"Times,serif\" font-size=\"14.00\" fill=\"#000000\">Age &lt;= 1.238</text>\n<text text-anchor=\"middle\" x=\"1406.5\" y=\"-109.8\" font-family=\"Times,serif\" font-size=\"14.00\" fill=\"#000000\">gini = 0.091</text>\n<text text-anchor=\"middle\" x=\"1406.5\" y=\"-94.8\" font-family=\"Times,serif\" font-size=\"14.00\" fill=\"#000000\">samples = 1.4%</text>\n<text text-anchor=\"middle\" x=\"1406.5\" y=\"-79.8\" font-family=\"Times,serif\" font-size=\"14.00\" fill=\"#000000\">value = [0.952, 0.048]</text>\n</g>\n<!-- 90&#45;&gt;100 -->\n<g id=\"edge28\" class=\"edge\">\n<title>90&#45;&gt;100</title>\n<path fill=\"none\" stroke=\"#000000\" d=\"M1295.5272,-175.9465C1310.9115,-166.2497 1327.8016,-155.6039 1343.6621,-145.6069\"/>\n<polygon fill=\"#000000\" stroke=\"#000000\" points=\"1345.758,-148.4232 1352.3514,-140.13 1342.0254,-142.5013 1345.758,-148.4232\"/>\n</g>\n<!-- 92 -->\n<g id=\"node27\" class=\"node\">\n<title>92</title>\n<polygon fill=\"#c0c0c0\" stroke=\"#000000\" points=\"1224.5,-36 1170.5,-36 1170.5,0 1224.5,0 1224.5,-36\"/>\n<text text-anchor=\"middle\" x=\"1197.5\" y=\"-14.3\" font-family=\"Times,serif\" font-size=\"14.00\" fill=\"#000000\">(...)</text>\n</g>\n<!-- 91&#45;&gt;92 -->\n<g id=\"edge26\" class=\"edge\">\n<title>91&#45;&gt;92</title>\n<path fill=\"none\" stroke=\"#000000\" d=\"M1224.4885,-71.9769C1220.0607,-63.1215 1215.3484,-53.6969 1211.1213,-45.2427\"/>\n<polygon fill=\"#000000\" stroke=\"#000000\" points=\"1214.1987,-43.571 1206.596,-36.192 1207.9377,-46.7015 1214.1987,-43.571\"/>\n</g>\n<!-- 95 -->\n<g id=\"node28\" class=\"node\">\n<title>95</title>\n<polygon fill=\"#c0c0c0\" stroke=\"#000000\" points=\"1296.5,-36 1242.5,-36 1242.5,0 1296.5,0 1296.5,-36\"/>\n<text text-anchor=\"middle\" x=\"1269.5\" y=\"-14.3\" font-family=\"Times,serif\" font-size=\"14.00\" fill=\"#000000\">(...)</text>\n</g>\n<!-- 91&#45;&gt;95 -->\n<g id=\"edge27\" class=\"edge\">\n<title>91&#45;&gt;95</title>\n<path fill=\"none\" stroke=\"#000000\" d=\"M1252.3255,-71.9769C1255.0826,-63.3119 1258.013,-54.102 1260.6579,-45.7894\"/>\n<polygon fill=\"#000000\" stroke=\"#000000\" points=\"1264.0148,-46.7825 1263.7117,-36.192 1257.3443,-44.66 1264.0148,-46.7825\"/>\n</g>\n<!-- 101 -->\n<g id=\"node30\" class=\"node\">\n<title>101</title>\n<polygon fill=\"#c0c0c0\" stroke=\"#000000\" points=\"1397.5,-36 1343.5,-36 1343.5,0 1397.5,0 1397.5,-36\"/>\n<text text-anchor=\"middle\" x=\"1370.5\" y=\"-14.3\" font-family=\"Times,serif\" font-size=\"14.00\" fill=\"#000000\">(...)</text>\n</g>\n<!-- 100&#45;&gt;101 -->\n<g id=\"edge29\" class=\"edge\">\n<title>100&#45;&gt;101</title>\n<path fill=\"none\" stroke=\"#000000\" d=\"M1392.5815,-71.9769C1388.9977,-63.2167 1385.1862,-53.8995 1381.7564,-45.5157\"/>\n<polygon fill=\"#000000\" stroke=\"#000000\" points=\"1384.968,-44.1222 1377.9422,-36.192 1378.4891,-46.7727 1384.968,-44.1222\"/>\n</g>\n<!-- 108 -->\n<g id=\"node31\" class=\"node\">\n<title>108</title>\n<polygon fill=\"#c0c0c0\" stroke=\"#000000\" points=\"1469.5,-36 1415.5,-36 1415.5,0 1469.5,0 1469.5,-36\"/>\n<text text-anchor=\"middle\" x=\"1442.5\" y=\"-14.3\" font-family=\"Times,serif\" font-size=\"14.00\" fill=\"#000000\">(...)</text>\n</g>\n<!-- 100&#45;&gt;108 -->\n<g id=\"edge30\" class=\"edge\">\n<title>100&#45;&gt;108</title>\n<path fill=\"none\" stroke=\"#000000\" d=\"M1420.4185,-71.9769C1424.0023,-63.2167 1427.8138,-53.8995 1431.2436,-45.5157\"/>\n<polygon fill=\"#000000\" stroke=\"#000000\" points=\"1434.5109,-46.7727 1435.0578,-36.192 1428.032,-44.1222 1434.5109,-46.7727\"/>\n</g>\n</g>\n</svg>\n"
          },
          "metadata": {
            "tags": []
          },
          "execution_count": 112
        }
      ]
    },
    {
      "cell_type": "code",
      "metadata": {
        "colab": {
          "base_uri": "https://localhost:8080/"
        },
        "id": "3k5Q6WLBV2Jo",
        "outputId": "5f5ef6f7-8f6e-4dc9-e501-1f88d03de88a"
      },
      "source": [
        "m_tree.best_estimator_[1].get_n_leaves()"
      ],
      "execution_count": null,
      "outputs": [
        {
          "output_type": "execute_result",
          "data": {
            "text/plain": [
              "57"
            ]
          },
          "metadata": {
            "tags": []
          },
          "execution_count": 113
        }
      ]
    },
    {
      "cell_type": "code",
      "metadata": {
        "colab": {
          "base_uri": "https://localhost:8080/"
        },
        "id": "SGGcL0OGV74r",
        "outputId": "fb7c2236-aa79-40dd-8648-ab38773a65ff"
      },
      "source": [
        "m_tree.best_estimator_[1].get_depth()"
      ],
      "execution_count": null,
      "outputs": [
        {
          "output_type": "execute_result",
          "data": {
            "text/plain": [
              "6"
            ]
          },
          "metadata": {
            "tags": []
          },
          "execution_count": 114
        }
      ]
    },
    {
      "cell_type": "code",
      "metadata": {
        "id": "cF4aMqvmZ2e7",
        "colab": {
          "base_uri": "https://localhost:8080/",
          "height": 351
        },
        "outputId": "85b40735-e932-4f07-9edd-9c41a7b4ccca"
      },
      "source": [
        "performance.loc[9] = [\"Decision Tree\", accuracy_interval(f1), mean_squared_error(y_val, y_pred)]\n",
        "performance"
      ],
      "execution_count": null,
      "outputs": [
        {
          "output_type": "execute_result",
          "data": {
            "text/html": [
              "<div>\n",
              "<style scoped>\n",
              "    .dataframe tbody tr th:only-of-type {\n",
              "        vertical-align: middle;\n",
              "    }\n",
              "\n",
              "    .dataframe tbody tr th {\n",
              "        vertical-align: top;\n",
              "    }\n",
              "\n",
              "    .dataframe thead th {\n",
              "        text-align: right;\n",
              "    }\n",
              "</style>\n",
              "<table border=\"1\" class=\"dataframe\">\n",
              "  <thead>\n",
              "    <tr style=\"text-align: right;\">\n",
              "      <th></th>\n",
              "      <th>model</th>\n",
              "      <th>accuracy_interval</th>\n",
              "      <th>mse</th>\n",
              "    </tr>\n",
              "  </thead>\n",
              "  <tbody>\n",
              "    <tr>\n",
              "      <th>0</th>\n",
              "      <td>Perceptron senza standardizzazione</td>\n",
              "      <td>(0.32924187518956094, 0.33972191479763886)</td>\n",
              "      <td>0.498491</td>\n",
              "    </tr>\n",
              "    <tr>\n",
              "      <th>1</th>\n",
              "      <td>Perceptron con standardizzazione</td>\n",
              "      <td>(0.6927998284964185, 0.7029990538920304)</td>\n",
              "      <td>0.301670</td>\n",
              "    </tr>\n",
              "    <tr>\n",
              "      <th>2</th>\n",
              "      <td>Perceptron con Grid Search</td>\n",
              "      <td>(0.32878570795115136, 0.3392621729139192)</td>\n",
              "      <td>0.498491</td>\n",
              "    </tr>\n",
              "    <tr>\n",
              "      <th>3</th>\n",
              "      <td>Perceptron con PolynomialFeatures</td>\n",
              "      <td>(0.7318576307013072, 0.7416398448418068)</td>\n",
              "      <td>0.262492</td>\n",
              "    </tr>\n",
              "    <tr>\n",
              "      <th>4</th>\n",
              "      <td>Logistic Regression senza standardizzazione</td>\n",
              "      <td>(0.4096709240029316, 0.4206161054489851)</td>\n",
              "      <td>0.502697</td>\n",
              "    </tr>\n",
              "    <tr>\n",
              "      <th>5</th>\n",
              "      <td>Logistic Regression con standardizzazione</td>\n",
              "      <td>(0.7722971896562784, 0.7815443007339923)</td>\n",
              "      <td>0.215350</td>\n",
              "    </tr>\n",
              "    <tr>\n",
              "      <th>6</th>\n",
              "      <td>Logistic Regression con Grid Search</td>\n",
              "      <td>(0.7723279160548838, 0.7815745763659852)</td>\n",
              "      <td>0.215318</td>\n",
              "    </tr>\n",
              "    <tr>\n",
              "      <th>7</th>\n",
              "      <td>Logistic Regression con PolynomialFeatures</td>\n",
              "      <td>(0.7619684488474691, 0.7713631199726341)</td>\n",
              "      <td>0.232466</td>\n",
              "    </tr>\n",
              "    <tr>\n",
              "      <th>8</th>\n",
              "      <td>SVM</td>\n",
              "      <td>(0.7810497967389304, 0.7901655899352312)</td>\n",
              "      <td>0.209730</td>\n",
              "    </tr>\n",
              "    <tr>\n",
              "      <th>9</th>\n",
              "      <td>Decision Tree</td>\n",
              "      <td>(0.784999260446297, 0.7940538441960057)</td>\n",
              "      <td>0.206551</td>\n",
              "    </tr>\n",
              "  </tbody>\n",
              "</table>\n",
              "</div>"
            ],
            "text/plain": [
              "                                         model  ...       mse\n",
              "0           Perceptron senza standardizzazione  ...  0.498491\n",
              "1             Perceptron con standardizzazione  ...  0.301670\n",
              "2                   Perceptron con Grid Search  ...  0.498491\n",
              "3            Perceptron con PolynomialFeatures  ...  0.262492\n",
              "4  Logistic Regression senza standardizzazione  ...  0.502697\n",
              "5    Logistic Regression con standardizzazione  ...  0.215350\n",
              "6          Logistic Regression con Grid Search  ...  0.215318\n",
              "7   Logistic Regression con PolynomialFeatures  ...  0.232466\n",
              "8                                          SVM  ...  0.209730\n",
              "9                                Decision Tree  ...  0.206551\n",
              "\n",
              "[10 rows x 3 columns]"
            ]
          },
          "metadata": {
            "tags": []
          },
          "execution_count": 115
        }
      ]
    },
    {
      "cell_type": "markdown",
      "metadata": {
        "id": "zT2VvvlNpUqu"
      },
      "source": [
        "### XGBoost"
      ]
    },
    {
      "cell_type": "code",
      "metadata": {
        "id": "GKJmrP5WpUqv",
        "colab": {
          "base_uri": "https://localhost:8080/"
        },
        "outputId": "ba0dd859-5b38-4c1a-c31c-2581318b4231"
      },
      "source": [
        "xgb = Pipeline([\n",
        "    ('std', StandardScaler()),\n",
        "    ('xgb', XGBClassifier(nthread=8, objective='binary:logistic'))\n",
        "])\n",
        "\n",
        "grid = {\n",
        "    'xgb__eta': [0.002, 0.1, 0.5],\n",
        "    'xgb__max_depth': [6],\n",
        "    'xgb__n_estimators': [150, 300],\n",
        "    'xgb__alpha': [0.0001, 0.001]\n",
        "}\n",
        "\n",
        "skf = StratifiedKFold(3, shuffle=True, random_state=42)\n",
        "xgb = GridSearchCV(xgb, grid, cv=skf)\n",
        "\n",
        "xgb.fit(X_train, y_train)"
      ],
      "execution_count": null,
      "outputs": [
        {
          "output_type": "execute_result",
          "data": {
            "text/plain": [
              "GridSearchCV(cv=StratifiedKFold(n_splits=3, random_state=42, shuffle=True),\n",
              "             error_score=nan,\n",
              "             estimator=Pipeline(memory=None,\n",
              "                                steps=[('std',\n",
              "                                        StandardScaler(copy=True,\n",
              "                                                       with_mean=True,\n",
              "                                                       with_std=True)),\n",
              "                                       ('xgb',\n",
              "                                        XGBClassifier(base_score=0.5,\n",
              "                                                      booster='gbtree',\n",
              "                                                      colsample_bylevel=1,\n",
              "                                                      colsample_bynode=1,\n",
              "                                                      colsample_bytree=1,\n",
              "                                                      gamma=0,\n",
              "                                                      learning_rate=0.1,\n",
              "                                                      max_delta_step=0,\n",
              "                                                      max_de...\n",
              "                                                      random_state=0,\n",
              "                                                      reg_alpha=0, reg_lambda=1,\n",
              "                                                      scale_pos_weight=1,\n",
              "                                                      seed=None, silent=None,\n",
              "                                                      subsample=1,\n",
              "                                                      verbosity=1))],\n",
              "                                verbose=False),\n",
              "             iid='deprecated', n_jobs=None,\n",
              "             param_grid={'xgb__alpha': [0.0001, 0.001],\n",
              "                         'xgb__eta': [0.002, 0.1, 0.5], 'xgb__max_depth': [6],\n",
              "                         'xgb__n_estimators': [150, 300]},\n",
              "             pre_dispatch='2*n_jobs', refit=True, return_train_score=False,\n",
              "             scoring=None, verbose=0)"
            ]
          },
          "metadata": {
            "tags": []
          },
          "execution_count": 116
        }
      ]
    },
    {
      "cell_type": "code",
      "metadata": {
        "id": "pgY0Z3eOpUqw",
        "colab": {
          "base_uri": "https://localhost:8080/"
        },
        "outputId": "181b1eb3-2329-49ff-fe21-64257ae72749"
      },
      "source": [
        "print('Accuracy on train {:.2f}%'.format(xgb.score(X_train, y_train)*100))\n",
        "print('Accuracy on val {:.2f}%'.format(xgb.score(X_val, y_val)*100))\n",
        "print('Best parameters:', xgb.best_params_)  \n",
        "print('Best score: {:.4f}%'.format(round(xgb.best_score_ * 100, 4)))"
      ],
      "execution_count": null,
      "outputs": [
        {
          "output_type": "stream",
          "text": [
            "Accuracy on train 80.31%\n",
            "Accuracy on val 79.31%\n",
            "Best parameters: {'xgb__alpha': 0.0001, 'xgb__eta': 0.002, 'xgb__max_depth': 6, 'xgb__n_estimators': 150}\n",
            "Best score: 79.1458%\n"
          ],
          "name": "stdout"
        }
      ]
    },
    {
      "cell_type": "code",
      "metadata": {
        "id": "G72l9OYPpUqw",
        "colab": {
          "base_uri": "https://localhost:8080/",
          "height": 108
        },
        "outputId": "06406c5c-6ff3-4ac2-a507-131a335f2a7f"
      },
      "source": [
        "y_pred = xgb.predict(X_val)\n",
        "cm = confusion_matrix(y_val, y_pred)\n",
        "pd.DataFrame(cm, index = xgb.classes_, columns = xgb.classes_)"
      ],
      "execution_count": null,
      "outputs": [
        {
          "output_type": "execute_result",
          "data": {
            "text/html": [
              "<div>\n",
              "<style scoped>\n",
              "    .dataframe tbody tr th:only-of-type {\n",
              "        vertical-align: middle;\n",
              "    }\n",
              "\n",
              "    .dataframe tbody tr th {\n",
              "        vertical-align: top;\n",
              "    }\n",
              "\n",
              "    .dataframe thead th {\n",
              "        text-align: right;\n",
              "    }\n",
              "</style>\n",
              "<table border=\"1\" class=\"dataframe\">\n",
              "  <thead>\n",
              "    <tr style=\"text-align: right;\">\n",
              "      <th></th>\n",
              "      <th>0</th>\n",
              "      <th>1</th>\n",
              "    </tr>\n",
              "  </thead>\n",
              "  <tbody>\n",
              "    <tr>\n",
              "      <th>0</th>\n",
              "      <td>10346</td>\n",
              "      <td>5271</td>\n",
              "    </tr>\n",
              "    <tr>\n",
              "      <th>1</th>\n",
              "      <td>1173</td>\n",
              "      <td>14350</td>\n",
              "    </tr>\n",
              "  </tbody>\n",
              "</table>\n",
              "</div>"
            ],
            "text/plain": [
              "       0      1\n",
              "0  10346   5271\n",
              "1   1173  14350"
            ]
          },
          "metadata": {
            "tags": []
          },
          "execution_count": 118
        }
      ]
    },
    {
      "cell_type": "code",
      "metadata": {
        "id": "E4KaUvCQpUqx",
        "colab": {
          "base_uri": "https://localhost:8080/"
        },
        "outputId": "698ee67b-557d-4175-e8b1-e8fc3236e47f"
      },
      "source": [
        "precision = precision_score(y_val, y_pred, pos_label=0)\n",
        "recall = recall_score(y_val, y_pred, pos_label=0)\n",
        "f1 = f1_score(y_val, y_pred, average=\"macro\")\n",
        "\n",
        "print(f\"precision: {precision}, recall: {recall}, f1-score: {f1}\")"
      ],
      "execution_count": null,
      "outputs": [
        {
          "output_type": "stream",
          "text": [
            "precision: 0.8981682437711607, recall: 0.6624831913939937, f1-score: 0.7895847951984074\n"
          ],
          "name": "stdout"
        }
      ]
    },
    {
      "cell_type": "code",
      "metadata": {
        "id": "LyDD_yo1pUqy",
        "colab": {
          "base_uri": "https://localhost:8080/",
          "height": 281
        },
        "outputId": "d7bd72b7-e550-4aae-b626-552a7d61d8ef"
      },
      "source": [
        "coef = pd.Series(xgb.best_estimator_[1].feature_importances_, index=X.columns)\n",
        "coef.nlargest(4).plot(kind='barh')"
      ],
      "execution_count": null,
      "outputs": [
        {
          "output_type": "execute_result",
          "data": {
            "text/plain": [
              "<matplotlib.axes._subplots.AxesSubplot at 0x7fced566fa50>"
            ]
          },
          "metadata": {
            "tags": []
          },
          "execution_count": 120
        },
        {
          "output_type": "display_data",
          "data": {
            "image/png": "[encoded data removed]",
            "text/plain": [
              "<Figure size 432x288 with 1 Axes>"
            ]
          },
          "metadata": {
            "tags": [],
            "needs_background": "light"
          }
        }
      ]
    },
    {
      "cell_type": "code",
      "metadata": {
        "id": "SI6eOSCNpUqx",
        "colab": {
          "base_uri": "https://localhost:8080/",
          "height": 381
        },
        "outputId": "6be1257d-05b7-42a9-e31e-a98065133a67"
      },
      "source": [
        "performance.loc[10] = [\"XGBoost\", accuracy_interval(f1), mean_squared_error(y_val, y_pred)]\n",
        "performance"
      ],
      "execution_count": null,
      "outputs": [
        {
          "output_type": "execute_result",
          "data": {
            "text/html": [
              "<div>\n",
              "<style scoped>\n",
              "    .dataframe tbody tr th:only-of-type {\n",
              "        vertical-align: middle;\n",
              "    }\n",
              "\n",
              "    .dataframe tbody tr th {\n",
              "        vertical-align: top;\n",
              "    }\n",
              "\n",
              "    .dataframe thead th {\n",
              "        text-align: right;\n",
              "    }\n",
              "</style>\n",
              "<table border=\"1\" class=\"dataframe\">\n",
              "  <thead>\n",
              "    <tr style=\"text-align: right;\">\n",
              "      <th></th>\n",
              "      <th>model</th>\n",
              "      <th>accuracy_interval</th>\n",
              "      <th>mse</th>\n",
              "    </tr>\n",
              "  </thead>\n",
              "  <tbody>\n",
              "    <tr>\n",
              "      <th>0</th>\n",
              "      <td>Perceptron senza standardizzazione</td>\n",
              "      <td>(0.32924187518956094, 0.33972191479763886)</td>\n",
              "      <td>0.498491</td>\n",
              "    </tr>\n",
              "    <tr>\n",
              "      <th>1</th>\n",
              "      <td>Perceptron con standardizzazione</td>\n",
              "      <td>(0.6927998284964185, 0.7029990538920304)</td>\n",
              "      <td>0.301670</td>\n",
              "    </tr>\n",
              "    <tr>\n",
              "      <th>2</th>\n",
              "      <td>Perceptron con Grid Search</td>\n",
              "      <td>(0.32878570795115136, 0.3392621729139192)</td>\n",
              "      <td>0.498491</td>\n",
              "    </tr>\n",
              "    <tr>\n",
              "      <th>3</th>\n",
              "      <td>Perceptron con PolynomialFeatures</td>\n",
              "      <td>(0.7318576307013072, 0.7416398448418068)</td>\n",
              "      <td>0.262492</td>\n",
              "    </tr>\n",
              "    <tr>\n",
              "      <th>4</th>\n",
              "      <td>Logistic Regression senza standardizzazione</td>\n",
              "      <td>(0.4096709240029316, 0.4206161054489851)</td>\n",
              "      <td>0.502697</td>\n",
              "    </tr>\n",
              "    <tr>\n",
              "      <th>5</th>\n",
              "      <td>Logistic Regression con standardizzazione</td>\n",
              "      <td>(0.7722971896562784, 0.7815443007339923)</td>\n",
              "      <td>0.215350</td>\n",
              "    </tr>\n",
              "    <tr>\n",
              "      <th>6</th>\n",
              "      <td>Logistic Regression con Grid Search</td>\n",
              "      <td>(0.7723279160548838, 0.7815745763659852)</td>\n",
              "      <td>0.215318</td>\n",
              "    </tr>\n",
              "    <tr>\n",
              "      <th>7</th>\n",
              "      <td>Logistic Regression con PolynomialFeatures</td>\n",
              "      <td>(0.7619684488474691, 0.7713631199726341)</td>\n",
              "      <td>0.232466</td>\n",
              "    </tr>\n",
              "    <tr>\n",
              "      <th>8</th>\n",
              "      <td>SVM</td>\n",
              "      <td>(0.7810497967389304, 0.7901655899352312)</td>\n",
              "      <td>0.209730</td>\n",
              "    </tr>\n",
              "    <tr>\n",
              "      <th>9</th>\n",
              "      <td>Decision Tree</td>\n",
              "      <td>(0.784999260446297, 0.7940538441960057)</td>\n",
              "      <td>0.206551</td>\n",
              "    </tr>\n",
              "    <tr>\n",
              "      <th>10</th>\n",
              "      <td>XGBoost</td>\n",
              "      <td>(0.7850219606720868, 0.794076189022998)</td>\n",
              "      <td>0.206936</td>\n",
              "    </tr>\n",
              "  </tbody>\n",
              "</table>\n",
              "</div>"
            ],
            "text/plain": [
              "                                          model  ...       mse\n",
              "0            Perceptron senza standardizzazione  ...  0.498491\n",
              "1              Perceptron con standardizzazione  ...  0.301670\n",
              "2                    Perceptron con Grid Search  ...  0.498491\n",
              "3             Perceptron con PolynomialFeatures  ...  0.262492\n",
              "4   Logistic Regression senza standardizzazione  ...  0.502697\n",
              "5     Logistic Regression con standardizzazione  ...  0.215350\n",
              "6           Logistic Regression con Grid Search  ...  0.215318\n",
              "7    Logistic Regression con PolynomialFeatures  ...  0.232466\n",
              "8                                           SVM  ...  0.209730\n",
              "9                                 Decision Tree  ...  0.206551\n",
              "10                                      XGBoost  ...  0.206936\n",
              "\n",
              "[11 rows x 3 columns]"
            ]
          },
          "metadata": {
            "tags": []
          },
          "execution_count": 121
        }
      ]
    },
    {
      "cell_type": "markdown",
      "metadata": {
        "id": "Jt1k_gKSqfiq"
      },
      "source": [
        "### Modello casuale"
      ]
    },
    {
      "cell_type": "code",
      "metadata": {
        "id": "quHLKMTMqGBx",
        "colab": {
          "base_uri": "https://localhost:8080/"
        },
        "outputId": "70d7035a-62c3-47e5-83fc-67a5da05bb5d"
      },
      "source": [
        "random = DummyClassifier(strategy=\"uniform\", random_state=42)\n",
        "random.fit(X_train, y_train)"
      ],
      "execution_count": null,
      "outputs": [
        {
          "output_type": "execute_result",
          "data": {
            "text/plain": [
              "DummyClassifier(constant=None, random_state=42, strategy='uniform')"
            ]
          },
          "metadata": {
            "tags": []
          },
          "execution_count": 122
        }
      ]
    },
    {
      "cell_type": "code",
      "metadata": {
        "id": "vq3_H70sqQyR",
        "colab": {
          "base_uri": "https://localhost:8080/"
        },
        "outputId": "a6d994b4-d1e4-400c-e529-0db5919a791f"
      },
      "source": [
        "print('Accuracy on train {:.2f}%'.format(random.score(X_train, y_train)*100))\n",
        "print('Accuracy on val {:.2f}%'.format(random.score(X_val, y_val)*100))"
      ],
      "execution_count": null,
      "outputs": [
        {
          "output_type": "stream",
          "text": [
            "Accuracy on train 49.96%\n",
            "Accuracy on val 50.64%\n"
          ],
          "name": "stdout"
        }
      ]
    },
    {
      "cell_type": "code",
      "metadata": {
        "colab": {
          "base_uri": "https://localhost:8080/",
          "height": 108
        },
        "id": "R2ouYUlTqyzR",
        "outputId": "e58557f1-e183-4b6b-fed7-2755a959c721"
      },
      "source": [
        "y_pred = random.predict(X_val)\n",
        "cm = confusion_matrix(y_val, y_pred)\n",
        "pd.DataFrame(cm, index = random.classes_, columns = random.classes_)"
      ],
      "execution_count": null,
      "outputs": [
        {
          "output_type": "execute_result",
          "data": {
            "text/html": [
              "<div>\n",
              "<style scoped>\n",
              "    .dataframe tbody tr th:only-of-type {\n",
              "        vertical-align: middle;\n",
              "    }\n",
              "\n",
              "    .dataframe tbody tr th {\n",
              "        vertical-align: top;\n",
              "    }\n",
              "\n",
              "    .dataframe thead th {\n",
              "        text-align: right;\n",
              "    }\n",
              "</style>\n",
              "<table border=\"1\" class=\"dataframe\">\n",
              "  <thead>\n",
              "    <tr style=\"text-align: right;\">\n",
              "      <th></th>\n",
              "      <th>0</th>\n",
              "      <th>1</th>\n",
              "    </tr>\n",
              "  </thead>\n",
              "  <tbody>\n",
              "    <tr>\n",
              "      <th>0</th>\n",
              "      <td>7907</td>\n",
              "      <td>7710</td>\n",
              "    </tr>\n",
              "    <tr>\n",
              "      <th>1</th>\n",
              "      <td>7661</td>\n",
              "      <td>7862</td>\n",
              "    </tr>\n",
              "  </tbody>\n",
              "</table>\n",
              "</div>"
            ],
            "text/plain": [
              "      0     1\n",
              "0  7907  7710\n",
              "1  7661  7862"
            ]
          },
          "metadata": {
            "tags": []
          },
          "execution_count": 124
        }
      ]
    },
    {
      "cell_type": "code",
      "metadata": {
        "colab": {
          "base_uri": "https://localhost:8080/"
        },
        "id": "fi4wNZIQq8cZ",
        "outputId": "7d95d4b4-2fbc-4855-9ea3-0bd1473d789a"
      },
      "source": [
        "precision = precision_score(y_val, y_pred, pos_label=0)\n",
        "recall = recall_score(y_val, y_pred, pos_label=0)\n",
        "f1 = f1_score(y_val, y_pred, average=\"macro\")\n",
        "\n",
        "print(f\"precision: {precision}, recall: {recall}, f1-score: {f1}\")"
      ],
      "execution_count": null,
      "outputs": [
        {
          "output_type": "stream",
          "text": [
            "precision: 0.5079008221993834, recall: 0.5063072293014024, f1-score: 0.5063894637459521\n"
          ],
          "name": "stdout"
        }
      ]
    },
    {
      "cell_type": "code",
      "metadata": {
        "colab": {
          "base_uri": "https://localhost:8080/",
          "height": 411
        },
        "id": "0mtl4LprrFmR",
        "outputId": "9260ca1e-bd21-4a0b-a4fb-e892e7d7f163"
      },
      "source": [
        "performance.loc[11] = [\"Modello casuale\", accuracy_interval(f1), mean_squared_error(y_val, y_pred)]\n",
        "performance"
      ],
      "execution_count": null,
      "outputs": [
        {
          "output_type": "execute_result",
          "data": {
            "text/html": [
              "<div>\n",
              "<style scoped>\n",
              "    .dataframe tbody tr th:only-of-type {\n",
              "        vertical-align: middle;\n",
              "    }\n",
              "\n",
              "    .dataframe tbody tr th {\n",
              "        vertical-align: top;\n",
              "    }\n",
              "\n",
              "    .dataframe thead th {\n",
              "        text-align: right;\n",
              "    }\n",
              "</style>\n",
              "<table border=\"1\" class=\"dataframe\">\n",
              "  <thead>\n",
              "    <tr style=\"text-align: right;\">\n",
              "      <th></th>\n",
              "      <th>model</th>\n",
              "      <th>accuracy_interval</th>\n",
              "      <th>mse</th>\n",
              "    </tr>\n",
              "  </thead>\n",
              "  <tbody>\n",
              "    <tr>\n",
              "      <th>0</th>\n",
              "      <td>Perceptron senza standardizzazione</td>\n",
              "      <td>(0.32924187518956094, 0.33972191479763886)</td>\n",
              "      <td>0.498491</td>\n",
              "    </tr>\n",
              "    <tr>\n",
              "      <th>1</th>\n",
              "      <td>Perceptron con standardizzazione</td>\n",
              "      <td>(0.6927998284964185, 0.7029990538920304)</td>\n",
              "      <td>0.301670</td>\n",
              "    </tr>\n",
              "    <tr>\n",
              "      <th>2</th>\n",
              "      <td>Perceptron con Grid Search</td>\n",
              "      <td>(0.32878570795115136, 0.3392621729139192)</td>\n",
              "      <td>0.498491</td>\n",
              "    </tr>\n",
              "    <tr>\n",
              "      <th>3</th>\n",
              "      <td>Perceptron con PolynomialFeatures</td>\n",
              "      <td>(0.7318576307013072, 0.7416398448418068)</td>\n",
              "      <td>0.262492</td>\n",
              "    </tr>\n",
              "    <tr>\n",
              "      <th>4</th>\n",
              "      <td>Logistic Regression senza standardizzazione</td>\n",
              "      <td>(0.4096709240029316, 0.4206161054489851)</td>\n",
              "      <td>0.502697</td>\n",
              "    </tr>\n",
              "    <tr>\n",
              "      <th>5</th>\n",
              "      <td>Logistic Regression con standardizzazione</td>\n",
              "      <td>(0.7722971896562784, 0.7815443007339923)</td>\n",
              "      <td>0.215350</td>\n",
              "    </tr>\n",
              "    <tr>\n",
              "      <th>6</th>\n",
              "      <td>Logistic Regression con Grid Search</td>\n",
              "      <td>(0.7723279160548838, 0.7815745763659852)</td>\n",
              "      <td>0.215318</td>\n",
              "    </tr>\n",
              "    <tr>\n",
              "      <th>7</th>\n",
              "      <td>Logistic Regression con PolynomialFeatures</td>\n",
              "      <td>(0.7619684488474691, 0.7713631199726341)</td>\n",
              "      <td>0.232466</td>\n",
              "    </tr>\n",
              "    <tr>\n",
              "      <th>8</th>\n",
              "      <td>SVM</td>\n",
              "      <td>(0.7810497967389304, 0.7901655899352312)</td>\n",
              "      <td>0.209730</td>\n",
              "    </tr>\n",
              "    <tr>\n",
              "      <th>9</th>\n",
              "      <td>Decision Tree</td>\n",
              "      <td>(0.784999260446297, 0.7940538441960057)</td>\n",
              "      <td>0.206551</td>\n",
              "    </tr>\n",
              "    <tr>\n",
              "      <th>10</th>\n",
              "      <td>XGBoost</td>\n",
              "      <td>(0.7850219606720868, 0.794076189022998)</td>\n",
              "      <td>0.206936</td>\n",
              "    </tr>\n",
              "    <tr>\n",
              "      <th>11</th>\n",
              "      <td>Modello casuale</td>\n",
              "      <td>(0.5008359715672366, 0.5119413796410323)</td>\n",
              "      <td>0.493610</td>\n",
              "    </tr>\n",
              "  </tbody>\n",
              "</table>\n",
              "</div>"
            ],
            "text/plain": [
              "                                          model  ...       mse\n",
              "0            Perceptron senza standardizzazione  ...  0.498491\n",
              "1              Perceptron con standardizzazione  ...  0.301670\n",
              "2                    Perceptron con Grid Search  ...  0.498491\n",
              "3             Perceptron con PolynomialFeatures  ...  0.262492\n",
              "4   Logistic Regression senza standardizzazione  ...  0.502697\n",
              "5     Logistic Regression con standardizzazione  ...  0.215350\n",
              "6           Logistic Regression con Grid Search  ...  0.215318\n",
              "7    Logistic Regression con PolynomialFeatures  ...  0.232466\n",
              "8                                           SVM  ...  0.209730\n",
              "9                                 Decision Tree  ...  0.206551\n",
              "10                                      XGBoost  ...  0.206936\n",
              "11                              Modello casuale  ...  0.493610\n",
              "\n",
              "[12 rows x 3 columns]"
            ]
          },
          "metadata": {
            "tags": []
          },
          "execution_count": 140
        }
      ]
    },
    {
      "cell_type": "markdown",
      "metadata": {
        "id": "9zhiLCe_UvyA"
      },
      "source": [
        "## Confronto fra modelli"
      ]
    },
    {
      "cell_type": "code",
      "metadata": {
        "id": "LHqCt1MbITaM"
      },
      "source": [
        "# salvo i valori delle performance in un file csv\n",
        "performance.to_csv(\"/content/performance.csv\")"
      ],
      "execution_count": null,
      "outputs": []
    },
    {
      "cell_type": "markdown",
      "metadata": {
        "id": "vJjllzP4VlxR"
      },
      "source": [
        "Visualizziamo le accuratezze e i valori MSE di tutti i modelli testati:"
      ]
    },
    {
      "cell_type": "code",
      "metadata": {
        "colab": {
          "base_uri": "https://localhost:8080/",
          "height": 411
        },
        "id": "PLyNQmhsI3DT",
        "outputId": "cfe9fec9-c181-4da3-a4e7-d50d67911e76"
      },
      "source": [
        "performance = pd.read_csv(\"/content/performance.csv\", usecols=[\"model\", \"accuracy_interval\", \"mse\"])\n",
        "performance"
      ],
      "execution_count": null,
      "outputs": [
        {
          "output_type": "execute_result",
          "data": {
            "text/html": [
              "<div>\n",
              "<style scoped>\n",
              "    .dataframe tbody tr th:only-of-type {\n",
              "        vertical-align: middle;\n",
              "    }\n",
              "\n",
              "    .dataframe tbody tr th {\n",
              "        vertical-align: top;\n",
              "    }\n",
              "\n",
              "    .dataframe thead th {\n",
              "        text-align: right;\n",
              "    }\n",
              "</style>\n",
              "<table border=\"1\" class=\"dataframe\">\n",
              "  <thead>\n",
              "    <tr style=\"text-align: right;\">\n",
              "      <th></th>\n",
              "      <th>model</th>\n",
              "      <th>accuracy_interval</th>\n",
              "      <th>mse</th>\n",
              "    </tr>\n",
              "  </thead>\n",
              "  <tbody>\n",
              "    <tr>\n",
              "      <th>0</th>\n",
              "      <td>Perceptron senza standardizzazione</td>\n",
              "      <td>(0.32924187518956094, 0.33972191479763886)</td>\n",
              "      <td>0.498491</td>\n",
              "    </tr>\n",
              "    <tr>\n",
              "      <th>1</th>\n",
              "      <td>Perceptron con standardizzazione</td>\n",
              "      <td>(0.6927998284964185, 0.7029990538920304)</td>\n",
              "      <td>0.301670</td>\n",
              "    </tr>\n",
              "    <tr>\n",
              "      <th>2</th>\n",
              "      <td>Perceptron con Grid Search</td>\n",
              "      <td>(0.32878570795115136, 0.3392621729139192)</td>\n",
              "      <td>0.498491</td>\n",
              "    </tr>\n",
              "    <tr>\n",
              "      <th>3</th>\n",
              "      <td>Perceptron con PolynomialFeatures</td>\n",
              "      <td>(0.7318576307013072, 0.7416398448418068)</td>\n",
              "      <td>0.262492</td>\n",
              "    </tr>\n",
              "    <tr>\n",
              "      <th>4</th>\n",
              "      <td>Logistic Regression senza standardizzazione</td>\n",
              "      <td>(0.4096709240029316, 0.4206161054489851)</td>\n",
              "      <td>0.502697</td>\n",
              "    </tr>\n",
              "    <tr>\n",
              "      <th>5</th>\n",
              "      <td>Logistic Regression con standardizzazione</td>\n",
              "      <td>(0.7722971896562784, 0.7815443007339923)</td>\n",
              "      <td>0.215350</td>\n",
              "    </tr>\n",
              "    <tr>\n",
              "      <th>6</th>\n",
              "      <td>Logistic Regression con Grid Search</td>\n",
              "      <td>(0.7723279160548838, 0.7815745763659852)</td>\n",
              "      <td>0.215318</td>\n",
              "    </tr>\n",
              "    <tr>\n",
              "      <th>7</th>\n",
              "      <td>Logistic Regression con PolynomialFeatures</td>\n",
              "      <td>(0.7619684488474691, 0.7713631199726341)</td>\n",
              "      <td>0.232466</td>\n",
              "    </tr>\n",
              "    <tr>\n",
              "      <th>8</th>\n",
              "      <td>SVM</td>\n",
              "      <td>(0.7810497967389304, 0.7901655899352312)</td>\n",
              "      <td>0.209730</td>\n",
              "    </tr>\n",
              "    <tr>\n",
              "      <th>9</th>\n",
              "      <td>Decision Tree</td>\n",
              "      <td>(0.784999260446297, 0.7940538441960057)</td>\n",
              "      <td>0.206551</td>\n",
              "    </tr>\n",
              "    <tr>\n",
              "      <th>10</th>\n",
              "      <td>XGBoost</td>\n",
              "      <td>(0.7850219606720868, 0.794076189022998)</td>\n",
              "      <td>0.206936</td>\n",
              "    </tr>\n",
              "    <tr>\n",
              "      <th>11</th>\n",
              "      <td>Modello casuale</td>\n",
              "      <td>(0.5008359715672366, 0.5119413796410323)</td>\n",
              "      <td>0.493610</td>\n",
              "    </tr>\n",
              "  </tbody>\n",
              "</table>\n",
              "</div>"
            ],
            "text/plain": [
              "                                          model  ...       mse\n",
              "0            Perceptron senza standardizzazione  ...  0.498491\n",
              "1              Perceptron con standardizzazione  ...  0.301670\n",
              "2                    Perceptron con Grid Search  ...  0.498491\n",
              "3             Perceptron con PolynomialFeatures  ...  0.262492\n",
              "4   Logistic Regression senza standardizzazione  ...  0.502697\n",
              "5     Logistic Regression con standardizzazione  ...  0.215350\n",
              "6           Logistic Regression con Grid Search  ...  0.215318\n",
              "7    Logistic Regression con PolynomialFeatures  ...  0.232466\n",
              "8                                           SVM  ...  0.209730\n",
              "9                                 Decision Tree  ...  0.206551\n",
              "10                                      XGBoost  ...  0.206936\n",
              "11                              Modello casuale  ...  0.493610\n",
              "\n",
              "[12 rows x 3 columns]"
            ]
          },
          "metadata": {
            "tags": []
          },
          "execution_count": 69
        }
      ]
    },
    {
      "cell_type": "markdown",
      "metadata": {
        "id": "ZPX5Y325VpNF"
      },
      "source": [
        "Di seguito effettuiamo un confronto fra i modelli che hanno ottenuto performance migliori, impostando un confidenza del 95%.\n",
        "\n",
        "Tra questi troviamo:\n",
        "- Perceptron con PolynomialFeatures\n",
        "- Logistic Regression con Grid Search \n",
        "  - si potrebbe prendere in considerazione anche il modello non lineare che è quasi equivalente.\n",
        "- SVM con kernel RBF\n",
        "- Decision Tree\n",
        "- XGBoost"
      ]
    },
    {
      "cell_type": "code",
      "metadata": {
        "id": "E9INVxblN_rv"
      },
      "source": [
        "def model_comparison(mse_1, mse_2):\n",
        "    d = np.abs(mse_1 - mse_2)\n",
        "    variance = (mse_1 * (1 - mse_1)) / len(X_val) + (mse_2 * (1 - mse_2)) / len(X_val)\n",
        "    d_min = d - 1.96 * np.sqrt(variance)\n",
        "    d_max = d + 1.96 * np.sqrt(variance)\n",
        "    return (d_min, d_max)"
      ],
      "execution_count": null,
      "outputs": []
    },
    {
      "cell_type": "code",
      "metadata": {
        "id": "CtF72v6Yi1Te"
      },
      "source": [
        "best_models = [\n",
        "  ('Perceptron', performance.iloc[3][\"mse\"]),\n",
        "  ('Logistic Regression', performance.iloc[6][\"mse\"]),\n",
        "  ('SVM', performance.iloc[8][\"mse\"]),\n",
        "  ('Decision Tree', performance.iloc[9][\"mse\"]),\n",
        "  ('XGBoost', performance.iloc[10][\"mse\"])\n",
        "]"
      ],
      "execution_count": null,
      "outputs": []
    },
    {
      "cell_type": "code",
      "metadata": {
        "colab": {
          "base_uri": "https://localhost:8080/"
        },
        "id": "0-ft7lFShufr",
        "outputId": "9bca2666-45e2-408a-9766-66209e3a7afb"
      },
      "source": [
        "from itertools import combinations\n",
        "\n",
        "for model1, model2 in list(combinations(best_models, 2)):\n",
        "  interval = model_comparison(model1[1], model2[1])\n",
        "  models = model1[0] + \" vs \" + model2[0]\n",
        "  print(f\"{models:<40}  {np.round(interval, 4)}\")"
      ],
      "execution_count": null,
      "outputs": [
        {
          "output_type": "stream",
          "text": [
            "Perceptron vs Logistic Regression         [0.0405 0.0539]\n",
            "Perceptron vs SVM                         [0.0461 0.0594]\n",
            "Perceptron vs Decision Tree               [0.0493 0.0626]\n",
            "Perceptron vs XGBoost                     [0.0489 0.0622]\n",
            "Logistic Regression vs SVM                [-0.0008  0.012 ]\n",
            "Logistic Regression vs Decision Tree      [0.0024 0.0152]\n",
            "Logistic Regression vs XGBoost            [0.002  0.0148]\n",
            "SVM vs Decision Tree                      [-0.0032  0.0096]\n",
            "SVM vs XGBoost                            [-0.0036  0.0092]\n",
            "Decision Tree vs XGBoost                  [-0.006   0.0067]\n"
          ],
          "name": "stdout"
        }
      ]
    },
    {
      "cell_type": "markdown",
      "metadata": {
        "id": "ixwNVggZlyz-"
      },
      "source": [
        "Notiamo che tra i modelli non lineari la differenza non è statisticamente significativa, quindi sono equiparabili.\n",
        "\n",
        "Sarebbe interessante testare queste differenze addestrando i modelli sul dataset bilanciato con un'operazione di oversampling: ciò richiederebbe numerose ore di addestramento e importanti risorse hardware visto il grande numero di record presenti nel dataset originale (380k). "
      ]
    },
    {
      "cell_type": "markdown",
      "metadata": {
        "id": "LF3jWSLSpOlK"
      },
      "source": [
        "Adesso effettuiamo il confronto di tutti i modelli testati con un **modello casuale**:"
      ]
    },
    {
      "cell_type": "code",
      "metadata": {
        "id": "fgaQOywtpqXm"
      },
      "source": [
        "def random_comparision(mse1, mse2):\n",
        "  d = np.abs(mse1 - mse2)\n",
        "  variance = (mse1 * (1 - mse1)) / len(X_val) + (mse2 * (1 - mse2)) / len(X_val)\n",
        "  d_min = d - 2.58 * np.sqrt(variance)\n",
        "  d_max = d + 2.58 * np.sqrt(variance)\n",
        "  return (d_min, d_max)"
      ],
      "execution_count": null,
      "outputs": []
    },
    {
      "cell_type": "code",
      "metadata": {
        "id": "opotX6vEog4M"
      },
      "source": [
        "mse_random = performance.iloc[11][\"mse\"]"
      ],
      "execution_count": null,
      "outputs": []
    },
    {
      "cell_type": "code",
      "metadata": {
        "colab": {
          "base_uri": "https://localhost:8080/"
        },
        "id": "5QNYD2FYoIgl",
        "outputId": "63df08d5-2179-499c-c94b-b8a17dd689be"
      },
      "source": [
        "for model, _ , mse in performance.values:\n",
        "  if model != \"Modello casuale\":\n",
        "    interval = random_comparision(mse, mse_random)\n",
        "    print(f\"Modello casuale vs {model:<50}  {np.round(interval, 4)}\")"
      ],
      "execution_count": null,
      "outputs": [
        {
          "output_type": "stream",
          "text": [
            "Modello casuale vs Perceptron senza standardizzazione                  [-0.0055  0.0152]\n",
            "Modello casuale vs Perceptron con standardizzazione                    [0.182  0.2019]\n",
            "Modello casuale vs Perceptron con Grid Search                          [-0.0055  0.0152]\n",
            "Modello casuale vs Perceptron con PolynomialFeatures                   [0.2214 0.2409]\n",
            "Modello casuale vs Logistic Regression senza standardizzazione         [-0.0012  0.0194]\n",
            "Modello casuale vs Logistic Regression con standardizzazione           [0.2688 0.2877]\n",
            "Modello casuale vs Logistic Regression con Grid Search                 [0.2688 0.2878]\n",
            "Modello casuale vs Logistic Regression con PolynomialFeatures          [0.2516 0.2707]\n",
            "Modello casuale vs SVM                                                 [0.2745 0.2933]\n",
            "Modello casuale vs Decision Tree                                       [0.2777 0.2965]\n",
            "Modello casuale vs XGBoost                                             [0.2773 0.2961]\n"
          ],
          "name": "stdout"
        }
      ]
    },
    {
      "cell_type": "markdown",
      "metadata": {
        "id": "TKZgaL2CqDRQ"
      },
      "source": [
        "Dai precedenti risultati notiamo che i seguenti modelli sono statisticamente equivalenti, con confidenza del 99%, ad un modello casuale:\n",
        "- Perceptron senza standardizzazione\n",
        "- Perceptron con regolarizzazione (Grid Search)\n",
        "- Logistic Regression senza standardizzazione"
      ]
    },
    {
      "cell_type": "markdown",
      "metadata": {
        "id": "IAt7GR6ZsyDC"
      },
      "source": [
        "### Modello migliore"
      ]
    },
    {
      "cell_type": "markdown",
      "metadata": {
        "id": "q5Ben7lqtAnW"
      },
      "source": [
        "Abbiamo visto che i modelli più promettenti si equivalgono statisticamente.\n",
        "\n",
        "Di seguito si vuole effettuare un test su XGBoost, ovvero il modello che sembra aver avuto in assoluto i risultati migliori.\n",
        "<br>\n",
        "Inizialmente abbiamo potuto osservare che le nostre feature avevano un grado di correlazione basso: un modello non lineare come XGBoost ha ottenuto un buon margine fra le istanze delle due classi.\n",
        "\n",
        "Questa volta effettuiamo un'operazione di oversampling sul dataset per verificare se possiamo ottenere miglioramenti sul valore dell'accuratezza del modello."
      ]
    },
    {
      "cell_type": "code",
      "metadata": {
        "id": "WMy_e10BrWk5",
        "colab": {
          "base_uri": "https://localhost:8080/"
        },
        "outputId": "d53e0dfa-f5a9-4c8c-f9c2-2b7fed72b6ce"
      },
      "source": [
        "from imblearn.over_sampling import SMOTE\n",
        "\n",
        "sm = SMOTE(random_state=42)\n",
        "X_r_2, y_r_2 = sm.fit_resample(X, y)"
      ],
      "execution_count": null,
      "outputs": [
        {
          "output_type": "stream",
          "text": [
            "/usr/local/lib/python3.7/dist-packages/sklearn/utils/deprecation.py:87: FutureWarning: Function safe_indexing is deprecated; safe_indexing is deprecated in version 0.22 and will be removed in version 0.24.\n",
            "  warnings.warn(msg, category=FutureWarning)\n"
          ],
          "name": "stderr"
        }
      ]
    },
    {
      "cell_type": "code",
      "metadata": {
        "colab": {
          "base_uri": "https://localhost:8080/"
        },
        "id": "5NnUe3YVvuw0",
        "outputId": "cb4defd0-dc86-46ea-95ba-32bcd7771bd3"
      },
      "source": [
        "print(X.shape, X_r_2.shape)"
      ],
      "execution_count": null,
      "outputs": [
        {
          "output_type": "stream",
          "text": [
            "(381109, 11) (668798, 11)\n"
          ],
          "name": "stdout"
        }
      ]
    },
    {
      "cell_type": "code",
      "metadata": {
        "id": "aIZDje2WsYUH",
        "colab": {
          "base_uri": "https://localhost:8080/",
          "height": 263
        },
        "outputId": "986095ff-28ac-45c1-f329-771daf846c05"
      },
      "source": [
        "pd.value_counts(y_r_2).plot.pie(autopct=\"%.1f%%\", title=\"Response\");"
      ],
      "execution_count": null,
      "outputs": [
        {
          "output_type": "display_data",
          "data": {
            "image/png": "[encoded data removed]",
            "text/plain": [
              "<Figure size 432x288 with 1 Axes>"
            ]
          },
          "metadata": {
            "tags": []
          }
        }
      ]
    },
    {
      "cell_type": "code",
      "metadata": {
        "id": "yfwIOiVBsDoL",
        "colab": {
          "base_uri": "https://localhost:8080/"
        },
        "outputId": "ab60edeb-67a5-4d89-b9a3-66ef3986b295"
      },
      "source": [
        "X_train2, X_val2, y_train2, y_val2 = train_test_split(X_r_2, y_r_2, test_size = 1/3,random_state = 42)\n",
        "print(f\"X_train:{len(X_train2)}, y_train:{len(y_train2)}, X_val:{len(X_val2)}, y_val:{len(y_val2)}\") "
      ],
      "execution_count": null,
      "outputs": [
        {
          "output_type": "stream",
          "text": [
            "X_train:445865, y_train:445865, X_val:222933, y_val:222933\n"
          ],
          "name": "stdout"
        }
      ]
    },
    {
      "cell_type": "code",
      "metadata": {
        "colab": {
          "base_uri": "https://localhost:8080/"
        },
        "id": "Kw_AnMzVwlCi",
        "outputId": "1df567c4-1f0e-464d-cbe9-47ecc869b57a"
      },
      "source": [
        "xgb = Pipeline([\n",
        "    ('std', StandardScaler()),\n",
        "    ('xgb', XGBClassifier(nthread=8, objective='binary:logistic'))\n",
        "])\n",
        "\n",
        "grid = {\n",
        "    'xgb__eta': [0.002, 0.1, 0.5],\n",
        "    'xgb__max_depth': [6],\n",
        "    'xgb__n_estimators': [150, 300],\n",
        "    'xgb__alpha': [0.0001, 0.001]\n",
        "}\n",
        "\n",
        "skf = StratifiedKFold(3, shuffle=True, random_state=42)\n",
        "xgb = GridSearchCV(xgb, grid, cv=skf)\n",
        "\n",
        "xgb.fit(X_train2, y_train2)"
      ],
      "execution_count": null,
      "outputs": [
        {
          "output_type": "execute_result",
          "data": {
            "text/plain": [
              "GridSearchCV(cv=StratifiedKFold(n_splits=3, random_state=42, shuffle=True),\n",
              "             error_score=nan,\n",
              "             estimator=Pipeline(memory=None,\n",
              "                                steps=[('std',\n",
              "                                        StandardScaler(copy=True,\n",
              "                                                       with_mean=True,\n",
              "                                                       with_std=True)),\n",
              "                                       ('xgb',\n",
              "                                        XGBClassifier(base_score=0.5,\n",
              "                                                      booster='gbtree',\n",
              "                                                      colsample_bylevel=1,\n",
              "                                                      colsample_bynode=1,\n",
              "                                                      colsample_bytree=1,\n",
              "                                                      gamma=0,\n",
              "                                                      learning_rate=0.1,\n",
              "                                                      max_delta_step=0,\n",
              "                                                      max_de...\n",
              "                                                      random_state=0,\n",
              "                                                      reg_alpha=0, reg_lambda=1,\n",
              "                                                      scale_pos_weight=1,\n",
              "                                                      seed=None, silent=None,\n",
              "                                                      subsample=1,\n",
              "                                                      verbosity=1))],\n",
              "                                verbose=False),\n",
              "             iid='deprecated', n_jobs=None,\n",
              "             param_grid={'xgb__alpha': [0.0001, 0.001],\n",
              "                         'xgb__eta': [0.002, 0.1, 0.5], 'xgb__max_depth': [6],\n",
              "                         'xgb__n_estimators': [150, 300]},\n",
              "             pre_dispatch='2*n_jobs', refit=True, return_train_score=False,\n",
              "             scoring=None, verbose=0)"
            ]
          },
          "metadata": {
            "tags": []
          },
          "execution_count": 85
        }
      ]
    },
    {
      "cell_type": "code",
      "metadata": {
        "colab": {
          "base_uri": "https://localhost:8080/"
        },
        "id": "_7c4zHpjwlCj",
        "outputId": "83aafc9e-5484-4093-db85-4ad261828828"
      },
      "source": [
        "print('Accuracy on train {:.2f}%'.format(xgb.score(X_train2, y_train2)*100))\n",
        "print('Accuracy on val {:.2f}%'.format(xgb.score(X_val2, y_val2)*100))\n",
        "print('Best parameters:', xgb.best_params_)  \n",
        "print('Best score: {:.4f}%'.format(round(xgb.best_score_ * 100, 4)))"
      ],
      "execution_count": null,
      "outputs": [
        {
          "output_type": "stream",
          "text": [
            "Accuracy on train 91.56%\n",
            "Accuracy on val 91.33%\n",
            "Best parameters: {'xgb__alpha': 0.0001, 'xgb__eta': 0.002, 'xgb__max_depth': 6, 'xgb__n_estimators': 300}\n",
            "Best score: 91.2590%\n"
          ],
          "name": "stdout"
        }
      ]
    },
    {
      "cell_type": "code",
      "metadata": {
        "colab": {
          "base_uri": "https://localhost:8080/",
          "height": 108
        },
        "id": "Niq-BdTxwlCj",
        "outputId": "a2e3b73e-a3f9-4947-c8b3-35a10a1fbebe"
      },
      "source": [
        "y_pred = xgb.predict(X_val2)\n",
        "cm = confusion_matrix(y_val2, y_pred)\n",
        "pd.DataFrame(cm, index = xgb.classes_, columns = xgb.classes_)"
      ],
      "execution_count": null,
      "outputs": [
        {
          "output_type": "execute_result",
          "data": {
            "text/html": [
              "<div>\n",
              "<style scoped>\n",
              "    .dataframe tbody tr th:only-of-type {\n",
              "        vertical-align: middle;\n",
              "    }\n",
              "\n",
              "    .dataframe tbody tr th {\n",
              "        vertical-align: top;\n",
              "    }\n",
              "\n",
              "    .dataframe thead th {\n",
              "        text-align: right;\n",
              "    }\n",
              "</style>\n",
              "<table border=\"1\" class=\"dataframe\">\n",
              "  <thead>\n",
              "    <tr style=\"text-align: right;\">\n",
              "      <th></th>\n",
              "      <th>0</th>\n",
              "      <th>1</th>\n",
              "    </tr>\n",
              "  </thead>\n",
              "  <tbody>\n",
              "    <tr>\n",
              "      <th>0</th>\n",
              "      <td>108316</td>\n",
              "      <td>2960</td>\n",
              "    </tr>\n",
              "    <tr>\n",
              "      <th>1</th>\n",
              "      <td>16363</td>\n",
              "      <td>95294</td>\n",
              "    </tr>\n",
              "  </tbody>\n",
              "</table>\n",
              "</div>"
            ],
            "text/plain": [
              "        0      1\n",
              "0  108316   2960\n",
              "1   16363  95294"
            ]
          },
          "metadata": {
            "tags": []
          },
          "execution_count": 88
        }
      ]
    },
    {
      "cell_type": "code",
      "metadata": {
        "colab": {
          "base_uri": "https://localhost:8080/"
        },
        "id": "8692MsRjwlCk",
        "outputId": "48374a76-9fe4-4df8-ebeb-e5f14e3d6348"
      },
      "source": [
        "precision = precision_score(y_val2, y_pred, pos_label=0)\n",
        "recall = recall_score(y_val2, y_pred, pos_label=0)\n",
        "f1 = f1_score(y_val2, y_pred, average=\"macro\")\n",
        "\n",
        "print(f\"precision: {precision}, recall: {recall}, f1-score: {f1}\")"
      ],
      "execution_count": null,
      "outputs": [
        {
          "output_type": "stream",
          "text": [
            "precision: 0.8687589730427738, recall: 0.9733994751788346, f1-score: 0.9130269837185047\n"
          ],
          "name": "stdout"
        }
      ]
    },
    {
      "cell_type": "code",
      "metadata": {
        "colab": {
          "base_uri": "https://localhost:8080/",
          "height": 281
        },
        "id": "2hY1tzJlwlCk",
        "outputId": "858e59ee-31e6-4536-9eea-61cee4a97701"
      },
      "source": [
        "coef = pd.Series(xgb.best_estimator_[1].feature_importances_, index=X.columns)\n",
        "coef.nlargest(4).plot(kind='barh')"
      ],
      "execution_count": null,
      "outputs": [
        {
          "output_type": "execute_result",
          "data": {
            "text/plain": [
              "<matplotlib.axes._subplots.AxesSubplot at 0x7ff3aaa0cf90>"
            ]
          },
          "metadata": {
            "tags": []
          },
          "execution_count": 90
        },
        {
          "output_type": "display_data",
          "data": {
            "image/png": "[encoded data removed]",
            "text/plain": [
              "<Figure size 432x288 with 1 Axes>"
            ]
          },
          "metadata": {
            "tags": [],
            "needs_background": "light"
          }
        }
      ]
    },
    {
      "cell_type": "code",
      "metadata": {
        "colab": {
          "base_uri": "https://localhost:8080/"
        },
        "id": "HqI2zaEhwlCk",
        "outputId": "4f7a9412-5856-40ec-9191-bd1b22a9440c"
      },
      "source": [
        "print(f\"Accuracy interval: {accuracy_interval(f1)} MSE: {mean_squared_error(y_val2, y_pred)}\")"
      ],
      "execution_count": null,
      "outputs": [
        {
          "output_type": "stream",
          "text": [
            "Accuracy interval: (0.9098459124246795, 0.9161061610661022) MSE: 0.08667626596331633\n"
          ],
          "name": "stdout"
        }
      ]
    },
    {
      "cell_type": "markdown",
      "metadata": {
        "id": "YejcivkrzHmT"
      },
      "source": [
        "Precedentemente il modello aveva ottenuto il seguente intervallo di accuratezza:(0.7850219606720868, 0.794076189022998).\n",
        "\n",
        "C'è stato un miglioramento di 10-11 punti percentuali: è quindi verosimile che se avessimo effettuato un'operazione di oversampling sin dall'inizio avremmo ottenuto miglioramenti anche in altri modelli."
      ]
    }
  ]
}